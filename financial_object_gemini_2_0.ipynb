{
  "cells": [
    {
      "cell_type": "markdown",
      "metadata": {
        "id": "view-in-github",
        "colab_type": "text"
      },
      "source": [
        "<a href=\"https://colab.research.google.com/github/aniebyl/generative-ai/blob/main/financial_object_gemini_2_0.ipynb\" target=\"_parent\"><img src=\"https://colab.research.google.com/assets/colab-badge.svg\" alt=\"Open In Colab\"/></a>"
      ]
    },
    {
      "cell_type": "code",
      "execution_count": 1,
      "metadata": {
        "id": "sqi5B7V_Rjim"
      },
      "outputs": [],
      "source": [
        "# Copyright 2024 Google LLC\n",
        "#\n",
        "# Licensed under the Apache License, Version 2.0 (the \"License\");\n",
        "# you may not use this file except in compliance with the License.\n",
        "# You may obtain a copy of the License at\n",
        "#\n",
        "#     https://www.apache.org/licenses/LICENSE-2.0\n",
        "#\n",
        "# Unless required by applicable law or agreed to in writing, software\n",
        "# distributed under the License is distributed on an \"AS IS\" BASIS,\n",
        "# WITHOUT WARRANTIES OR CONDITIONS OF ANY KIND, either express or implied.\n",
        "# See the License for the specific language governing permissions and\n",
        "# limitations under the License."
      ]
    },
    {
      "cell_type": "markdown",
      "metadata": {
        "id": "VyPmicX9RlZX"
      },
      "source": [
        "# Intro to Gemini 2.0 Flash\n",
        "\n",
        "\n",
        "<table align=\"left\">\n",
        "  <td style=\"text-align: center\">\n",
        "    <a href=\"https://colab.research.google.com/github/GoogleCloudPlatform/generative-ai/blob/main/gemini/getting-started/intro_gemini_2_0_flash.ipynb\">\n",
        "      <img width=\"32px\" src=\"https://www.gstatic.com/pantheon/images/bigquery/welcome_page/colab-logo.svg\" alt=\"Google Colaboratory logo\"><br> Open in Colab\n",
        "    </a>\n",
        "  </td>\n",
        "  <td style=\"text-align: center\">\n",
        "    <a href=\"https://console.cloud.google.com/vertex-ai/colab/import/https:%2F%2Fraw.githubusercontent.com%2FGoogleCloudPlatform%2Fgenerative-ai%2Fmain%2Fgemini%2Fgetting-started%2Fintro_gemini_2_0_flash.ipynb\">\n",
        "      <img width=\"32px\" src=\"https://lh3.googleusercontent.com/JmcxdQi-qOpctIvWKgPtrzZdJJK-J3sWE1RsfjZNwshCFgE_9fULcNpuXYTilIR2hjwN\" alt=\"Google Cloud Colab Enterprise logo\"><br> Open in Colab Enterprise\n",
        "    </a>\n",
        "  </td>\n",
        "  <td style=\"text-align: center\">\n",
        "    <a href=\"https://console.cloud.google.com/vertex-ai/workbench/deploy-notebook?download_url=https://raw.githubusercontent.com/GoogleCloudPlatform/generative-ai/main/gemini/getting-started/intro_gemini_2_0_flash.ipynb\">\n",
        "      <img src=\"https://www.gstatic.com/images/branding/gcpiconscolors/vertexai/v1/32px.svg\" alt=\"Vertex AI logo\"><br> Open in Vertex AI Workbench\n",
        "    </a>\n",
        "  </td>\n",
        "  <td style=\"text-align: center\">\n",
        "    <a href=\"https://github.com/GoogleCloudPlatform/generative-ai/blob/main/gemini/getting-started/intro_gemini_2_0_flash.ipynb\">\n",
        "      <img width=\"32px\" src=\"https://upload.wikimedia.org/wikipedia/commons/9/91/Octicons-mark-github.svg\" alt=\"GitHub logo\"><br> View on GitHub\n",
        "    </a>\n",
        "  </td>\n",
        "</table>\n",
        "\n",
        "<div style=\"clear: both;\"></div>\n",
        "\n",
        "<b>Share to:</b>\n",
        "\n",
        "<a href=\"https://www.linkedin.com/sharing/share-offsite/?url=https%3A//github.com/GoogleCloudPlatform/generative-ai/blob/main/gemini/getting-started/intro_gemini_2_0_flash.ipynb\" target=\"_blank\">\n",
        "  <img width=\"20px\" src=\"https://upload.wikimedia.org/wikipedia/commons/8/81/LinkedIn_icon.svg\" alt=\"LinkedIn logo\">\n",
        "</a>\n",
        "\n",
        "<a href=\"https://bsky.app/intent/compose?text=https%3A//github.com/GoogleCloudPlatform/generative-ai/blob/main/gemini/getting-started/intro_gemini_2_0_flash.ipynb\" target=\"_blank\">\n",
        "  <img width=\"20px\" src=\"https://upload.wikimedia.org/wikipedia/commons/7/7a/Bluesky_Logo.svg\" alt=\"Bluesky logo\">\n",
        "</a>\n",
        "\n",
        "<a href=\"https://twitter.com/intent/tweet?url=https%3A//github.com/GoogleCloudPlatform/generative-ai/blob/main/gemini/getting-started/intro_gemini_2_0_flash.ipynb\" target=\"_blank\">\n",
        "  <img width=\"20px\" src=\"https://upload.wikimedia.org/wikipedia/commons/5/53/X_logo_2023_original.svg\" alt=\"X logo\">\n",
        "</a>\n",
        "\n",
        "<a href=\"https://reddit.com/submit?url=https%3A//github.com/GoogleCloudPlatform/generative-ai/blob/main/gemini/getting-started/intro_gemini_2_0_flash.ipynb\" target=\"_blank\">\n",
        "  <img width=\"20px\" src=\"https://redditinc.com/hubfs/Reddit%20Inc/Brand/Reddit_Logo.png\" alt=\"Reddit logo\">\n",
        "</a>\n",
        "\n",
        "<a href=\"https://www.facebook.com/sharer/sharer.php?u=https%3A//github.com/GoogleCloudPlatform/generative-ai/blob/main/gemini/getting-started/intro_gemini_2_0_flash.ipynb\" target=\"_blank\">\n",
        "  <img width=\"20px\" src=\"https://upload.wikimedia.org/wikipedia/commons/5/51/Facebook_f_logo_%282019%29.svg\" alt=\"Facebook logo\">\n",
        "</a>"
      ]
    },
    {
      "cell_type": "markdown",
      "metadata": {
        "id": "8MqT58L6Rm_q"
      },
      "source": [
        "| | |\n",
        "|-|-|\n",
        "| Author(s) |  [Eric Dong](https://github.com/gericdong), [Holt Skinner](https://github.com/holtskinner) |"
      ]
    },
    {
      "cell_type": "markdown",
      "metadata": {
        "id": "gPiTOAHURvTM"
      },
      "source": [
        "## Getting Started"
      ]
    },
    {
      "cell_type": "markdown",
      "metadata": {
        "id": "CHRZUpfWSEpp"
      },
      "source": [
        "### Install Google Gen AI SDK for Python\n"
      ]
    },
    {
      "cell_type": "code",
      "execution_count": 152,
      "metadata": {
        "id": "sG3_LKsWSD3A",
        "outputId": "c0a61267-8700-4517-86cb-ac36aabda5d8",
        "colab": {
          "base_uri": "https://localhost:8080/"
        }
      },
      "outputs": [
        {
          "output_type": "stream",
          "name": "stdout",
          "text": [
            "Requirement already satisfied: edgartools in /usr/local/lib/python3.11/dist-packages (3.11.5)\n",
            "Requirement already satisfied: beautifulsoup4>=4.10.0 in /usr/local/lib/python3.11/dist-packages (from edgartools) (4.13.3)\n",
            "Requirement already satisfied: fastcore>=1.5.29 in /usr/local/lib/python3.11/dist-packages (from edgartools) (1.7.29)\n",
            "Requirement already satisfied: httpx>=0.25.0 in /usr/local/lib/python3.11/dist-packages (from edgartools) (0.28.1)\n",
            "Requirement already satisfied: humanize>=4.0.0 in /usr/local/lib/python3.11/dist-packages (from edgartools) (4.11.0)\n",
            "Requirement already satisfied: lxml>=4.4 in /usr/local/lib/python3.11/dist-packages (from edgartools) (5.3.1)\n",
            "Requirement already satisfied: nest-asyncio>=1.5.1 in /usr/local/lib/python3.11/dist-packages (from edgartools) (1.6.0)\n",
            "Requirement already satisfied: orjson>=3.6.0 in /usr/local/lib/python3.11/dist-packages (from edgartools) (3.10.15)\n",
            "Requirement already satisfied: pandas>=2.0.0 in /usr/local/lib/python3.11/dist-packages (from edgartools) (2.2.2)\n",
            "Requirement already satisfied: pyarrow>=14.0.0 in /usr/local/lib/python3.11/dist-packages (from edgartools) (17.0.0)\n",
            "Requirement already satisfied: pydantic>=2.0.0 in /usr/local/lib/python3.11/dist-packages (from edgartools) (2.10.6)\n",
            "Requirement already satisfied: rank-bm25>=0.2.1 in /usr/local/lib/python3.11/dist-packages (from edgartools) (0.2.2)\n",
            "Requirement already satisfied: rapidfuzz>=3.5.0 in /usr/local/lib/python3.11/dist-packages (from edgartools) (3.12.1)\n",
            "Requirement already satisfied: rich>=13.0.0 in /usr/local/lib/python3.11/dist-packages (from edgartools) (13.9.4)\n",
            "Requirement already satisfied: stamina>=24.2.0 in /usr/local/lib/python3.11/dist-packages (from edgartools) (24.3.0)\n",
            "Requirement already satisfied: tabulate>=0.9.0 in /usr/local/lib/python3.11/dist-packages (from edgartools) (0.9.0)\n",
            "Requirement already satisfied: textdistance>=4.5.0 in /usr/local/lib/python3.11/dist-packages (from edgartools) (4.6.3)\n",
            "Requirement already satisfied: tqdm>=4.62.0 in /usr/local/lib/python3.11/dist-packages (from edgartools) (4.67.1)\n",
            "Requirement already satisfied: unidecode>=1.2.0 in /usr/local/lib/python3.11/dist-packages (from edgartools) (1.3.8)\n",
            "Requirement already satisfied: soupsieve>1.2 in /usr/local/lib/python3.11/dist-packages (from beautifulsoup4>=4.10.0->edgartools) (2.6)\n",
            "Requirement already satisfied: typing-extensions>=4.0.0 in /usr/local/lib/python3.11/dist-packages (from beautifulsoup4>=4.10.0->edgartools) (4.12.2)\n",
            "Requirement already satisfied: packaging in /usr/local/lib/python3.11/dist-packages (from fastcore>=1.5.29->edgartools) (24.2)\n",
            "Requirement already satisfied: anyio in /usr/local/lib/python3.11/dist-packages (from httpx>=0.25.0->edgartools) (3.7.1)\n",
            "Requirement already satisfied: certifi in /usr/local/lib/python3.11/dist-packages (from httpx>=0.25.0->edgartools) (2025.1.31)\n",
            "Requirement already satisfied: httpcore==1.* in /usr/local/lib/python3.11/dist-packages (from httpx>=0.25.0->edgartools) (1.0.7)\n",
            "Requirement already satisfied: idna in /usr/local/lib/python3.11/dist-packages (from httpx>=0.25.0->edgartools) (3.10)\n",
            "Requirement already satisfied: h11<0.15,>=0.13 in /usr/local/lib/python3.11/dist-packages (from httpcore==1.*->httpx>=0.25.0->edgartools) (0.14.0)\n",
            "Requirement already satisfied: numpy>=1.23.2 in /usr/local/lib/python3.11/dist-packages (from pandas>=2.0.0->edgartools) (1.26.4)\n",
            "Requirement already satisfied: python-dateutil>=2.8.2 in /usr/local/lib/python3.11/dist-packages (from pandas>=2.0.0->edgartools) (2.9.0.post0)\n",
            "Requirement already satisfied: pytz>=2020.1 in /usr/local/lib/python3.11/dist-packages (from pandas>=2.0.0->edgartools) (2025.1)\n",
            "Requirement already satisfied: tzdata>=2022.7 in /usr/local/lib/python3.11/dist-packages (from pandas>=2.0.0->edgartools) (2025.1)\n",
            "Requirement already satisfied: annotated-types>=0.6.0 in /usr/local/lib/python3.11/dist-packages (from pydantic>=2.0.0->edgartools) (0.7.0)\n",
            "Requirement already satisfied: pydantic-core==2.27.2 in /usr/local/lib/python3.11/dist-packages (from pydantic>=2.0.0->edgartools) (2.27.2)\n",
            "Requirement already satisfied: markdown-it-py>=2.2.0 in /usr/local/lib/python3.11/dist-packages (from rich>=13.0.0->edgartools) (3.0.0)\n",
            "Requirement already satisfied: pygments<3.0.0,>=2.13.0 in /usr/local/lib/python3.11/dist-packages (from rich>=13.0.0->edgartools) (2.18.0)\n",
            "Requirement already satisfied: tenacity in /usr/local/lib/python3.11/dist-packages (from stamina>=24.2.0->edgartools) (9.0.0)\n",
            "Requirement already satisfied: mdurl~=0.1 in /usr/local/lib/python3.11/dist-packages (from markdown-it-py>=2.2.0->rich>=13.0.0->edgartools) (0.1.2)\n",
            "Requirement already satisfied: six>=1.5 in /usr/local/lib/python3.11/dist-packages (from python-dateutil>=2.8.2->pandas>=2.0.0->edgartools) (1.17.0)\n",
            "Requirement already satisfied: sniffio>=1.1 in /usr/local/lib/python3.11/dist-packages (from anyio->httpx>=0.25.0->edgartools) (1.3.1)\n",
            "Requirement already satisfied: pyetrade in /usr/local/lib/python3.11/dist-packages (2.1.1)\n",
            "Requirement already satisfied: jxmlease<2.0.0,>=1.0.3 in /usr/local/lib/python3.11/dist-packages (from pyetrade) (1.0.3)\n",
            "Requirement already satisfied: python-dateutil<3.0.0,>=2.9.0.post0 in /usr/local/lib/python3.11/dist-packages (from pyetrade) (2.9.0.post0)\n",
            "Requirement already satisfied: requests<3.0.0,>=2.31.0 in /usr/local/lib/python3.11/dist-packages (from pyetrade) (2.32.3)\n",
            "Requirement already satisfied: requests-oauthlib<3.0.0,>=2.0.0 in /usr/local/lib/python3.11/dist-packages (from pyetrade) (2.0.0)\n",
            "Requirement already satisfied: urllib3==1.26.19 in /usr/local/lib/python3.11/dist-packages (from pyetrade) (1.26.19)\n",
            "Requirement already satisfied: xmltodict<0.14.0,>=0.13.0 in /usr/local/lib/python3.11/dist-packages (from pyetrade) (0.13.0)\n",
            "Requirement already satisfied: six>=1.5 in /usr/local/lib/python3.11/dist-packages (from python-dateutil<3.0.0,>=2.9.0.post0->pyetrade) (1.17.0)\n",
            "Requirement already satisfied: charset-normalizer<4,>=2 in /usr/local/lib/python3.11/dist-packages (from requests<3.0.0,>=2.31.0->pyetrade) (3.4.1)\n",
            "Requirement already satisfied: idna<4,>=2.5 in /usr/local/lib/python3.11/dist-packages (from requests<3.0.0,>=2.31.0->pyetrade) (3.10)\n",
            "Requirement already satisfied: certifi>=2017.4.17 in /usr/local/lib/python3.11/dist-packages (from requests<3.0.0,>=2.31.0->pyetrade) (2025.1.31)\n",
            "Requirement already satisfied: oauthlib>=3.0.0 in /usr/local/lib/python3.11/dist-packages (from requests-oauthlib<3.0.0,>=2.0.0->pyetrade) (3.2.2)\n",
            "Requirement already satisfied: rauth in /usr/local/lib/python3.11/dist-packages (0.7.3)\n",
            "Requirement already satisfied: requests>=1.2.3 in /usr/local/lib/python3.11/dist-packages (from rauth) (2.32.3)\n",
            "Requirement already satisfied: charset-normalizer<4,>=2 in /usr/local/lib/python3.11/dist-packages (from requests>=1.2.3->rauth) (3.4.1)\n",
            "Requirement already satisfied: idna<4,>=2.5 in /usr/local/lib/python3.11/dist-packages (from requests>=1.2.3->rauth) (3.10)\n",
            "Requirement already satisfied: urllib3<3,>=1.21.1 in /usr/local/lib/python3.11/dist-packages (from requests>=1.2.3->rauth) (1.26.19)\n",
            "Requirement already satisfied: certifi>=2017.4.17 in /usr/local/lib/python3.11/dist-packages (from requests>=1.2.3->rauth) (2025.1.31)\n"
          ]
        }
      ],
      "source": [
        "!pip install --upgrade --quiet google-genai\n",
        "!pip install edgartools\n",
        "!pip install pyetrade\n",
        "!pip install rauth"
      ]
    },
    {
      "cell_type": "markdown",
      "metadata": {
        "id": "HlMVjiAWSMNX"
      },
      "source": [
        "### Authenticate your notebook environment (Colab only)\n",
        "\n",
        "If you are running this notebook on Google Colab, run the cell below to authenticate your environment."
      ]
    },
    {
      "cell_type": "code",
      "execution_count": 153,
      "metadata": {
        "id": "12fnq4V0SNV3"
      },
      "outputs": [],
      "source": [
        "import sys\n",
        "\n",
        "if \"google.colab\" in sys.modules:\n",
        "    from google.colab import auth\n",
        "\n",
        "    auth.authenticate_user()"
      ]
    },
    {
      "cell_type": "markdown",
      "metadata": {
        "id": "Ve4YBlDqzyj9"
      },
      "source": [
        "### Connect to a generative AI API service\n",
        "\n",
        "Google Gen AI APIs and models including Gemini are available in the following two API services:\n",
        "\n",
        "- **[Google AI for Developers](https://ai.google.dev/gemini-api/docs)**: Experiment, prototype, and deploy small projects.\n",
        "- **[Vertex AI](https://cloud.google.com/vertex-ai/generative-ai/docs/overview)**: Build enterprise-ready projects on Google Cloud.\n",
        "\n",
        "The Google Gen AI SDK provides a unified interface to these two API services.\n",
        "\n",
        "This notebook shows how to use the Google Gen AI SDK with the Gemini API in Vertex AI."
      ]
    },
    {
      "cell_type": "markdown",
      "metadata": {
        "id": "EdvJRUWRNGHE"
      },
      "source": [
        "### Import libraries\n"
      ]
    },
    {
      "cell_type": "code",
      "execution_count": 154,
      "metadata": {
        "id": "qgdSpVmDbdQ9"
      },
      "outputs": [],
      "source": [
        "from IPython.display import HTML, Markdown, display\n",
        "from google import genai\n",
        "from google.genai.types import (\n",
        "    FunctionDeclaration,\n",
        "    GenerateContentConfig,\n",
        "    GoogleSearch,\n",
        "    Part,\n",
        "    Retrieval,\n",
        "    SafetySetting,\n",
        "    Tool,\n",
        "    VertexAISearch,\n",
        ")"
      ]
    },
    {
      "cell_type": "markdown",
      "metadata": {
        "id": "LymmEN6GSTn-"
      },
      "source": [
        "### Set Google Cloud project information and create client\n",
        "\n",
        "To get started using Vertex AI, you must have an existing Google Cloud project and [enable the Vertex AI API](https://console.cloud.google.com/flows/enableapi?apiid=aiplatform.googleapis.com).\n",
        "\n",
        "Learn more about [setting up a project and a development environment](https://cloud.google.com/vertex-ai/docs/start/cloud-environment)."
      ]
    },
    {
      "cell_type": "code",
      "execution_count": 155,
      "metadata": {
        "id": "UCgUOv4nSWhc"
      },
      "outputs": [],
      "source": [
        "import os\n",
        "\n",
        "PROJECT_ID = \"ololand-mvp\"  # @param {type: \"string\", placeholder: \"[your-project-id]\", isTemplate: true}\n",
        "if not PROJECT_ID or PROJECT_ID == \"[your-project-id]\":\n",
        "    PROJECT_ID = str(os.environ.get(\"GOOGLE_CLOUD_PROJECT\"))\n",
        "\n",
        "LOCATION = os.environ.get(\"GOOGLE_CLOUD_REGION\", \"us-central1\")"
      ]
    },
    {
      "cell_type": "code",
      "execution_count": 156,
      "metadata": {
        "id": "zpIPG_YhSjaw"
      },
      "outputs": [],
      "source": [
        "client = genai.Client(vertexai=True, project=PROJECT_ID, location=LOCATION)"
      ]
    },
    {
      "cell_type": "markdown",
      "metadata": {
        "id": "n4yRkFg6BBu4"
      },
      "source": [
        "## Use the Gemini 2.0 Flash model"
      ]
    },
    {
      "cell_type": "markdown",
      "metadata": {
        "id": "eXHJi5B6P5vd"
      },
      "source": [
        "### Load the Gemini 2.0 Flash model\n",
        "\n",
        "To learn more about all [Gemini models on Vertex AI](https://cloud.google.com/vertex-ai/generative-ai/docs/learn/models#gemini-models)."
      ]
    },
    {
      "cell_type": "code",
      "execution_count": 157,
      "metadata": {
        "id": "-coEslfWPrxo"
      },
      "outputs": [],
      "source": [
        "MODEL_ID = \"gemini-2.0-flash\"  # @param {type: \"string\"}"
      ]
    },
    {
      "cell_type": "markdown",
      "metadata": {
        "id": "JkYQATRxAK1_"
      },
      "source": [
        "#### Example prompts\n",
        "\n",
        "- What are the biggest challenges facing the healthcare industry?\n",
        "- What are the latest developments in the automotive industry?\n",
        "- What are the biggest opportunities in retail industry?\n",
        "- (Try your own prompts!)"
      ]
    },
    {
      "cell_type": "markdown",
      "metadata": {
        "id": "hIJVEr0RQY8S"
      },
      "source": [
        "## Configure model parameters\n",
        "\n",
        "You can include parameter values in each call that you send to a model to control how the model generates a response. The model can generate different results for different parameter values. You can experiment with different model parameters to see how the results change.\n",
        "\n",
        "- Learn more about [experimenting with parameter values](https://cloud.google.com/vertex-ai/generative-ai/docs/learn/prompts/adjust-parameter-values).\n",
        "\n",
        "- See a list of all [Gemini API parameters](https://cloud.google.com/vertex-ai/generative-ai/docs/model-reference/inference#parameters).\n"
      ]
    },
    {
      "cell_type": "code",
      "execution_count": 8,
      "metadata": {
        "id": "d9NXP5N2Pmfo",
        "outputId": "5404a392-d5c1-426e-cc12-2dd054961779",
        "colab": {
          "base_uri": "https://localhost:8080/",
          "height": 0
        }
      },
      "outputs": [
        {
          "output_type": "display_data",
          "data": {
            "text/plain": [
              "<IPython.core.display.Markdown object>"
            ],
            "text/markdown": "Okay, woof woof! Let's talk about the internet!\n\nImagine you have your favorite squeaky toy, right? *Squeak! Squeak!* The internet is like a HUGE playground filled with ALL the squeaky toys in the world!\n\nNow, you want to play with a specific squeaky toy, say the one shaped like a squirrel. *Squeak!*\n\n1.  **You Bark (Make a Request):** You bark really loud"
          },
          "metadata": {}
        }
      ],
      "source": [
        "response = client.models.generate_content(\n",
        "    model=MODEL_ID,\n",
        "    contents=\"Tell me how the internet works, but pretend I'm a puppy who only understands squeaky toys.\",\n",
        "    config=GenerateContentConfig(\n",
        "        temperature=0.4,\n",
        "        top_p=0.95,\n",
        "        top_k=20,\n",
        "        candidate_count=1,\n",
        "        seed=5,\n",
        "        max_output_tokens=100,\n",
        "        stop_sequences=[\"STOP!\"],\n",
        "        presence_penalty=0.0,\n",
        "        frequency_penalty=0.0,\n",
        "    ),\n",
        ")\n",
        "\n",
        "display(Markdown(response.text))"
      ]
    },
    {
      "cell_type": "markdown",
      "metadata": {
        "id": "rVlo0mWuZGkQ"
      },
      "source": [
        "# Control generated output\n",
        "\n",
        "[Controlled generation](https://cloud.google.com/vertex-ai/generative-ai/docs/multimodal/control-generated-output) allows you to define a response schema to specify the structure of a model's output, the field names, and the expected data type for each field.\n",
        "\n",
        "The response schema is specified in the `response_schema` parameter in `config`, and the model output will strictly follow that schema.\n",
        "\n",
        "You can provide the schemas as [Pydantic](https://docs.pydantic.dev/) models or a [JSON](https://www.json.org/json-en.html) string and the model will respond as JSON or an [Enum](https://docs.python.org/3/library/enum.html) depending on the value set in `response_mime_type`.\n"
      ]
    },
    {
      "cell_type": "markdown",
      "source": [
        "## Financial Examples"
      ],
      "metadata": {
        "id": "TFdpsObs8CAs"
      }
    },
    {
      "cell_type": "markdown",
      "source": [
        "### Google Search for Public Company such as Adobe"
      ],
      "metadata": {
        "id": "82E2X2GRtVBI"
      }
    },
    {
      "cell_type": "code",
      "source": [
        "google_search_tool = Tool(google_search=GoogleSearch())\n",
        "\n",
        "response = client.models.generate_content(\n",
        "    model=MODEL_ID,\n",
        "    contents=\"What is current Adobe stock price? Make sure it is accurate\",\n",
        "    config=GenerateContentConfig(tools=[google_search_tool]),\n",
        ")\n",
        "\n",
        "display(Markdown(response.text))\n",
        "\n",
        "print(response.candidates[0].grounding_metadata)\n",
        "\n",
        "HTML(response.candidates[0].grounding_metadata.search_entry_point.rendered_content)"
      ],
      "metadata": {
        "colab": {
          "base_uri": "https://localhost:8080/",
          "height": 132
        },
        "id": "pHQFyn-s-vdB",
        "outputId": "a5a05b3c-5ad9-46de-f76f-3a05e519f014"
      },
      "execution_count": 158,
      "outputs": [
        {
          "output_type": "display_data",
          "data": {
            "text/plain": [
              "<IPython.core.display.Markdown object>"
            ],
            "text/markdown": "As of February 21, 2025, Adobe's (ADBE) stock price is $444.32. It has decreased by -1.48% in the past 24 hours.\n"
          },
          "metadata": {}
        },
        {
          "output_type": "stream",
          "name": "stdout",
          "text": [
            "grounding_chunks=[GroundingChunk(retrieved_context=None, web=GroundingChunkWeb(title='tradingview.com', uri='https://vertexaisearch.cloud.google.com/grounding-api-redirect/AUBnsYvw4IOjXOu49a-fjSz0I7wbgv1xel1XlDNZOjJq0Igh01Gu7CaTu94R3i2VonOrUCUxzSj5n9rdQDLlX8v1gmbluTTc98l_Zre0_FESMeuSB0Wn8usGygDMKt3RrmgwmRytNXIKtt5f4bCh'))] grounding_supports=[GroundingSupport(confidence_scores=[0.98842], grounding_chunk_indices=[0], segment=Segment(end_index=112, part_index=None, start_index=64, text='It has decreased by -1.48% in the past 24 hours.'))] retrieval_metadata=RetrievalMetadata(google_search_dynamic_retrieval_score=None) retrieval_queries=None search_entry_point=SearchEntryPoint(rendered_content='<style>\\n.container {\\n  align-items: center;\\n  border-radius: 8px;\\n  display: flex;\\n  font-family: Google Sans, Roboto, sans-serif;\\n  font-size: 14px;\\n  line-height: 20px;\\n  padding: 8px 12px;\\n}\\n.chip {\\n  display: inline-block;\\n  border: solid 1px;\\n  border-radius: 16px;\\n  min-width: 14px;\\n  padding: 5px 16px;\\n  text-align: center;\\n  user-select: none;\\n  margin: 0 8px;\\n  -webkit-tap-highlight-color: transparent;\\n}\\n.carousel {\\n  overflow: auto;\\n  scrollbar-width: none;\\n  white-space: nowrap;\\n  margin-right: -12px;\\n}\\n.headline {\\n  display: flex;\\n  margin-right: 4px;\\n}\\n.gradient-container {\\n  position: relative;\\n}\\n.gradient {\\n  position: absolute;\\n  transform: translate(3px, -9px);\\n  height: 36px;\\n  width: 9px;\\n}\\n@media (prefers-color-scheme: light) {\\n  .container {\\n    background-color: #fafafa;\\n    box-shadow: 0 0 0 1px #0000000f;\\n  }\\n  .headline-label {\\n    color: #1f1f1f;\\n  }\\n  .chip {\\n    background-color: #ffffff;\\n    border-color: #d2d2d2;\\n    color: #5e5e5e;\\n    text-decoration: none;\\n  }\\n  .chip:hover {\\n    background-color: #f2f2f2;\\n  }\\n  .chip:focus {\\n    background-color: #f2f2f2;\\n  }\\n  .chip:active {\\n    background-color: #d8d8d8;\\n    border-color: #b6b6b6;\\n  }\\n  .logo-dark {\\n    display: none;\\n  }\\n  .gradient {\\n    background: linear-gradient(90deg, #fafafa 15%, #fafafa00 100%);\\n  }\\n}\\n@media (prefers-color-scheme: dark) {\\n  .container {\\n    background-color: #1f1f1f;\\n    box-shadow: 0 0 0 1px #ffffff26;\\n  }\\n  .headline-label {\\n    color: #fff;\\n  }\\n  .chip {\\n    background-color: #2c2c2c;\\n    border-color: #3c4043;\\n    color: #fff;\\n    text-decoration: none;\\n  }\\n  .chip:hover {\\n    background-color: #353536;\\n  }\\n  .chip:focus {\\n    background-color: #353536;\\n  }\\n  .chip:active {\\n    background-color: #464849;\\n    border-color: #53575b;\\n  }\\n  .logo-light {\\n    display: none;\\n  }\\n  .gradient {\\n    background: linear-gradient(90deg, #1f1f1f 15%, #1f1f1f00 100%);\\n  }\\n}\\n</style>\\n<div class=\"container\">\\n  <div class=\"headline\">\\n    <svg class=\"logo-light\" width=\"18\" height=\"18\" viewBox=\"9 9 35 35\" fill=\"none\" xmlns=\"http://www.w3.org/2000/svg\">\\n      <path fill-rule=\"evenodd\" clip-rule=\"evenodd\" d=\"M42.8622 27.0064C42.8622 25.7839 42.7525 24.6084 42.5487 23.4799H26.3109V30.1568H35.5897C35.1821 32.3041 33.9596 34.1222 32.1258 35.3448V39.6864H37.7213C40.9814 36.677 42.8622 32.2571 42.8622 27.0064V27.0064Z\" fill=\"#4285F4\"/>\\n      <path fill-rule=\"evenodd\" clip-rule=\"evenodd\" d=\"M26.3109 43.8555C30.9659 43.8555 34.8687 42.3195 37.7213 39.6863L32.1258 35.3447C30.5898 36.3792 28.6306 37.0061 26.3109 37.0061C21.8282 37.0061 18.0195 33.9811 16.6559 29.906H10.9194V34.3573C13.7563 39.9841 19.5712 43.8555 26.3109 43.8555V43.8555Z\" fill=\"#34A853\"/>\\n      <path fill-rule=\"evenodd\" clip-rule=\"evenodd\" d=\"M16.6559 29.8904C16.3111 28.8559 16.1074 27.7588 16.1074 26.6146C16.1074 25.4704 16.3111 24.3733 16.6559 23.3388V18.8875H10.9194C9.74388 21.2072 9.06992 23.8247 9.06992 26.6146C9.06992 29.4045 9.74388 32.022 10.9194 34.3417L15.3864 30.8621L16.6559 29.8904V29.8904Z\" fill=\"#FBBC05\"/>\\n      <path fill-rule=\"evenodd\" clip-rule=\"evenodd\" d=\"M26.3109 16.2386C28.85 16.2386 31.107 17.1164 32.9095 18.8091L37.8466 13.8719C34.853 11.082 30.9659 9.3736 26.3109 9.3736C19.5712 9.3736 13.7563 13.245 10.9194 18.8875L16.6559 23.3388C18.0195 19.2636 21.8282 16.2386 26.3109 16.2386V16.2386Z\" fill=\"#EA4335\"/>\\n    </svg>\\n    <svg class=\"logo-dark\" width=\"18\" height=\"18\" viewBox=\"0 0 48 48\" xmlns=\"http://www.w3.org/2000/svg\">\\n      <circle cx=\"24\" cy=\"23\" fill=\"#FFF\" r=\"22\"/>\\n      <path d=\"M33.76 34.26c2.75-2.56 4.49-6.37 4.49-11.26 0-.89-.08-1.84-.29-3H24.01v5.99h8.03c-.4 2.02-1.5 3.56-3.07 4.56v.75l3.91 2.97h.88z\" fill=\"#4285F4\"/>\\n      <path d=\"M15.58 25.77A8.845 8.845 0 0 0 24 31.86c1.92 0 3.62-.46 4.97-1.31l4.79 3.71C31.14 36.7 27.65 38 24 38c-5.93 0-11.01-3.4-13.45-8.36l.17-1.01 4.06-2.85h.8z\" fill=\"#34A853\"/>\\n      <path d=\"M15.59 20.21a8.864 8.864 0 0 0 0 5.58l-5.03 3.86c-.98-2-1.53-4.25-1.53-6.64 0-2.39.55-4.64 1.53-6.64l1-.22 3.81 2.98.22 1.08z\" fill=\"#FBBC05\"/>\\n      <path d=\"M24 14.14c2.11 0 4.02.75 5.52 1.98l4.36-4.36C31.22 9.43 27.81 8 24 8c-5.93 0-11.01 3.4-13.45 8.36l5.03 3.85A8.86 8.86 0 0 1 24 14.14z\" fill=\"#EA4335\"/>\\n    </svg>\\n    <div class=\"gradient-container\"><div class=\"gradient\"></div></div>\\n  </div>\\n  <div class=\"carousel\">\\n    <a class=\"chip\" href=\"https://vertexaisearch.cloud.google.com/grounding-api-redirect/AUBnsYtf0T2-Fevk_ecrdqpMF0ft2Sfrx4A-DXjUBos4tKBo9BViSULwXiMP7mRLuZIfEchXKviZTo6PtdAnv2TVxFhQeo2z7_vD7JybgL0kRTgXK5y5tcM2ry-lZwnaw63UiH9Y7eTZarbj_LnFMhbmFiIUnR2Z_dj1Qpqr6H_RKXvw6Vcqk17CThuLNr_uThZUt_FFxOI=\">Adobe stock price</a>\\n  </div>\\n</div>\\n', sdk_blob=None) web_search_queries=['Adobe stock price']\n"
          ]
        },
        {
          "output_type": "execute_result",
          "data": {
            "text/plain": [
              "<IPython.core.display.HTML object>"
            ],
            "text/html": [
              "<style>\n",
              ".container {\n",
              "  align-items: center;\n",
              "  border-radius: 8px;\n",
              "  display: flex;\n",
              "  font-family: Google Sans, Roboto, sans-serif;\n",
              "  font-size: 14px;\n",
              "  line-height: 20px;\n",
              "  padding: 8px 12px;\n",
              "}\n",
              ".chip {\n",
              "  display: inline-block;\n",
              "  border: solid 1px;\n",
              "  border-radius: 16px;\n",
              "  min-width: 14px;\n",
              "  padding: 5px 16px;\n",
              "  text-align: center;\n",
              "  user-select: none;\n",
              "  margin: 0 8px;\n",
              "  -webkit-tap-highlight-color: transparent;\n",
              "}\n",
              ".carousel {\n",
              "  overflow: auto;\n",
              "  scrollbar-width: none;\n",
              "  white-space: nowrap;\n",
              "  margin-right: -12px;\n",
              "}\n",
              ".headline {\n",
              "  display: flex;\n",
              "  margin-right: 4px;\n",
              "}\n",
              ".gradient-container {\n",
              "  position: relative;\n",
              "}\n",
              ".gradient {\n",
              "  position: absolute;\n",
              "  transform: translate(3px, -9px);\n",
              "  height: 36px;\n",
              "  width: 9px;\n",
              "}\n",
              "@media (prefers-color-scheme: light) {\n",
              "  .container {\n",
              "    background-color: #fafafa;\n",
              "    box-shadow: 0 0 0 1px #0000000f;\n",
              "  }\n",
              "  .headline-label {\n",
              "    color: #1f1f1f;\n",
              "  }\n",
              "  .chip {\n",
              "    background-color: #ffffff;\n",
              "    border-color: #d2d2d2;\n",
              "    color: #5e5e5e;\n",
              "    text-decoration: none;\n",
              "  }\n",
              "  .chip:hover {\n",
              "    background-color: #f2f2f2;\n",
              "  }\n",
              "  .chip:focus {\n",
              "    background-color: #f2f2f2;\n",
              "  }\n",
              "  .chip:active {\n",
              "    background-color: #d8d8d8;\n",
              "    border-color: #b6b6b6;\n",
              "  }\n",
              "  .logo-dark {\n",
              "    display: none;\n",
              "  }\n",
              "  .gradient {\n",
              "    background: linear-gradient(90deg, #fafafa 15%, #fafafa00 100%);\n",
              "  }\n",
              "}\n",
              "@media (prefers-color-scheme: dark) {\n",
              "  .container {\n",
              "    background-color: #1f1f1f;\n",
              "    box-shadow: 0 0 0 1px #ffffff26;\n",
              "  }\n",
              "  .headline-label {\n",
              "    color: #fff;\n",
              "  }\n",
              "  .chip {\n",
              "    background-color: #2c2c2c;\n",
              "    border-color: #3c4043;\n",
              "    color: #fff;\n",
              "    text-decoration: none;\n",
              "  }\n",
              "  .chip:hover {\n",
              "    background-color: #353536;\n",
              "  }\n",
              "  .chip:focus {\n",
              "    background-color: #353536;\n",
              "  }\n",
              "  .chip:active {\n",
              "    background-color: #464849;\n",
              "    border-color: #53575b;\n",
              "  }\n",
              "  .logo-light {\n",
              "    display: none;\n",
              "  }\n",
              "  .gradient {\n",
              "    background: linear-gradient(90deg, #1f1f1f 15%, #1f1f1f00 100%);\n",
              "  }\n",
              "}\n",
              "</style>\n",
              "<div class=\"container\">\n",
              "  <div class=\"headline\">\n",
              "    <svg class=\"logo-light\" width=\"18\" height=\"18\" viewBox=\"9 9 35 35\" fill=\"none\" xmlns=\"http://www.w3.org/2000/svg\">\n",
              "      <path fill-rule=\"evenodd\" clip-rule=\"evenodd\" d=\"M42.8622 27.0064C42.8622 25.7839 42.7525 24.6084 42.5487 23.4799H26.3109V30.1568H35.5897C35.1821 32.3041 33.9596 34.1222 32.1258 35.3448V39.6864H37.7213C40.9814 36.677 42.8622 32.2571 42.8622 27.0064V27.0064Z\" fill=\"#4285F4\"/>\n",
              "      <path fill-rule=\"evenodd\" clip-rule=\"evenodd\" d=\"M26.3109 43.8555C30.9659 43.8555 34.8687 42.3195 37.7213 39.6863L32.1258 35.3447C30.5898 36.3792 28.6306 37.0061 26.3109 37.0061C21.8282 37.0061 18.0195 33.9811 16.6559 29.906H10.9194V34.3573C13.7563 39.9841 19.5712 43.8555 26.3109 43.8555V43.8555Z\" fill=\"#34A853\"/>\n",
              "      <path fill-rule=\"evenodd\" clip-rule=\"evenodd\" d=\"M16.6559 29.8904C16.3111 28.8559 16.1074 27.7588 16.1074 26.6146C16.1074 25.4704 16.3111 24.3733 16.6559 23.3388V18.8875H10.9194C9.74388 21.2072 9.06992 23.8247 9.06992 26.6146C9.06992 29.4045 9.74388 32.022 10.9194 34.3417L15.3864 30.8621L16.6559 29.8904V29.8904Z\" fill=\"#FBBC05\"/>\n",
              "      <path fill-rule=\"evenodd\" clip-rule=\"evenodd\" d=\"M26.3109 16.2386C28.85 16.2386 31.107 17.1164 32.9095 18.8091L37.8466 13.8719C34.853 11.082 30.9659 9.3736 26.3109 9.3736C19.5712 9.3736 13.7563 13.245 10.9194 18.8875L16.6559 23.3388C18.0195 19.2636 21.8282 16.2386 26.3109 16.2386V16.2386Z\" fill=\"#EA4335\"/>\n",
              "    </svg>\n",
              "    <svg class=\"logo-dark\" width=\"18\" height=\"18\" viewBox=\"0 0 48 48\" xmlns=\"http://www.w3.org/2000/svg\">\n",
              "      <circle cx=\"24\" cy=\"23\" fill=\"#FFF\" r=\"22\"/>\n",
              "      <path d=\"M33.76 34.26c2.75-2.56 4.49-6.37 4.49-11.26 0-.89-.08-1.84-.29-3H24.01v5.99h8.03c-.4 2.02-1.5 3.56-3.07 4.56v.75l3.91 2.97h.88z\" fill=\"#4285F4\"/>\n",
              "      <path d=\"M15.58 25.77A8.845 8.845 0 0 0 24 31.86c1.92 0 3.62-.46 4.97-1.31l4.79 3.71C31.14 36.7 27.65 38 24 38c-5.93 0-11.01-3.4-13.45-8.36l.17-1.01 4.06-2.85h.8z\" fill=\"#34A853\"/>\n",
              "      <path d=\"M15.59 20.21a8.864 8.864 0 0 0 0 5.58l-5.03 3.86c-.98-2-1.53-4.25-1.53-6.64 0-2.39.55-4.64 1.53-6.64l1-.22 3.81 2.98.22 1.08z\" fill=\"#FBBC05\"/>\n",
              "      <path d=\"M24 14.14c2.11 0 4.02.75 5.52 1.98l4.36-4.36C31.22 9.43 27.81 8 24 8c-5.93 0-11.01 3.4-13.45 8.36l5.03 3.85A8.86 8.86 0 0 1 24 14.14z\" fill=\"#EA4335\"/>\n",
              "    </svg>\n",
              "    <div class=\"gradient-container\"><div class=\"gradient\"></div></div>\n",
              "  </div>\n",
              "  <div class=\"carousel\">\n",
              "    <a class=\"chip\" href=\"https://vertexaisearch.cloud.google.com/grounding-api-redirect/AUBnsYtf0T2-Fevk_ecrdqpMF0ft2Sfrx4A-DXjUBos4tKBo9BViSULwXiMP7mRLuZIfEchXKviZTo6PtdAnv2TVxFhQeo2z7_vD7JybgL0kRTgXK5y5tcM2ry-lZwnaw63UiH9Y7eTZarbj_LnFMhbmFiIUnR2Z_dj1Qpqr6H_RKXvw6Vcqk17CThuLNr_uThZUt_FFxOI=\">Adobe stock price</a>\n",
              "  </div>\n",
              "</div>\n"
            ]
          },
          "metadata": {},
          "execution_count": 158
        }
      ]
    },
    {
      "cell_type": "code",
      "execution_count": 159,
      "metadata": {
        "outputId": "9fd8ed00-2ab8-442c-82fb-5a011954b84a",
        "colab": {
          "base_uri": "https://localhost:8080/",
          "height": 722
        },
        "id": "p8CpThpb8Uce"
      },
      "outputs": [
        {
          "output_type": "display_data",
          "data": {
            "text/plain": [
              "<IPython.core.display.Markdown object>"
            ],
            "text/markdown": "Here is the financial data for Adobe (ADBE) for fiscal year 2024, organized as requested. All dollar amounts are in millions.\n\n```json\n{\n        \"Stock Price\": 444.32,\n        \"Share Price\": 444.32,\n        \"Earnings Per Share\": 12.36,\n        \"Total Revenue\": 21505,\n        \"COGS\": null,\n        \"Operating Income\": 6741,\n        \"Net Income\": 5560,\n        \"Revenue Growth\": 11,\n        \"Gross Profit Margin\": 89,\n        \"Operating Margin\": 31.35,\n        \"Net Profit Margin\": 25.85,\n        \"Return on Equity\": 36.31,\n        \"Return on Assets\": 18.5,\n        \"Debt-to-Equity Ratio\": 0.43,\n        \"Current Ratio\": null,\n        \"Quick Ratio\": null,\n        \"Price-to-Earnings Ratio\": 35.83,\n        \"Starting ARR\": null,\n        \"Net New ARR\": 2000,\n        \"Ending ARR\": 17330,\n        \"ARR Growth\": null\n}\n```\n\nPlease note the following:\n\n*   **Stock and Share Price:** The latest available stock price is as of February 21, 2025.\n*   **Revenue Growth:** This is the percentage increase in total revenue compared to the previous fiscal year.\n*   **Gross Profit Margin:** Calculated using a gross profit of $19,150 million.\n*   **Operating Margin:** Calculated using the total revenue and operating income values provided.\n*   **Net Profit Margin:** Calculated using the total revenue and net income values provided.\n*   **ARR Growth:** Could not be calculated because the \"Starting ARR\" was not available in the search results.\n*   **COGS, Current Ratio, Quick Ratio:** These values were not available in the provided search results.\n*   **Debt-to-Equity Ratio:** There are multiple values for the Debt-to-Equity Ratio, including 0.29, 0.399, and 0.43. The value of 0.43 was used since it was most recently updated as of November 2024.\n\n"
          },
          "metadata": {}
        },
        {
          "output_type": "stream",
          "name": "stdout",
          "text": [
            "grounding_chunks=[GroundingChunk(retrieved_context=None, web=GroundingChunkWeb(title='captide.co', uri='https://vertexaisearch.cloud.google.com/grounding-api-redirect/AUBnsYsLwgqKMaNUxvw1NPZAJfCLtzO3tAmJQyf6lSwXkZ3-qPqWTnZyXHmCa0KWLeZmGVNvuMl76wj9jjfQpPRsIJPLpfQcM0UXI_WvgUQ39I_LFda3c7lwlZf5bLTYiP3NYUP1CGqiR6T9IQ==')), GroundingChunk(retrieved_context=None, web=GroundingChunkWeb(title='stockanalysis.com', uri='https://vertexaisearch.cloud.google.com/grounding-api-redirect/AUBnsYvDaj4TsEulLpu2E1KAhiFm11rbbYByzg9QjuDISaFzp2brtcLo1652hZmJZa8i7V67HLNmqrblKSsD3QQ6llYe9a-GDWCiSUorunBNR-iPiEmNu5mLUZ68W6bJZMhXGyvtePvWPz0kkTu_pbc='))] grounding_supports=[GroundingSupport(confidence_scores=[0.6064689], grounding_chunk_indices=[0], segment=Segment(end_index=1049, part_index=None, start_index=939, text='*   **Revenue Growth:** This is the percentage increase in total revenue compared to the previous fiscal year.')), GroundingSupport(confidence_scores=[0.61895794], grounding_chunk_indices=[1], segment=Segment(end_index=1130, part_index=None, start_index=1050, text='*   **Gross Profit Margin:** Calculated using a gross profit of $19,150 million.'))] retrieval_metadata=RetrievalMetadata(google_search_dynamic_retrieval_score=None) retrieval_queries=None search_entry_point=SearchEntryPoint(rendered_content='<style>\\n.container {\\n  align-items: center;\\n  border-radius: 8px;\\n  display: flex;\\n  font-family: Google Sans, Roboto, sans-serif;\\n  font-size: 14px;\\n  line-height: 20px;\\n  padding: 8px 12px;\\n}\\n.chip {\\n  display: inline-block;\\n  border: solid 1px;\\n  border-radius: 16px;\\n  min-width: 14px;\\n  padding: 5px 16px;\\n  text-align: center;\\n  user-select: none;\\n  margin: 0 8px;\\n  -webkit-tap-highlight-color: transparent;\\n}\\n.carousel {\\n  overflow: auto;\\n  scrollbar-width: none;\\n  white-space: nowrap;\\n  margin-right: -12px;\\n}\\n.headline {\\n  display: flex;\\n  margin-right: 4px;\\n}\\n.gradient-container {\\n  position: relative;\\n}\\n.gradient {\\n  position: absolute;\\n  transform: translate(3px, -9px);\\n  height: 36px;\\n  width: 9px;\\n}\\n@media (prefers-color-scheme: light) {\\n  .container {\\n    background-color: #fafafa;\\n    box-shadow: 0 0 0 1px #0000000f;\\n  }\\n  .headline-label {\\n    color: #1f1f1f;\\n  }\\n  .chip {\\n    background-color: #ffffff;\\n    border-color: #d2d2d2;\\n    color: #5e5e5e;\\n    text-decoration: none;\\n  }\\n  .chip:hover {\\n    background-color: #f2f2f2;\\n  }\\n  .chip:focus {\\n    background-color: #f2f2f2;\\n  }\\n  .chip:active {\\n    background-color: #d8d8d8;\\n    border-color: #b6b6b6;\\n  }\\n  .logo-dark {\\n    display: none;\\n  }\\n  .gradient {\\n    background: linear-gradient(90deg, #fafafa 15%, #fafafa00 100%);\\n  }\\n}\\n@media (prefers-color-scheme: dark) {\\n  .container {\\n    background-color: #1f1f1f;\\n    box-shadow: 0 0 0 1px #ffffff26;\\n  }\\n  .headline-label {\\n    color: #fff;\\n  }\\n  .chip {\\n    background-color: #2c2c2c;\\n    border-color: #3c4043;\\n    color: #fff;\\n    text-decoration: none;\\n  }\\n  .chip:hover {\\n    background-color: #353536;\\n  }\\n  .chip:focus {\\n    background-color: #353536;\\n  }\\n  .chip:active {\\n    background-color: #464849;\\n    border-color: #53575b;\\n  }\\n  .logo-light {\\n    display: none;\\n  }\\n  .gradient {\\n    background: linear-gradient(90deg, #1f1f1f 15%, #1f1f1f00 100%);\\n  }\\n}\\n</style>\\n<div class=\"container\">\\n  <div class=\"headline\">\\n    <svg class=\"logo-light\" width=\"18\" height=\"18\" viewBox=\"9 9 35 35\" fill=\"none\" xmlns=\"http://www.w3.org/2000/svg\">\\n      <path fill-rule=\"evenodd\" clip-rule=\"evenodd\" d=\"M42.8622 27.0064C42.8622 25.7839 42.7525 24.6084 42.5487 23.4799H26.3109V30.1568H35.5897C35.1821 32.3041 33.9596 34.1222 32.1258 35.3448V39.6864H37.7213C40.9814 36.677 42.8622 32.2571 42.8622 27.0064V27.0064Z\" fill=\"#4285F4\"/>\\n      <path fill-rule=\"evenodd\" clip-rule=\"evenodd\" d=\"M26.3109 43.8555C30.9659 43.8555 34.8687 42.3195 37.7213 39.6863L32.1258 35.3447C30.5898 36.3792 28.6306 37.0061 26.3109 37.0061C21.8282 37.0061 18.0195 33.9811 16.6559 29.906H10.9194V34.3573C13.7563 39.9841 19.5712 43.8555 26.3109 43.8555V43.8555Z\" fill=\"#34A853\"/>\\n      <path fill-rule=\"evenodd\" clip-rule=\"evenodd\" d=\"M16.6559 29.8904C16.3111 28.8559 16.1074 27.7588 16.1074 26.6146C16.1074 25.4704 16.3111 24.3733 16.6559 23.3388V18.8875H10.9194C9.74388 21.2072 9.06992 23.8247 9.06992 26.6146C9.06992 29.4045 9.74388 32.022 10.9194 34.3417L15.3864 30.8621L16.6559 29.8904V29.8904Z\" fill=\"#FBBC05\"/>\\n      <path fill-rule=\"evenodd\" clip-rule=\"evenodd\" d=\"M26.3109 16.2386C28.85 16.2386 31.107 17.1164 32.9095 18.8091L37.8466 13.8719C34.853 11.082 30.9659 9.3736 26.3109 9.3736C19.5712 9.3736 13.7563 13.245 10.9194 18.8875L16.6559 23.3388C18.0195 19.2636 21.8282 16.2386 26.3109 16.2386V16.2386Z\" fill=\"#EA4335\"/>\\n    </svg>\\n    <svg class=\"logo-dark\" width=\"18\" height=\"18\" viewBox=\"0 0 48 48\" xmlns=\"http://www.w3.org/2000/svg\">\\n      <circle cx=\"24\" cy=\"23\" fill=\"#FFF\" r=\"22\"/>\\n      <path d=\"M33.76 34.26c2.75-2.56 4.49-6.37 4.49-11.26 0-.89-.08-1.84-.29-3H24.01v5.99h8.03c-.4 2.02-1.5 3.56-3.07 4.56v.75l3.91 2.97h.88z\" fill=\"#4285F4\"/>\\n      <path d=\"M15.58 25.77A8.845 8.845 0 0 0 24 31.86c1.92 0 3.62-.46 4.97-1.31l4.79 3.71C31.14 36.7 27.65 38 24 38c-5.93 0-11.01-3.4-13.45-8.36l.17-1.01 4.06-2.85h.8z\" fill=\"#34A853\"/>\\n      <path d=\"M15.59 20.21a8.864 8.864 0 0 0 0 5.58l-5.03 3.86c-.98-2-1.53-4.25-1.53-6.64 0-2.39.55-4.64 1.53-6.64l1-.22 3.81 2.98.22 1.08z\" fill=\"#FBBC05\"/>\\n      <path d=\"M24 14.14c2.11 0 4.02.75 5.52 1.98l4.36-4.36C31.22 9.43 27.81 8 24 8c-5.93 0-11.01 3.4-13.45 8.36l5.03 3.85A8.86 8.86 0 0 1 24 14.14z\" fill=\"#EA4335\"/>\\n    </svg>\\n    <div class=\"gradient-container\"><div class=\"gradient\"></div></div>\\n  </div>\\n  <div class=\"carousel\">\\n    <a class=\"chip\" href=\"https://vertexaisearch.cloud.google.com/grounding-api-redirect/AUBnsYtRtElHrsC2EYYmiO5zJy4LJfQiAv61k4SQa6a_dAZ-8eAsDfgN_PFBOWcIzs9eN9GReGMZ_Axio3e7mfgYUCPE4agXY5M61IWaQN-aM93LY4YDzRB2k_nfdDTdfA_V4O8B4ELyoVO1DbQd8Fi-Pnfv7ZbdYSQK7SyQCPhpeSjPMeg2B-W_YxAvrLc7_S-M9leEZPXLJxT_aQ==\">Adobe net income 2024</a>\\n    <a class=\"chip\" href=\"https://vertexaisearch.cloud.google.com/grounding-api-redirect/AUBnsYsVLt82mM6qv9cjujcPbUTttZw37nEoLEZpwq2NKiVa2_7KmdorGj7VteY4i-04m7YHSZzwCAusscGzb34RfZwT2C4GVI-Niefwb04w3wgPYjrIh2xyn9Z-QlmIkaq1gtqUe19dDg_33js4_ytR3suZGbMkCSCeFK-klfvEiWPgOKuvtuFXuL7Ljme2Xauf55fzgE8HWSkYfIA=\">Adobe quick ratio 2024</a>\\n    <a class=\"chip\" href=\"https://vertexaisearch.cloud.google.com/grounding-api-redirect/AUBnsYsC6iBaqgxZ1UWe5clWDbbzs9V_n0udNC7hy-mlCkJDqmCed1oHh6A9erCcINYZv_UiAZnYuRzjVGyZmRe5GAImb7KR3LKL56JF_WAxZo7lSi0Ay1OK14FZVfzeT5-F91xR5_dyR_KomEj79Oza1TCZtdAj1VZP9LFppwMOta7Gsn-X11qSTYmGDW-Pw3rDMaEc7w==\">Adobe COGS 2024</a>\\n    <a class=\"chip\" href=\"https://vertexaisearch.cloud.google.com/grounding-api-redirect/AUBnsYsbZUwCnbImWH_ZxnvUKVsioM_bygBI6S5xfaKD7r4yCnt4lwyUL3h5QAmZXNPFcs1ht2eevDgeo3ocRRwuIS4sHME3i9Seu2PtXw--EM-gEuYf-7DtbAksfAtRelpxk6gU87be6pfc3rtdDHzd-RODWZMq1qRS0AZd7YLjx5byFJhYYCrEwXgVwxl1nLfFooBJOaMG7mByXCEO3_S8r2o=\">Adobe net profit margin 2024</a>\\n    <a class=\"chip\" href=\"https://vertexaisearch.cloud.google.com/grounding-api-redirect/AUBnsYvRjXb8Fk88zWcVWGzfd32cSnSrQEz7r7Z8eNOQhIef7G6qbohReo-IiBlVfi5UzuSu9-T-Pe4jNxGRBzfL0H7YLx9lDiCZu57F7PyLfD2lsJ84Ma16nsBd0m6QzqqYNKW2Jl-LY4vh8vFcCsonhUZ_NR9BIAL9ltqSAKqn8n4pgp04QmaXirgxbjtgcTqRyiKhwSaJCw0zcxbv9Q==\">Adobe current ratio 2024</a>\\n    <a class=\"chip\" href=\"https://vertexaisearch.cloud.google.com/grounding-api-redirect/AUBnsYss1ZkZ-Z44Zpk5nRVJczvOZq_vWGy8M8R49v6tB6Dh936D8nfNC9RKMcSZBT72yfeeLzeAKdj9Pb186xmPcplV7VdFB5Uf876IPLSII4jtue8nXjtsa4NwytiNNwTmn7qR_yuF9_ATyJS19MAnSHyTg7L8Q0pym8gd7nk3P8NVYbQKFPXnETobr0w-GF4RojFuz36h\">Adobe share price</a>\\n    <a class=\"chip\" href=\"https://vertexaisearch.cloud.google.com/grounding-api-redirect/AUBnsYucCRyHPLirzmZzIbKmTJET9TzFjCc2pUGDjUf7z5U1pUrmrP8Ml5gb2jdA42S_0EkMhoPu6YQXHan3LB0ELcEdrBeIxJA_mRxF7ZHXyjbU1_CQB7Hv-7eLxnJfljzV4hxuoK2gs2QUt-3aQvjR2a0tl-QHW_56LRnO76gGoM8KHTDAUg8JPlySHA84gOb1OYcF9yImGsTI82wFpw==\">Adobe earnings per share</a>\\n    <a class=\"chip\" href=\"https://vertexaisearch.cloud.google.com/grounding-api-redirect/AUBnsYsliDbvvFwZR6KbW4cNx2PbrUzqfj4yDa_nJLuvYo8TySErTKsYKkMj5Vf5g3SRH4ckb939YuXiFYb1D5JViGB95cC69nA5ExI9vFL12KHZP_B55MEOY0v8Ix9NTBWdC-hqQ721bWX2CdK93EuVskfjm3lUXvKQrhL71wJFSIRPk5E230CRSrcwqRb1oGqhCybjyvslz5pPDfD9-d8=\">Adobe revenue growth 2024</a>\\n    <a class=\"chip\" href=\"https://vertexaisearch.cloud.google.com/grounding-api-redirect/AUBnsYvwCmmm9AhWzUmJWgTJ_yLMPsfig976ItYnxfoWClgihJ7FZfGiPwsNAs0wd0AeK3uHhpPAUxrrOvDY9slHdPfvDNiih91FHKu4Sie_xvZvotsxV30spUwrTywu20AGDg4WbeuSdoMAPDFx8hOi6FDbtBEgZsozz62a8CTZKv-Tr6E17ojrfzv6g_4H1WPNBqcNMFLQDMs6plU-qCiEgQ==\">Adobe return on assets 2024</a>\\n    <a class=\"chip\" href=\"https://vertexaisearch.cloud.google.com/grounding-api-redirect/AUBnsYu3ohBYvsdL5Q7f_VzJ0pQgJWBQbtLbGt3MlHZxySgkC3BuTF0JTETSEDbCtV7F0xMZvyXlsSD2SCQ1nLDAYzUuG5Lewm9Di9zOQxeKu2G17IRzth33IoRSqwd6eby412DeFeh5-luHb_JqSkkIs4kfYPVokAh99CRkN5_o0Rj3fh36F-1DJZLsf3GOccMWNGKLZnJv\">Adobe stock price</a>\\n    <a class=\"chip\" href=\"https://vertexaisearch.cloud.google.com/grounding-api-redirect/AUBnsYt4-7VrPF6Ld1cIVYGEt_XjjOydiHre8G6DFZqhNvEhoGhzg1Zqbv3fDzPMpMwWC9cGFYhAmW8aLwkU_4dM2AykGPfPrvDcs-5KkbSeAsnCVT2WhlxqxhTwiW95-o2mfOZsBKDVI9Gvjt8pIt-PUfTXdE9ofqjO2pSA8K_DeWXVgeR19pqd5czyIcxfwxg9nBlB0HowxT5ASwm3J5p4lw==\">Adobe operating margin 2024</a>\\n    <a class=\"chip\" href=\"https://vertexaisearch.cloud.google.com/grounding-api-redirect/AUBnsYtY1r6cvIGtX9eJyItpcJ4qLWa9hrYoI8XRJpsW3-YJNTuqRgLmoML5Ko_jyRKJW-qBL9fcr1TpEuw2DBBis2WynYLZg0YfVR186il-ROj81D_vd0_vYIGhA1Rt70lI5ptG6is2F_KoSxpWB6TqDttavB_482yM1r9bOBqSfPmNv7SEpUZc_dchwhnj7_GQHc2ECnAw3zsWloAH1W4cJDD6Uew=\">Adobe debt to equity ratio 2024</a>\\n    <a class=\"chip\" href=\"https://vertexaisearch.cloud.google.com/grounding-api-redirect/AUBnsYtGaxUwW2RTYwQk_hXB8SqdJ0zTk_vKxxwKGOqP_6hY_gmSVmGbxPXHsnZ67Q-yIGuVcN2KHwonLZjUM2UFBnRrIK57o5-EaKh7KC_GbOHrv3MW7AnIxQAD2H2NK7l6k-yeaOfk_fROpz0MlFF0avnROgmhxyKK20HqT9QR1IuqWv_R2iGvrRg0y-kxHM-ig0RvaWaTpgEZFvFrCo8ginV7XfnwuXs=\">Adobe price to earnings ratio 2024</a>\\n    <a class=\"chip\" href=\"https://vertexaisearch.cloud.google.com/grounding-api-redirect/AUBnsYtgfJev9g3Cyss5oV6gsg7U-xVvJBtaUfjp5a48P3LrdwdljGw2pYLqnhqw6H2yznEBAdbVKjC4YuF-9gMWiCZPcHiboD__6oLgBCW8AXu3uP2wz4z41d9d4JAGlE3aVC_wx3RGPcnM2ZjmxzXBfDJhrHivM3PbVZzh5fczPC_wzO0bB_d4AxoNhQTowj6p6-ej\">Adobe ARR 2024</a>\\n    <a class=\"chip\" href=\"https://vertexaisearch.cloud.google.com/grounding-api-redirect/AUBnsYs4UDdmyjEozf_RxnP76KF6mhlGwH_scKgqAGMHCF9cBD-nHA81azxS6RCjIRZ-HAOOKmaNEXx3LdsesrXD3fEcRo_1p0cAbeg4bqrX9N9W7ufcY4lXtv-6yXBEEcPDwjBGWarEq1fteTSyC9nL35Mj28bHHf2I-6ox3zPI76h0HhNFKgosO-RcMGJbF27fhdPrEFS4oya6KlqF-wF93g==\">Adobe return on equity 2024</a>\\n    <a class=\"chip\" href=\"https://vertexaisearch.cloud.google.com/grounding-api-redirect/AUBnsYsxb24CsC4dPOUET_4712tTnLkM4dsoaznFxs32E-efN4W_FNA6f7dc3NOHNrqIVjo-vNEXpVYM15MvQtBTahwTJ4j1rDcASOUE026P41Wz3pB20q7om6McW2NePNPlVBfr4hmgk9ePodRiaCX0bd6HlxPHmoC7PoeacS9V3v2RwaGXiyqme0PIsd_SJUrGRABjtIsqE3FcVBSIhw==\">Adobe total revenue 2024</a>\\n    <a class=\"chip\" href=\"https://vertexaisearch.cloud.google.com/grounding-api-redirect/AUBnsYvFKrgR8_bb6bZ-6DdXNUPNxb1Hqssvkcs4LP9zoanCI0-O8hdvoNNk39MtViZ_DwCWS4ceeG0Q6YGCEbAAsorMNWfNR8K58_-PZl-yiIOmK09gZJcOW6OlN_ZYwDhKiXvkvgPj-7K8bSBkZO6eCWoq-I_r7f4L0wDsUKnvx9yhO2SJxeMeXbf10vNAbJYIFnwfRbVpzBtKPB7qJvKdvg==\">Adobe operating income 2024</a>\\n    <a class=\"chip\" href=\"https://vertexaisearch.cloud.google.com/grounding-api-redirect/AUBnsYvQZjfSih-f2W3EKssNKIMudhBlNVoTkxNVvUdPYTC3MhmIOrTYRr3UpXd9Nwrl7wsJYwoP2TjMz76p5Rp2NALpLmiL-BtwANXSxqQLznnDO3Lwb6-ZMGnrSvMR1gP64QxV_a_EpN1cMADymwK4Z1Hrp_fq-GIgO9eN6vPjWHZoaq1gbacTNVrypWzmxvFV7McfYP3joXyDPEO-Ipi1VTHsUw==\">Adobe gross profit margin 2024</a>\\n  </div>\\n</div>\\n', sdk_blob=None) web_search_queries=['Adobe total revenue 2024', 'Adobe earnings per share', 'Adobe operating margin 2024', 'Adobe return on assets 2024', 'Adobe gross profit margin 2024', 'Adobe net profit margin 2024', 'Adobe debt to equity ratio 2024', 'Adobe price to earnings ratio 2024', 'Adobe COGS 2024', 'Adobe ARR 2024', 'Adobe return on equity 2024', 'Adobe net income 2024', 'Adobe operating income 2024', 'Adobe quick ratio 2024', 'Adobe share price', 'Adobe revenue growth 2024', 'Adobe current ratio 2024', 'Adobe stock price']\n"
          ]
        },
        {
          "output_type": "execute_result",
          "data": {
            "text/plain": [
              "<IPython.core.display.HTML object>"
            ],
            "text/html": [
              "<style>\n",
              ".container {\n",
              "  align-items: center;\n",
              "  border-radius: 8px;\n",
              "  display: flex;\n",
              "  font-family: Google Sans, Roboto, sans-serif;\n",
              "  font-size: 14px;\n",
              "  line-height: 20px;\n",
              "  padding: 8px 12px;\n",
              "}\n",
              ".chip {\n",
              "  display: inline-block;\n",
              "  border: solid 1px;\n",
              "  border-radius: 16px;\n",
              "  min-width: 14px;\n",
              "  padding: 5px 16px;\n",
              "  text-align: center;\n",
              "  user-select: none;\n",
              "  margin: 0 8px;\n",
              "  -webkit-tap-highlight-color: transparent;\n",
              "}\n",
              ".carousel {\n",
              "  overflow: auto;\n",
              "  scrollbar-width: none;\n",
              "  white-space: nowrap;\n",
              "  margin-right: -12px;\n",
              "}\n",
              ".headline {\n",
              "  display: flex;\n",
              "  margin-right: 4px;\n",
              "}\n",
              ".gradient-container {\n",
              "  position: relative;\n",
              "}\n",
              ".gradient {\n",
              "  position: absolute;\n",
              "  transform: translate(3px, -9px);\n",
              "  height: 36px;\n",
              "  width: 9px;\n",
              "}\n",
              "@media (prefers-color-scheme: light) {\n",
              "  .container {\n",
              "    background-color: #fafafa;\n",
              "    box-shadow: 0 0 0 1px #0000000f;\n",
              "  }\n",
              "  .headline-label {\n",
              "    color: #1f1f1f;\n",
              "  }\n",
              "  .chip {\n",
              "    background-color: #ffffff;\n",
              "    border-color: #d2d2d2;\n",
              "    color: #5e5e5e;\n",
              "    text-decoration: none;\n",
              "  }\n",
              "  .chip:hover {\n",
              "    background-color: #f2f2f2;\n",
              "  }\n",
              "  .chip:focus {\n",
              "    background-color: #f2f2f2;\n",
              "  }\n",
              "  .chip:active {\n",
              "    background-color: #d8d8d8;\n",
              "    border-color: #b6b6b6;\n",
              "  }\n",
              "  .logo-dark {\n",
              "    display: none;\n",
              "  }\n",
              "  .gradient {\n",
              "    background: linear-gradient(90deg, #fafafa 15%, #fafafa00 100%);\n",
              "  }\n",
              "}\n",
              "@media (prefers-color-scheme: dark) {\n",
              "  .container {\n",
              "    background-color: #1f1f1f;\n",
              "    box-shadow: 0 0 0 1px #ffffff26;\n",
              "  }\n",
              "  .headline-label {\n",
              "    color: #fff;\n",
              "  }\n",
              "  .chip {\n",
              "    background-color: #2c2c2c;\n",
              "    border-color: #3c4043;\n",
              "    color: #fff;\n",
              "    text-decoration: none;\n",
              "  }\n",
              "  .chip:hover {\n",
              "    background-color: #353536;\n",
              "  }\n",
              "  .chip:focus {\n",
              "    background-color: #353536;\n",
              "  }\n",
              "  .chip:active {\n",
              "    background-color: #464849;\n",
              "    border-color: #53575b;\n",
              "  }\n",
              "  .logo-light {\n",
              "    display: none;\n",
              "  }\n",
              "  .gradient {\n",
              "    background: linear-gradient(90deg, #1f1f1f 15%, #1f1f1f00 100%);\n",
              "  }\n",
              "}\n",
              "</style>\n",
              "<div class=\"container\">\n",
              "  <div class=\"headline\">\n",
              "    <svg class=\"logo-light\" width=\"18\" height=\"18\" viewBox=\"9 9 35 35\" fill=\"none\" xmlns=\"http://www.w3.org/2000/svg\">\n",
              "      <path fill-rule=\"evenodd\" clip-rule=\"evenodd\" d=\"M42.8622 27.0064C42.8622 25.7839 42.7525 24.6084 42.5487 23.4799H26.3109V30.1568H35.5897C35.1821 32.3041 33.9596 34.1222 32.1258 35.3448V39.6864H37.7213C40.9814 36.677 42.8622 32.2571 42.8622 27.0064V27.0064Z\" fill=\"#4285F4\"/>\n",
              "      <path fill-rule=\"evenodd\" clip-rule=\"evenodd\" d=\"M26.3109 43.8555C30.9659 43.8555 34.8687 42.3195 37.7213 39.6863L32.1258 35.3447C30.5898 36.3792 28.6306 37.0061 26.3109 37.0061C21.8282 37.0061 18.0195 33.9811 16.6559 29.906H10.9194V34.3573C13.7563 39.9841 19.5712 43.8555 26.3109 43.8555V43.8555Z\" fill=\"#34A853\"/>\n",
              "      <path fill-rule=\"evenodd\" clip-rule=\"evenodd\" d=\"M16.6559 29.8904C16.3111 28.8559 16.1074 27.7588 16.1074 26.6146C16.1074 25.4704 16.3111 24.3733 16.6559 23.3388V18.8875H10.9194C9.74388 21.2072 9.06992 23.8247 9.06992 26.6146C9.06992 29.4045 9.74388 32.022 10.9194 34.3417L15.3864 30.8621L16.6559 29.8904V29.8904Z\" fill=\"#FBBC05\"/>\n",
              "      <path fill-rule=\"evenodd\" clip-rule=\"evenodd\" d=\"M26.3109 16.2386C28.85 16.2386 31.107 17.1164 32.9095 18.8091L37.8466 13.8719C34.853 11.082 30.9659 9.3736 26.3109 9.3736C19.5712 9.3736 13.7563 13.245 10.9194 18.8875L16.6559 23.3388C18.0195 19.2636 21.8282 16.2386 26.3109 16.2386V16.2386Z\" fill=\"#EA4335\"/>\n",
              "    </svg>\n",
              "    <svg class=\"logo-dark\" width=\"18\" height=\"18\" viewBox=\"0 0 48 48\" xmlns=\"http://www.w3.org/2000/svg\">\n",
              "      <circle cx=\"24\" cy=\"23\" fill=\"#FFF\" r=\"22\"/>\n",
              "      <path d=\"M33.76 34.26c2.75-2.56 4.49-6.37 4.49-11.26 0-.89-.08-1.84-.29-3H24.01v5.99h8.03c-.4 2.02-1.5 3.56-3.07 4.56v.75l3.91 2.97h.88z\" fill=\"#4285F4\"/>\n",
              "      <path d=\"M15.58 25.77A8.845 8.845 0 0 0 24 31.86c1.92 0 3.62-.46 4.97-1.31l4.79 3.71C31.14 36.7 27.65 38 24 38c-5.93 0-11.01-3.4-13.45-8.36l.17-1.01 4.06-2.85h.8z\" fill=\"#34A853\"/>\n",
              "      <path d=\"M15.59 20.21a8.864 8.864 0 0 0 0 5.58l-5.03 3.86c-.98-2-1.53-4.25-1.53-6.64 0-2.39.55-4.64 1.53-6.64l1-.22 3.81 2.98.22 1.08z\" fill=\"#FBBC05\"/>\n",
              "      <path d=\"M24 14.14c2.11 0 4.02.75 5.52 1.98l4.36-4.36C31.22 9.43 27.81 8 24 8c-5.93 0-11.01 3.4-13.45 8.36l5.03 3.85A8.86 8.86 0 0 1 24 14.14z\" fill=\"#EA4335\"/>\n",
              "    </svg>\n",
              "    <div class=\"gradient-container\"><div class=\"gradient\"></div></div>\n",
              "  </div>\n",
              "  <div class=\"carousel\">\n",
              "    <a class=\"chip\" href=\"https://vertexaisearch.cloud.google.com/grounding-api-redirect/AUBnsYtRtElHrsC2EYYmiO5zJy4LJfQiAv61k4SQa6a_dAZ-8eAsDfgN_PFBOWcIzs9eN9GReGMZ_Axio3e7mfgYUCPE4agXY5M61IWaQN-aM93LY4YDzRB2k_nfdDTdfA_V4O8B4ELyoVO1DbQd8Fi-Pnfv7ZbdYSQK7SyQCPhpeSjPMeg2B-W_YxAvrLc7_S-M9leEZPXLJxT_aQ==\">Adobe net income 2024</a>\n",
              "    <a class=\"chip\" href=\"https://vertexaisearch.cloud.google.com/grounding-api-redirect/AUBnsYsVLt82mM6qv9cjujcPbUTttZw37nEoLEZpwq2NKiVa2_7KmdorGj7VteY4i-04m7YHSZzwCAusscGzb34RfZwT2C4GVI-Niefwb04w3wgPYjrIh2xyn9Z-QlmIkaq1gtqUe19dDg_33js4_ytR3suZGbMkCSCeFK-klfvEiWPgOKuvtuFXuL7Ljme2Xauf55fzgE8HWSkYfIA=\">Adobe quick ratio 2024</a>\n",
              "    <a class=\"chip\" href=\"https://vertexaisearch.cloud.google.com/grounding-api-redirect/AUBnsYsC6iBaqgxZ1UWe5clWDbbzs9V_n0udNC7hy-mlCkJDqmCed1oHh6A9erCcINYZv_UiAZnYuRzjVGyZmRe5GAImb7KR3LKL56JF_WAxZo7lSi0Ay1OK14FZVfzeT5-F91xR5_dyR_KomEj79Oza1TCZtdAj1VZP9LFppwMOta7Gsn-X11qSTYmGDW-Pw3rDMaEc7w==\">Adobe COGS 2024</a>\n",
              "    <a class=\"chip\" href=\"https://vertexaisearch.cloud.google.com/grounding-api-redirect/AUBnsYsbZUwCnbImWH_ZxnvUKVsioM_bygBI6S5xfaKD7r4yCnt4lwyUL3h5QAmZXNPFcs1ht2eevDgeo3ocRRwuIS4sHME3i9Seu2PtXw--EM-gEuYf-7DtbAksfAtRelpxk6gU87be6pfc3rtdDHzd-RODWZMq1qRS0AZd7YLjx5byFJhYYCrEwXgVwxl1nLfFooBJOaMG7mByXCEO3_S8r2o=\">Adobe net profit margin 2024</a>\n",
              "    <a class=\"chip\" href=\"https://vertexaisearch.cloud.google.com/grounding-api-redirect/AUBnsYvRjXb8Fk88zWcVWGzfd32cSnSrQEz7r7Z8eNOQhIef7G6qbohReo-IiBlVfi5UzuSu9-T-Pe4jNxGRBzfL0H7YLx9lDiCZu57F7PyLfD2lsJ84Ma16nsBd0m6QzqqYNKW2Jl-LY4vh8vFcCsonhUZ_NR9BIAL9ltqSAKqn8n4pgp04QmaXirgxbjtgcTqRyiKhwSaJCw0zcxbv9Q==\">Adobe current ratio 2024</a>\n",
              "    <a class=\"chip\" href=\"https://vertexaisearch.cloud.google.com/grounding-api-redirect/AUBnsYss1ZkZ-Z44Zpk5nRVJczvOZq_vWGy8M8R49v6tB6Dh936D8nfNC9RKMcSZBT72yfeeLzeAKdj9Pb186xmPcplV7VdFB5Uf876IPLSII4jtue8nXjtsa4NwytiNNwTmn7qR_yuF9_ATyJS19MAnSHyTg7L8Q0pym8gd7nk3P8NVYbQKFPXnETobr0w-GF4RojFuz36h\">Adobe share price</a>\n",
              "    <a class=\"chip\" href=\"https://vertexaisearch.cloud.google.com/grounding-api-redirect/AUBnsYucCRyHPLirzmZzIbKmTJET9TzFjCc2pUGDjUf7z5U1pUrmrP8Ml5gb2jdA42S_0EkMhoPu6YQXHan3LB0ELcEdrBeIxJA_mRxF7ZHXyjbU1_CQB7Hv-7eLxnJfljzV4hxuoK2gs2QUt-3aQvjR2a0tl-QHW_56LRnO76gGoM8KHTDAUg8JPlySHA84gOb1OYcF9yImGsTI82wFpw==\">Adobe earnings per share</a>\n",
              "    <a class=\"chip\" href=\"https://vertexaisearch.cloud.google.com/grounding-api-redirect/AUBnsYsliDbvvFwZR6KbW4cNx2PbrUzqfj4yDa_nJLuvYo8TySErTKsYKkMj5Vf5g3SRH4ckb939YuXiFYb1D5JViGB95cC69nA5ExI9vFL12KHZP_B55MEOY0v8Ix9NTBWdC-hqQ721bWX2CdK93EuVskfjm3lUXvKQrhL71wJFSIRPk5E230CRSrcwqRb1oGqhCybjyvslz5pPDfD9-d8=\">Adobe revenue growth 2024</a>\n",
              "    <a class=\"chip\" href=\"https://vertexaisearch.cloud.google.com/grounding-api-redirect/AUBnsYvwCmmm9AhWzUmJWgTJ_yLMPsfig976ItYnxfoWClgihJ7FZfGiPwsNAs0wd0AeK3uHhpPAUxrrOvDY9slHdPfvDNiih91FHKu4Sie_xvZvotsxV30spUwrTywu20AGDg4WbeuSdoMAPDFx8hOi6FDbtBEgZsozz62a8CTZKv-Tr6E17ojrfzv6g_4H1WPNBqcNMFLQDMs6plU-qCiEgQ==\">Adobe return on assets 2024</a>\n",
              "    <a class=\"chip\" href=\"https://vertexaisearch.cloud.google.com/grounding-api-redirect/AUBnsYu3ohBYvsdL5Q7f_VzJ0pQgJWBQbtLbGt3MlHZxySgkC3BuTF0JTETSEDbCtV7F0xMZvyXlsSD2SCQ1nLDAYzUuG5Lewm9Di9zOQxeKu2G17IRzth33IoRSqwd6eby412DeFeh5-luHb_JqSkkIs4kfYPVokAh99CRkN5_o0Rj3fh36F-1DJZLsf3GOccMWNGKLZnJv\">Adobe stock price</a>\n",
              "    <a class=\"chip\" href=\"https://vertexaisearch.cloud.google.com/grounding-api-redirect/AUBnsYt4-7VrPF6Ld1cIVYGEt_XjjOydiHre8G6DFZqhNvEhoGhzg1Zqbv3fDzPMpMwWC9cGFYhAmW8aLwkU_4dM2AykGPfPrvDcs-5KkbSeAsnCVT2WhlxqxhTwiW95-o2mfOZsBKDVI9Gvjt8pIt-PUfTXdE9ofqjO2pSA8K_DeWXVgeR19pqd5czyIcxfwxg9nBlB0HowxT5ASwm3J5p4lw==\">Adobe operating margin 2024</a>\n",
              "    <a class=\"chip\" href=\"https://vertexaisearch.cloud.google.com/grounding-api-redirect/AUBnsYtY1r6cvIGtX9eJyItpcJ4qLWa9hrYoI8XRJpsW3-YJNTuqRgLmoML5Ko_jyRKJW-qBL9fcr1TpEuw2DBBis2WynYLZg0YfVR186il-ROj81D_vd0_vYIGhA1Rt70lI5ptG6is2F_KoSxpWB6TqDttavB_482yM1r9bOBqSfPmNv7SEpUZc_dchwhnj7_GQHc2ECnAw3zsWloAH1W4cJDD6Uew=\">Adobe debt to equity ratio 2024</a>\n",
              "    <a class=\"chip\" href=\"https://vertexaisearch.cloud.google.com/grounding-api-redirect/AUBnsYtGaxUwW2RTYwQk_hXB8SqdJ0zTk_vKxxwKGOqP_6hY_gmSVmGbxPXHsnZ67Q-yIGuVcN2KHwonLZjUM2UFBnRrIK57o5-EaKh7KC_GbOHrv3MW7AnIxQAD2H2NK7l6k-yeaOfk_fROpz0MlFF0avnROgmhxyKK20HqT9QR1IuqWv_R2iGvrRg0y-kxHM-ig0RvaWaTpgEZFvFrCo8ginV7XfnwuXs=\">Adobe price to earnings ratio 2024</a>\n",
              "    <a class=\"chip\" href=\"https://vertexaisearch.cloud.google.com/grounding-api-redirect/AUBnsYtgfJev9g3Cyss5oV6gsg7U-xVvJBtaUfjp5a48P3LrdwdljGw2pYLqnhqw6H2yznEBAdbVKjC4YuF-9gMWiCZPcHiboD__6oLgBCW8AXu3uP2wz4z41d9d4JAGlE3aVC_wx3RGPcnM2ZjmxzXBfDJhrHivM3PbVZzh5fczPC_wzO0bB_d4AxoNhQTowj6p6-ej\">Adobe ARR 2024</a>\n",
              "    <a class=\"chip\" href=\"https://vertexaisearch.cloud.google.com/grounding-api-redirect/AUBnsYs4UDdmyjEozf_RxnP76KF6mhlGwH_scKgqAGMHCF9cBD-nHA81azxS6RCjIRZ-HAOOKmaNEXx3LdsesrXD3fEcRo_1p0cAbeg4bqrX9N9W7ufcY4lXtv-6yXBEEcPDwjBGWarEq1fteTSyC9nL35Mj28bHHf2I-6ox3zPI76h0HhNFKgosO-RcMGJbF27fhdPrEFS4oya6KlqF-wF93g==\">Adobe return on equity 2024</a>\n",
              "    <a class=\"chip\" href=\"https://vertexaisearch.cloud.google.com/grounding-api-redirect/AUBnsYsxb24CsC4dPOUET_4712tTnLkM4dsoaznFxs32E-efN4W_FNA6f7dc3NOHNrqIVjo-vNEXpVYM15MvQtBTahwTJ4j1rDcASOUE026P41Wz3pB20q7om6McW2NePNPlVBfr4hmgk9ePodRiaCX0bd6HlxPHmoC7PoeacS9V3v2RwaGXiyqme0PIsd_SJUrGRABjtIsqE3FcVBSIhw==\">Adobe total revenue 2024</a>\n",
              "    <a class=\"chip\" href=\"https://vertexaisearch.cloud.google.com/grounding-api-redirect/AUBnsYvFKrgR8_bb6bZ-6DdXNUPNxb1Hqssvkcs4LP9zoanCI0-O8hdvoNNk39MtViZ_DwCWS4ceeG0Q6YGCEbAAsorMNWfNR8K58_-PZl-yiIOmK09gZJcOW6OlN_ZYwDhKiXvkvgPj-7K8bSBkZO6eCWoq-I_r7f4L0wDsUKnvx9yhO2SJxeMeXbf10vNAbJYIFnwfRbVpzBtKPB7qJvKdvg==\">Adobe operating income 2024</a>\n",
              "    <a class=\"chip\" href=\"https://vertexaisearch.cloud.google.com/grounding-api-redirect/AUBnsYvQZjfSih-f2W3EKssNKIMudhBlNVoTkxNVvUdPYTC3MhmIOrTYRr3UpXd9Nwrl7wsJYwoP2TjMz76p5Rp2NALpLmiL-BtwANXSxqQLznnDO3Lwb6-ZMGnrSvMR1gP64QxV_a_EpN1cMADymwK4Z1Hrp_fq-GIgO9eN6vPjWHZoaq1gbacTNVrypWzmxvFV7McfYP3joXyDPEO-Ipi1VTHsUw==\">Adobe gross profit margin 2024</a>\n",
              "  </div>\n",
              "</div>\n"
            ]
          },
          "metadata": {},
          "execution_count": 159
        }
      ],
      "source": [
        "google_search_tool = Tool(google_search=GoogleSearch())\n",
        "\n",
        "response = client.models.generate_content(\n",
        "    model=MODEL_ID,\n",
        "    contents=\"\"\"Search web and financial data sources for relavent information. Search google finance and yahoo finance and sec.gov for Adobe stock price, share price, earnings per share, and 10-K reports. List or calculate key financial metrics, rations, statistics, and multiples for Adobe for fiscal year 2024 and return numbers only without backslashes. Express margin and growth numbers as percentages with a percent sign. Organize financial data according to:\n",
        "        Stock Price:,\n",
        "        Share Price:,\n",
        "        Earnings Per Share:,\n",
        "        Total Revenue:,\n",
        "        COGS:,\n",
        "        Operating Income:,\n",
        "        Net Income:,\n",
        "        Revenue Growth:,\n",
        "        Gross Profit Margin:,\n",
        "        Operating Margin:,\n",
        "        Net Profit Margin:,\n",
        "        Return on Equity:,\n",
        "        Return on Assets:,\n",
        "        Debt-to-Equity Ratio:,\n",
        "        Current Ratio:,\n",
        "        Quick Ratio:,\n",
        "        Earnings Per Share:,\n",
        "        Price-to-Earnings Ratio:,\n",
        "        Starting ARR:,\n",
        "        Net New ARR:,\n",
        "        Ending ARR:,\n",
        "        ARR Growth:\n",
        "        Return JSON file for financial data. Return dollar amounts in million of dollars where appropriate.\n",
        "        \"\"\",\n",
        "    config=GenerateContentConfig(tools=[google_search_tool]),\n",
        ")\n",
        "\n",
        "display(Markdown(response.text))\n",
        "\n",
        "print(response.candidates[0].grounding_metadata)\n",
        "\n",
        "HTML(response.candidates[0].grounding_metadata.search_entry_point.rendered_content)"
      ]
    },
    {
      "cell_type": "markdown",
      "source": [
        "### RAG for Private Company"
      ],
      "metadata": {
        "id": "XNSkYaJ9gNHX"
      }
    },
    {
      "cell_type": "code",
      "source": [
        "from pydantic import BaseModel\n",
        "\n",
        "class FinancialRatio(BaseModel):\n",
        "    name: str\n",
        "    description: str\n",
        "    stock_price: float\n",
        "    earnings_per_share: float\n",
        "    financial_metrics: list[str]\n",
        "    financial_ratios: list[str]\n",
        "    financial_statistics: list[str]\n",
        "    financial_multiples: list[str]\n",
        "\n",
        "response = client.models.generate_content(\n",
        "    model=MODEL_ID,\n",
        "    contents=[\n",
        "        Part.from_uri(\n",
        "            file_uri=\"gs://adobe-financials/ADBE-10K-FY24-FINAL.pdf\",\n",
        "            mime_type=\"application/pdf\",\n",
        "        ),\n",
        "        \"\"\"List or calculate key financial metrics, rations, statistics, and multiples for Adobe for fiscal year 2024 and return numbers only without backslashes. Express margin and growth numbers as percentages with a percent sign.\n",
        "\n",
        "        Return dollar amounts in million of dollars where appropriate.\n",
        "        \"\"\",\n",
        "    ],\n",
        "    config=GenerateContentConfig(\n",
        "        response_mime_type=\"application/json\",\n",
        "        response_schema=FinancialRatio,\n",
        "    ),\n",
        ")\n",
        "\n",
        "display(Markdown(response.text))"
      ],
      "metadata": {
        "colab": {
          "base_uri": "https://localhost:8080/",
          "height": 133
        },
        "id": "HiuzeCcw3Sut",
        "outputId": "5838a632-60ee-40d0-ff8b-8ef0317b39e3"
      },
      "execution_count": 160,
      "outputs": [
        {
          "output_type": "display_data",
          "data": {
            "text/plain": [
              "<IPython.core.display.Markdown object>"
            ],
            "text/markdown": "{\n  \"name\": \"Adobe\",\n  \"description\": \"Key financial metrics, ratios, statistics, and multiples for Adobe for fiscal year 2024.\",\n  \"stock_price\": 515.93,\n  \"earnings_per_share\": 12.36,\n  \"financial_metrics\": [\n    \"Subscription Revenue: 20521 million\",\n    \"Product Revenue: 386 million\",\n    \"Total Revenue: 21505 million\",\n    \"Digital Media Revenue: 15864 million\",\n    \"Digital Experience Revenue: 5366 million\",\n    \"Net Income: 5560 million\",\n    \"Cash from Operations: 8056 million\",\n    \"Remaining performance obligations: 19960 million\",\n    \"Total Digital Media ARR: 17330 million\"\n  ],\n  \"financial_ratios\": [\n    \"Subscription Revenue as % of Total Revenue: 95%\",\n    \"Cost of Revenue/Total Revenue: 11%\",\n    \"Effective Tax Rate: 20%\"\n  ],\n  \"financial_statistics\": [\n    \"Total Attrition Rate: 7.8%\",\n    \"Employee participation in engagement survey: 81%\",\n    \"Women represented of global employees: 35.4%\",\n    \"Underrepresented minorities of US employees: 11.6%\"\n  ],\n  \"financial_multiples\": []\n}"
          },
          "metadata": {}
        }
      ]
    },
    {
      "cell_type": "code",
      "source": [
        "import json\n",
        "\n",
        "json_response = json.loads(response.text)\n",
        "print(json.dumps(json_response, indent=0))"
      ],
      "metadata": {
        "colab": {
          "base_uri": "https://localhost:8080/"
        },
        "id": "nG7eCOH3fLXO",
        "outputId": "bb1864e9-254c-4e7f-de44-303bdadf4a19"
      },
      "execution_count": 161,
      "outputs": [
        {
          "output_type": "stream",
          "name": "stdout",
          "text": [
            "{\n",
            "\"name\": \"Adobe\",\n",
            "\"description\": \"Key financial metrics, ratios, statistics, and multiples for Adobe for fiscal year 2024.\",\n",
            "\"stock_price\": 515.93,\n",
            "\"earnings_per_share\": 12.36,\n",
            "\"financial_metrics\": [\n",
            "\"Subscription Revenue: 20521 million\",\n",
            "\"Product Revenue: 386 million\",\n",
            "\"Total Revenue: 21505 million\",\n",
            "\"Digital Media Revenue: 15864 million\",\n",
            "\"Digital Experience Revenue: 5366 million\",\n",
            "\"Net Income: 5560 million\",\n",
            "\"Cash from Operations: 8056 million\",\n",
            "\"Remaining performance obligations: 19960 million\",\n",
            "\"Total Digital Media ARR: 17330 million\"\n",
            "],\n",
            "\"financial_ratios\": [\n",
            "\"Subscription Revenue as % of Total Revenue: 95%\",\n",
            "\"Cost of Revenue/Total Revenue: 11%\",\n",
            "\"Effective Tax Rate: 20%\"\n",
            "],\n",
            "\"financial_statistics\": [\n",
            "\"Total Attrition Rate: 7.8%\",\n",
            "\"Employee participation in engagement survey: 81%\",\n",
            "\"Women represented of global employees: 35.4%\",\n",
            "\"Underrepresented minorities of US employees: 11.6%\"\n",
            "],\n",
            "\"financial_multiples\": []\n",
            "}\n"
          ]
        }
      ]
    },
    {
      "cell_type": "markdown",
      "source": [
        "### Vertex AI Search"
      ],
      "metadata": {
        "id": "hRP52gjETsHZ"
      }
    },
    {
      "cell_type": "code",
      "source": [
        "from pydantic import BaseModel\n",
        "\n",
        "class FinancialRatio(BaseModel):\n",
        "    name: str\n",
        "    description: str\n",
        "    stock_price: float\n",
        "    earnings_per_share: float\n",
        "    financial_metrics: list[str]\n",
        "    financial_ratios: list[str]\n",
        "    financial_statistics: list[str]\n",
        "    financial_multiples: list[str]\n",
        "\n",
        "data_store_location = \"global\"\n",
        "data_store_id = \"adobe-financials_1724907320142\"  # @param {type: \"string\"}\n",
        "\n",
        "vertex_ai_search_tool = Tool(\n",
        "    retrieval=Retrieval(\n",
        "        vertex_ai_search=VertexAISearch(\n",
        "            datastore=f\"projects/{PROJECT_ID}/locations/{data_store_location}/collections/default_collection/dataStores/{data_store_id}\"\n",
        "        )\n",
        "    )\n",
        ")\n",
        "\n",
        "response = client.models.generate_content(\n",
        "    model=MODEL_ID,\n",
        "    contents=\"\"\"List or calculate key financial metrics, rations, statistics, and multiples for Adobe for fiscal year 2024 and return numbers only without backslashes. Express margin and growth numbers as percentages with a percent sign.\n",
        "\n",
        "        Return dollar amounts in million of dollars where appropriate.\n",
        "        \"\"\",\n",
        "\n",
        "    config=GenerateContentConfig(\n",
        "        tools=[vertex_ai_search_tool],\n",
        "        response_mime_type=\"application/json\",\n",
        "        response_schema=FinancialRatio,\n",
        "    ),\n",
        ")\n",
        "\n",
        "display(Markdown(response.text))\n",
        "\n",
        "print(response.candidates[0].grounding_metadata)"
      ],
      "metadata": {
        "colab": {
          "base_uri": "https://localhost:8080/",
          "height": 150
        },
        "id": "bUJUi5CJTv5Z",
        "outputId": "c1bc6260-70b9-462e-fffe-a8a66fc01470"
      },
      "execution_count": 162,
      "outputs": [
        {
          "output_type": "display_data",
          "data": {
            "text/plain": [
              "<IPython.core.display.Markdown object>"
            ],
            "text/markdown": "{\n  \"name\": \"Adobe\",\n  \"description\": \"Key financial metrics, ratios, statistics, and multiples for Adobe for fiscal year 2024\",\n  \"stock_price\": 517.76,\n  \"earnings_per_share\": 12.38,\n  \"financial_metrics\": [\n    \"Revenue: 19275 M\",\n    \"Operating Income: 6898 M\",\n    \"Net Income: 5345 M\",\n    \"Free Cash Flow: 7415 M\",\n    \"R&D Expense: 3485 M\",\n    \"Sales and Marketing Expense: 5485 M\",\n    \"Capital Expenditure: 289 M\"\n  ],\n  \"financial_ratios\": [\n    \"Gross Margin: 88.0%\",\n    \"Operating Margin: 35.8%\",\n    \"Net Profit Margin: 27.7%\",\n    \"Return on Equity: 25.0%\",\n    \"Debt to Equity Ratio: 0.45\"\n  ],\n  \"financial_statistics\": [\n    \"Revenue Growth: 11.0%\",\n    \"EPS Growth: 17.0%\",\n    \"R&D as % of Revenue: 18.1%\",\n    \"Effective Tax Rate: 18.0%\"\n  ],\n  \"financial_multiples\": [\n    \"Price to Earnings Ratio: 41.8\",\n    \"Price to Sales Ratio: 12.3\",\n    \"Price to Book Ratio: 9.5\",\n    \"Enterprise Value to Revenue: 11.2\",\n    \"Enterprise Value to EBITDA: 31.2\"\n  ]\n}\n```"
          },
          "metadata": {}
        },
        {
          "output_type": "stream",
          "name": "stdout",
          "text": [
            "grounding_chunks=None grounding_supports=None retrieval_metadata=None retrieval_queries=None search_entry_point=None web_search_queries=None\n"
          ]
        }
      ]
    },
    {
      "cell_type": "code",
      "source": [
        "import json\n",
        "import re\n",
        "\n",
        "# Extract the JSON object using a regular expression\n",
        "json_match = re.search(r'\\{(.*?)\\}', response.text, re.DOTALL)\n",
        "\n",
        "if json_match:\n",
        "    json_string = json_match.group(0)  # Get the matched JSON string\n",
        "    json_response = json.loads(json_string)\n",
        "    print(json.dumps(json_response, indent=0))\n",
        "else:\n",
        "    print(\"No valid JSON object found in the response.\")"
      ],
      "metadata": {
        "colab": {
          "base_uri": "https://localhost:8080/"
        },
        "id": "HID-A8TTUcpD",
        "outputId": "2615bb49-e19c-44bc-f984-35ff7e39f9f0"
      },
      "execution_count": 163,
      "outputs": [
        {
          "output_type": "stream",
          "name": "stdout",
          "text": [
            "{\n",
            "\"name\": \"Adobe\",\n",
            "\"description\": \"Key financial metrics, ratios, statistics, and multiples for Adobe for fiscal year 2024\",\n",
            "\"stock_price\": 517.76,\n",
            "\"earnings_per_share\": 12.38,\n",
            "\"financial_metrics\": [\n",
            "\"Revenue: 19275 M\",\n",
            "\"Operating Income: 6898 M\",\n",
            "\"Net Income: 5345 M\",\n",
            "\"Free Cash Flow: 7415 M\",\n",
            "\"R&D Expense: 3485 M\",\n",
            "\"Sales and Marketing Expense: 5485 M\",\n",
            "\"Capital Expenditure: 289 M\"\n",
            "],\n",
            "\"financial_ratios\": [\n",
            "\"Gross Margin: 88.0%\",\n",
            "\"Operating Margin: 35.8%\",\n",
            "\"Net Profit Margin: 27.7%\",\n",
            "\"Return on Equity: 25.0%\",\n",
            "\"Debt to Equity Ratio: 0.45\"\n",
            "],\n",
            "\"financial_statistics\": [\n",
            "\"Revenue Growth: 11.0%\",\n",
            "\"EPS Growth: 17.0%\",\n",
            "\"R&D as % of Revenue: 18.1%\",\n",
            "\"Effective Tax Rate: 18.0%\"\n",
            "],\n",
            "\"financial_multiples\": [\n",
            "\"Price to Earnings Ratio: 41.8\",\n",
            "\"Price to Sales Ratio: 12.3\",\n",
            "\"Price to Book Ratio: 9.5\",\n",
            "\"Enterprise Value to Revenue: 11.2\",\n",
            "\"Enterprise Value to EBITDA: 31.2\"\n",
            "]\n",
            "}\n"
          ]
        }
      ]
    },
    {
      "cell_type": "markdown",
      "source": [
        "# API Calls"
      ],
      "metadata": {
        "id": "SScmSdXs88mB"
      }
    },
    {
      "cell_type": "markdown",
      "source": [
        "### Edgar call"
      ],
      "metadata": {
        "id": "hA4vgY99ne7o"
      }
    },
    {
      "cell_type": "code",
      "source": [
        "import os\n",
        "from edgar import Company\n",
        "\n",
        "os.environ[\"EDGAR_IDENTITY\"]=\"aleks@ololand.ai\"\n",
        "\n",
        "company = Company(\"ADBE\")\n",
        "financials = company.financials\n",
        "\n",
        "income_statement = financials.get_income_statement().data.to_markdown()\n",
        "balance_sheet = financials.get_balance_sheet().data.to_markdown()\n",
        "cash_flow = financials.get_cash_flow_statement().data.to_markdown()\n",
        "comprehensive_income = (financials.get_statement_of_comprehensive_income().data.to_markdown())\n",
        "\n",
        "print(income_statement)\n",
        "print(balance_sheet)\n",
        "print(cash_flow)\n",
        "print(comprehensive_income)"
      ],
      "metadata": {
        "colab": {
          "base_uri": "https://localhost:8080/"
        },
        "id": "692QOwU0njLS",
        "outputId": "cfb4096d-dd5a-483c-d4e2-4ee13e11ab5e"
      },
      "execution_count": 164,
      "outputs": [
        {
          "output_type": "stream",
          "name": "stdout",
          "text": [
            "| label                                                           |        2024 |        2023 |        2022 | segment                        | concept                                                                                             |   level | style   |   decimals |\n",
            "|:----------------------------------------------------------------|------------:|------------:|------------:|:-------------------------------|:----------------------------------------------------------------------------------------------------|--------:|:--------|-----------:|\n",
            "| Revenue                                                         |  2.1505e+10 |  1.9409e+10 |  1.7606e+10 |                                | us-gaap_Revenues                                                                                    |       0 | Detail  |         -6 |\n",
            "| Subscription                                                    |  2.0521e+10 |  1.8284e+10 |  1.6388e+10 | adbe:SubscriptionRevenueMember | us-gaap_Revenues                                                                                    |       1 | Detail  |         -6 |\n",
            "| Product                                                         |  3.86e+08   |  4.6e+08    |  5.32e+08   | us-gaap:ProductMember          | us-gaap_Revenues                                                                                    |       1 | Detail  |         -6 |\n",
            "| Services and other                                              |  5.98e+08   |  6.65e+08   |  6.86e+08   | us-gaap:ServiceOtherMember     | us-gaap_Revenues                                                                                    |       1 | Detail  |         -6 |\n",
            "| Cost of revenue                                                 | -2.358e+09  | -2.354e+09  | -2.165e+09  |                                | us-gaap_CostOfRevenue                                                                               |       0 | Detail  |         -6 |\n",
            "| Subscription                                                    | -1.799e+09  | -1.822e+09  | -1.646e+09  | adbe:SubscriptionRevenueMember | us-gaap_CostOfRevenue                                                                               |       1 | Detail  |         -6 |\n",
            "| Product                                                         | -2.5e+07    | -2.9e+07    | -3.5e+07    | us-gaap:ProductMember          | us-gaap_CostOfRevenue                                                                               |       1 | Detail  |         -6 |\n",
            "| Services and other                                              | -5.34e+08   | -5.03e+08   | -4.84e+08   | us-gaap:ServiceOtherMember     | us-gaap_CostOfRevenue                                                                               |       1 | Detail  |         -6 |\n",
            "| Gross profit                                                    |  1.9147e+10 |  1.7055e+10 |  1.5441e+10 |                                | us-gaap_GrossProfit                                                                                 |       0 | Total   |         -6 |\n",
            "| Research and development                                        |  3.944e+09  |  3.473e+09  |  2.987e+09  |                                | us-gaap_ResearchAndDevelopmentExpenseSoftwareExcludingAcquiredInProcessCost                         |       1 | Detail  |         -6 |\n",
            "| Sales and marketing                                             |  5.764e+09  |  5.351e+09  |  4.968e+09  |                                | us-gaap_SellingAndMarketingExpense                                                                  |       1 | Detail  |         -6 |\n",
            "| General and administrative                                      |  1.529e+09  |  1.413e+09  |  1.219e+09  |                                | us-gaap_GeneralAndAdministrativeExpense                                                             |       1 | Detail  |         -6 |\n",
            "| Acquisition termination fee                                     |  1e+09      |  0          |  0          |                                | us-gaap_OtherNonrecurringExpense                                                                    |       1 | Detail  |         -6 |\n",
            "| Amortization of intangibles                                     |  1.69e+08   |  1.68e+08   |  1.69e+08   |                                | adbe_OperatingExpensesAmortizationOfPurchasedIntangibles                                            |       1 | Detail  |         -6 |\n",
            "| Total operating expenses                                        | -1.2406e+10 | -1.0405e+10 | -9.343e+09  |                                | us-gaap_OperatingExpenses                                                                           |       1 | Total   |         -6 |\n",
            "| Operating income                                                |  6.741e+09  |  6.65e+09   |  6.098e+09  |                                | us-gaap_OperatingIncomeLoss                                                                         |       0 | Total   |         -6 |\n",
            "| Interest expense                                                | -1.69e+08   | -1.13e+08   | -1.12e+08   |                                | us-gaap_InterestExpenseNonoperating                                                                 |       1 | Detail  |         -6 |\n",
            "| Investment gains (losses), net                                  |  4.8e+07    |  1.6e+07    | -1.9e+07    |                                | us-gaap_GainLossOnInvestments                                                                       |       1 | Detail  |         -6 |\n",
            "| Other income (expense), net                                     |  3.11e+08   |  2.46e+08   |  4.1e+07    |                                | us-gaap_OtherNonoperatingIncome                                                                     |       1 | Detail  |         -6 |\n",
            "| Total non-operating income (expense), net                       |  1.9e+08    |  1.49e+08   | -9e+07      |                                | us-gaap_NonoperatingIncomeExpense                                                                   |       1 | Total   |         -6 |\n",
            "| Income before income taxes                                      |  6.931e+09  |  6.799e+09  |  6.008e+09  |                                | us-gaap_IncomeLossFromContinuingOperationsBeforeIncomeTaxesExtraordinaryItemsNoncontrollingInterest |       0 | Total   |         -6 |\n",
            "| Provision for income taxes                                      | -1.371e+09  | -1.371e+09  | -1.252e+09  |                                | us-gaap_IncomeTaxExpenseBenefit                                                                     |       0 | Detail  |         -6 |\n",
            "| Net income                                                      |  5.56e+09   |  5.428e+09  |  4.756e+09  |                                | us-gaap_NetIncomeLoss                                                                               |       0 | Total   |         -6 |\n",
            "| Basic net income per share (in dollars per share)               | 12.43       | 11.87       | 10.13       |                                | us-gaap_EarningsPerShareBasic                                                                       |       0 | Detail  |          2 |\n",
            "| Shares used to compute basic net income per share (in shares)   |  4.471e+08  |  4.571e+08  |  4.695e+08  |                                | us-gaap_WeightedAverageNumberOfSharesOutstandingBasic                                               |       0 | Detail  |         -5 |\n",
            "| Diluted net income per share (in dollars per share)             | 12.36       | 11.82       | 10.1        |                                | us-gaap_EarningsPerShareDiluted                                                                     |       0 | Detail  |          2 |\n",
            "| Shares used to compute diluted net income per share (in shares) |  4.497e+08  |  4.591e+08  |  4.709e+08  |                                | us-gaap_WeightedAverageNumberOfDilutedSharesOutstanding                                             |       0 | Detail  |         -5 |\n",
            "| label                                                                                                                    | 2024         | 2023         | concept                                                 |   level | style   | decimals   |\n",
            "|:-------------------------------------------------------------------------------------------------------------------------|:-------------|:-------------|:--------------------------------------------------------|--------:|:--------|:-----------|\n",
            "| Cash and cash equivalents                                                                                                | 7613000000   | 7141000000   | us-gaap_CashAndCashEquivalentsAtCarryingValue           |       2 | Detail  | -6         |\n",
            "| Short-term investments                                                                                                   | 273000000    | 701000000    | us-gaap_ShortTermInvestments                            |       2 | Detail  | -6         |\n",
            "| Trade receivables, net of allowances for doubtful accounts of $14 and of $16, respectively                               | 2070000000   | 2220000000   | us-gaap_AccountsReceivableNetCurrent                    |       2 | Detail  | -7         |\n",
            "| Prepaid expenses and other current assets                                                                                | 1274000000   | 1018000000   | us-gaap_PrepaidExpenseAndOtherAssetsCurrent             |       2 | Detail  | -6         |\n",
            "| Total current assets                                                                                                     | 11232000000  | 11084000000  | us-gaap_AssetsCurrent                                   |       2 | Total   | -6         |\n",
            "| Property and equipment, net                                                                                              | 1936000000   | 2030000000   | us-gaap_PropertyPlantAndEquipmentNet                    |       1 | Detail  | -6         |\n",
            "| Operating lease right-of-use assets, net                                                                                 | 281000000    | 358000000    | us-gaap_OperatingLeaseRightOfUseAsset                   |       1 | Detail  | -6         |\n",
            "| Goodwill                                                                                                                 | 12788000000  | 12805000000  | us-gaap_Goodwill                                        |       1 | Detail  | -6         |\n",
            "| Other intangibles, net                                                                                                   | 782000000    | 1088000000   | us-gaap_OtherIntangibleAssetsNet                        |       1 | Detail  | -6         |\n",
            "| Deferred income taxes                                                                                                    | 1657000000   | 1191000000   | us-gaap_DeferredIncomeTaxAssetsNet                      |       1 | Detail  | -6         |\n",
            "| Other assets                                                                                                             | 1554000000   | 1223000000   | us-gaap_OtherAssetsNoncurrent                           |       1 | Detail  | -6         |\n",
            "| Total assets                                                                                                             | 30230000000  | 29779000000  | us-gaap_Assets                                          |       1 | Total   | -6         |\n",
            "| Trade payables                                                                                                           | 361000000    | 314000000    | us-gaap_AccountsPayableCurrent                          |       2 | Detail  | -6         |\n",
            "| Accrued expenses                                                                                                         | 2336000000   | 1942000000   | us-gaap_AccruedLiabilitiesCurrent                       |       2 | Detail  | -6         |\n",
            "| Debt                                                                                                                     | 1500000000   | 0            | us-gaap_DebtCurrent                                     |       2 | Detail  | -6         |\n",
            "| Deferred revenue                                                                                                         | 6131000000   | 5837000000   | us-gaap_ContractWithCustomerLiabilityCurrent            |       2 | Detail  | -6         |\n",
            "| Income taxes payable                                                                                                     | 119000000    | 85000000     | us-gaap_AccruedIncomeTaxesCurrent                       |       2 | Detail  | -6         |\n",
            "| Operating lease liabilities                                                                                              | 75000000     | 73000000     | us-gaap_OperatingLeaseLiabilityCurrent                  |       2 | Detail  | -6         |\n",
            "| Total current liabilities                                                                                                | 10521000000  | 8251000000   | us-gaap_LiabilitiesCurrent                              |       2 | Total   | -6         |\n",
            "| Debt                                                                                                                     | 4129000000   | 3634000000   | us-gaap_LongTermDebt                                    |       2 | Detail  | -6         |\n",
            "| Deferred revenue                                                                                                         | 128000000    | 113000000    | us-gaap_ContractWithCustomerLiabilityNoncurrent         |       2 | Detail  | -6         |\n",
            "| Income taxes payable                                                                                                     | 548000000    | 514000000    | us-gaap_AccruedIncomeTaxesNoncurrent                    |       2 | Detail  | -6         |\n",
            "| Operating lease liabilities                                                                                              | 353000000    | 373000000    | us-gaap_OperatingLeaseLiabilityNoncurrent               |       2 | Detail  | -6         |\n",
            "| Other liabilities                                                                                                        | 446000000    | 376000000    | us-gaap_OtherLiabilitiesNoncurrent                      |       2 | Detail  | -6         |\n",
            "| Total liabilities                                                                                                        | 16125000000  | 13261000000  | us-gaap_Liabilities                                     |       2 | Total   | -6         |\n",
            "| Commitments and contingencies                                                                                            |              |              | us-gaap_CommitmentsAndContingencies                     |       1 | Detail  | <NA>       |\n",
            "| Preferred stock, $0.0001 par value; 2 shares authorized; none issued                                                     | 0            | 0            | us-gaap_PreferredStockValue                             |       2 | Detail  | -6         |\n",
            "| Common stock, $0.0001 par value; 900 shares authorized; 601 shares issued;  441 and 455 shares outstanding, respectively | 0            | 0            | us-gaap_CommonStockValue                                |       2 | Detail  | -6         |\n",
            "| Additional paid-in capital                                                                                               | 13419000000  | 11586000000  | us-gaap_AdditionalPaidInCapital                         |       2 | Detail  | -6         |\n",
            "| Retained earnings                                                                                                        | 38470000000  | 33346000000  | us-gaap_RetainedEarningsAccumulatedDeficit              |       2 | Detail  | -6         |\n",
            "| Accumulated other comprehensive income (loss)                                                                            | -201000000   | -285000000   | us-gaap_AccumulatedOtherComprehensiveIncomeLossNetOfTax |       2 | Detail  | -6         |\n",
            "| Treasury stock, at cost (160 and 146 shares, respectively)                                                               | -37583000000 | -28129000000 | us-gaap_TreasuryStockCommonValue                        |       2 | Detail  | -6         |\n",
            "| Total stockholders’ equity                                                                                               | 14105000000  | 16518000000  | us-gaap_StockholdersEquity                              |       2 | Total   | -6         |\n",
            "| Total liabilities and stockholders’ equity                                                                               | 30230000000  | 29779000000  | us-gaap_LiabilitiesAndStockholdersEquity                |       1 | Total   | -6         |\n",
            "| label                                                                  |        2024 |        2023 |        2022 | concept                                                                                                                |   level | style   |   decimals |\n",
            "|:-----------------------------------------------------------------------|------------:|------------:|------------:|:-----------------------------------------------------------------------------------------------------------------------|--------:|:--------|-----------:|\n",
            "| Net income                                                             |  5560000000 |  5428000000 |  4756000000 | us-gaap_NetIncomeLoss                                                                                                  |       1 | Detail  |         -6 |\n",
            "| Depreciation, amortization and accretion                               |   857000000 |   872000000 |   856000000 | us-gaap_DepreciationDepletionAndAmortization                                                                           |       2 | Detail  |         -6 |\n",
            "| Stock-based compensation                                               |  1833000000 |  1718000000 |  1440000000 | us-gaap_ShareBasedCompensation                                                                                         |       2 | Detail  |         -6 |\n",
            "| Reduction of operating lease right-of-use assets                       |    77000000 |    72000000 |    83000000 | adbe_IncreaseDecreaseInOperatingLeaseRightOfUseAssets                                                                  |       2 | Detail  |         -6 |\n",
            "| Lease-related asset impairments                                        |    78000000 |           0 |           0 | us-gaap_OperatingLeaseImpairmentLoss                                                                                   |       2 | Detail  |         -6 |\n",
            "| Deferred income taxes                                                  |  -468000000 |  -426000000 |   328000000 | us-gaap_DeferredIncomeTaxesAndTaxCredits                                                                               |       2 | Detail  |         -6 |\n",
            "| Unrealized losses (gains) on investments, net                          |   -35000000 |   -10000000 |   -29000000 | us-gaap_UnrealizedGainLossOnInvestments                                                                                |       2 | Detail  |         -6 |\n",
            "| Other non-cash items                                                   |   -10000000 |    -3000000 |   -10000000 | us-gaap_OtherNoncashIncomeExpense                                                                                      |       2 | Detail  |         -6 |\n",
            "| Trade receivables, net                                                 |  -143000000 |  -159000000 |  -198000000 | us-gaap_IncreaseDecreaseInReceivables                                                                                  |       3 | Detail  |         -6 |\n",
            "| Prepaid expenses and other assets                                      |  -616000000 |  -818000000 |   -94000000 | us-gaap_IncreaseDecreaseInPrepaidDeferredExpenseAndOtherAssets                                                         |       3 | Detail  |         -6 |\n",
            "| Trade payables                                                         |    44000000 |   -49000000 |    66000000 | us-gaap_IncreaseDecreaseInAccountsPayable                                                                              |       3 | Detail  |         -6 |\n",
            "| Accrued expenses and other liabilities                                 |   196000000 |   146000000 |     7000000 | us-gaap_IncreaseDecreaseInAccruedLiabilities                                                                           |       3 | Detail  |         -6 |\n",
            "| Income taxes payable                                                   |    68000000 |   -11000000 |    19000000 | us-gaap_IncreaseDecreaseInAccruedIncomeTaxesPayable                                                                    |       3 | Detail  |         -6 |\n",
            "| Deferred revenue                                                       |   309000000 |   536000000 |   536000000 | us-gaap_IncreaseDecreaseInDeferredRevenue                                                                              |       3 | Detail  |         -6 |\n",
            "| Net cash provided by operating activities                              |  8056000000 |  7302000000 |  7838000000 | us-gaap_NetCashProvidedByUsedInOperatingActivities                                                                     |       1 | Total   |         -6 |\n",
            "| Purchases of short-term investments                                    |   -59000000 |          -0 |  -909000000 | us-gaap_PaymentsToAcquireShortTermInvestments                                                                          |       1 | Detail  |         -6 |\n",
            "| Maturities of short-term investments                                   |   486000000 |   965000000 |   683000000 | us-gaap_ProceedsFromMaturitiesPrepaymentsAndCallsOfShorttermInvestments                                                |       1 | Detail  |         -6 |\n",
            "| Proceeds from sales of short-term investments                          |    11000000 |   223000000 |   270000000 | us-gaap_ProceedsFromSaleOfShortTermInvestments                                                                         |       1 | Detail  |         -6 |\n",
            "| Acquisitions, net of cash acquired                                     |          -0 |          -0 |  -126000000 | us-gaap_PaymentsToAcquireBusinessesNetOfCashAcquired                                                                   |       1 | Detail  |         -6 |\n",
            "| Purchases of property and equipment                                    |  -183000000 |  -360000000 |  -442000000 | us-gaap_PaymentsToAcquirePropertyPlantAndEquipment                                                                     |       1 | Detail  |         -6 |\n",
            "| Purchases of long-term investments, intangibles and other assets       |  -108000000 |   -53000000 |   -46000000 | us-gaap_PaymentsToAcquireLongtermInvestments                                                                           |       1 | Detail  |         -6 |\n",
            "| Proceeds from sales of long-term investments and other assets          |     2000000 |     1000000 |           0 | us-gaap_ProceedsFromSaleOfLongtermInvestments                                                                          |       1 | Detail  |         -6 |\n",
            "| Net cash provided by (used for) investing activities                   |   149000000 |   776000000 |  -570000000 | us-gaap_NetCashProvidedByUsedInInvestingActivities                                                                     |       1 | Total   |         -6 |\n",
            "| Repurchases of common stock                                            | -9500000000 | -4400000000 | -6550000000 | us-gaap_PaymentsForRepurchaseOfCommonStock                                                                             |       1 | Detail  |         -6 |\n",
            "| Proceeds from re-issuance of treasury stock                            |   361000000 |   314000000 |   278000000 | us-gaap_ProceedsFromSaleOfTreasuryStock                                                                                |       1 | Detail  |         -6 |\n",
            "| Taxes paid related to net share settlement of equity awards            |  -677000000 |  -589000000 |  -518000000 | us-gaap_PaymentsRelatedToTaxWithholdingForShareBasedCompensation                                                       |       1 | Detail  |         -6 |\n",
            "| Proceeds from issuance of debt                                         |  1997000000 |           0 |           0 | us-gaap_ProceedsFromIssuanceOfDebt                                                                                     |       1 | Detail  |         -6 |\n",
            "| Repayment of debt                                                      |          -0 |  -500000000 |          -0 | us-gaap_RepaymentsOfLongTermDebt                                                                                       |       1 | Detail  |         -6 |\n",
            "| Other financing activities, net                                        |    95000000 |    -7000000 |   -35000000 | us-gaap_ProceedsFromPaymentsForOtherFinancingActivities                                                                |       1 | Detail  |         -6 |\n",
            "| Net cash used for financing activities                                 | -7724000000 | -5182000000 | -6825000000 | us-gaap_NetCashProvidedByUsedInFinancingActivities                                                                     |       1 | Total   |         -6 |\n",
            "| Effect of foreign currency exchange rates on cash and cash equivalents |    -9000000 |     9000000 |   -51000000 | us-gaap_EffectOfExchangeRateOnCashCashEquivalentsRestrictedCashAndRestrictedCashEquivalents                            |       0 | Detail  |         -6 |\n",
            "| Net change in cash and cash equivalents                                |   472000000 |  2905000000 |   392000000 | us-gaap_CashCashEquivalentsRestrictedCashAndRestrictedCashEquivalentsPeriodIncreaseDecreaseIncludingExchangeRateEffect |       0 | Total   |         -6 |\n",
            "| Cash and cash equivalents at end of year                               |  7613000000 |  7141000000 |  4236000000 | us-gaap_CashCashEquivalentsRestrictedCashAndRestrictedCashEquivalents                                                  |       0 | Total   |         -6 |\n",
            "| Cash paid for income taxes, net of refunds                             |  1727000000 |  1854000000 |   778000000 | us-gaap_IncomeTaxesPaidNet                                                                                             |       1 | Detail  |         -6 |\n",
            "| Cash paid for interest                                                 |   143000000 |   106000000 |   103000000 | us-gaap_InterestPaidNet                                                                                                |       1 | Detail  |         -6 |\n",
            "| label                                                                                      |       2024 |       2023 |       2022 | concept                                                                                           |   level | style   |   decimals |\n",
            "|:-------------------------------------------------------------------------------------------|-----------:|-----------:|-----------:|:--------------------------------------------------------------------------------------------------|--------:|:--------|-----------:|\n",
            "| Net income                                                                                 | 5560000000 | 5428000000 | 4756000000 | us-gaap_NetIncomeLoss                                                                             |       0 | Detail  |         -6 |\n",
            "| Unrealized gains / losses on available-for-sale securities                                 |   11000000 |   24000000 |  -39000000 | us-gaap_OtherComprehensiveIncomeUnrealizedHoldingGainLossOnSecuritiesArisingDuringPeriodNetOfTax  |       2 | Detail  |         -6 |\n",
            "| Reclassification adjustment for recognized gains / losses on available-for-sale securities |         -0 |   -5000000 |         -0 | us-gaap_OtherComprehensiveIncomeLossReclassificationAdjustmentFromAOCIForSaleOfSecuritiesNetOfTax |       2 | Detail  |         -6 |\n",
            "| Net increase (decrease) from available-for-sale securities                                 |   11000000 |   29000000 |  -39000000 | us-gaap_OtherComprehensiveIncomeLossAvailableForSaleSecuritiesAdjustmentNetOfTax                  |       2 | Total   |         -6 |\n",
            "| Unrealized gains / losses on derivative instruments                                        |   89000000 |  -12000000 |  139000000 | us-gaap_OtherComprehensiveIncomeLossCashFlowHedgeGainLossBeforeReclassificationAfterTax           |       2 | Detail  |         -6 |\n",
            "| Reclassification adjustment for realized gains / losses on derivative instruments          |  -17000000 |   31000000 |  151000000 | us-gaap_OtherComprehensiveIncomeLossCashFlowHedgeGainLossReclassificationAfterTax                 |       2 | Detail  |         -6 |\n",
            "| Net increase (decrease) from derivatives designated as hedging instruments                 |  106000000 |  -43000000 |  -12000000 | us-gaap_OtherComprehensiveIncomeLossCashFlowHedgeGainLossAfterReclassificationAndTax              |       2 | Total   |         -6 |\n",
            "| Foreign currency translation adjustments                                                   |  -33000000 |   22000000 | -105000000 | us-gaap_OtherComprehensiveIncomeLossForeignCurrencyTransactionAndTranslationAdjustmentNetOfTax    |       0 | Detail  |         -6 |\n",
            "| Other comprehensive income (loss), net of taxes                                            |   84000000 |    8000000 | -156000000 | us-gaap_OtherComprehensiveIncomeLossNetOfTaxPortionAttributableToParent                           |       0 | Total   |         -6 |\n",
            "| Total comprehensive income, net of taxes                                                   | 5644000000 | 5436000000 | 4600000000 | us-gaap_ComprehensiveIncomeNetOfTax                                                               |       0 | Total   |         -6 |\n"
          ]
        }
      ]
    },
    {
      "cell_type": "markdown",
      "source": [
        "### Stock Price"
      ],
      "metadata": {
        "id": "yByAzdrHdtA3"
      }
    },
    {
      "cell_type": "markdown",
      "source": [
        "### Simple function to call API for stock price"
      ],
      "metadata": {
        "id": "uILPfeKRfEKW"
      }
    },
    {
      "cell_type": "code",
      "source": [
        "import requests\n",
        "import json\n",
        "\n",
        "def get_stock_price(ticker_symbol):\n",
        "    \"\"\"\n",
        "    Retrieves the regular market price for a given stock ticker symbol from the Yahoo Finance API.\n",
        "\n",
        "    Args:\n",
        "        ticker_symbol (str): The stock ticker symbol (.\n",
        "\n",
        "    Returns:\n",
        "        float: The regular market price, formatted as a JSON string with indentation.\n",
        "               Returns None if the price cannot be retrieved or if an error occurs.\n",
        "    \"\"\"\n",
        "    url = f\"https://yahoo-finance127.p.rapidapi.com/price/{ticker_symbol}\"\n",
        "\n",
        "    headers = {\n",
        "        \"x-rapidapi-key\": \"972e53d400mshec833b00babac70p1d7d63jsnb87511296f5f\",\n",
        "        \"x-rapidapi-host\": \"yahoo-finance127.p.rapidapi.com\"\n",
        "    }\n",
        "\n",
        "    try:\n",
        "        response = requests.get(url, headers=headers)\n",
        "        response.raise_for_status()  # Raise HTTPError for bad responses (4xx or 5xx)\n",
        "        data = response.json()\n",
        "        regular_market_price = data[\"regularMarketPrice\"]\n",
        "        return json.dumps(regular_market_price, indent=4) # returns JSON string with indentation\n",
        "\n",
        "    except requests.exceptions.RequestException as e:\n",
        "        print(f\"Request failed: {e}\")\n",
        "        return None\n",
        "    except KeyError:\n",
        "        print(\"Key 'regularMarketPrice' not found in JSON data.\")\n",
        "        return None\n",
        "    except TypeError:\n",
        "        print(\"JSON data is not in dictionary format.\")\n",
        "        return None\n",
        "    except json.JSONDecodeError:\n",
        "        print(\"Failed to decode JSON response.\")\n",
        "        return None\n",
        "    except Exception as e:\n",
        "        print(f\"An unexpected error occurred: {e}\")\n",
        "        return None"
      ],
      "metadata": {
        "id": "1PyHkczFgGac"
      },
      "execution_count": 166,
      "outputs": []
    },
    {
      "cell_type": "code",
      "source": [
        "stock_ticker = \"AAPL\"\n",
        "price_json = get_stock_price(stock_ticker)\n",
        "if price_json:\n",
        "  print(f\"The price for {stock_ticker} is:\")\n",
        "  print(price_json)"
      ],
      "metadata": {
        "colab": {
          "base_uri": "https://localhost:8080/"
        },
        "id": "c-2PYGuCgIrY",
        "outputId": "8f99a57b-7e81-46f7-a670-b7692d4b6c0b"
      },
      "execution_count": 167,
      "outputs": [
        {
          "output_type": "stream",
          "name": "stdout",
          "text": [
            "The price for AAPL is:\n",
            "{\n",
            "    \"raw\": 245.55,\n",
            "    \"fmt\": \"245.55\"\n",
            "}\n"
          ]
        }
      ]
    },
    {
      "cell_type": "markdown",
      "source": [
        "# Python Function (Automatic Function Calling)"
      ],
      "metadata": {
        "id": "f_OYEUvI37rq"
      }
    },
    {
      "cell_type": "markdown",
      "source": [
        "### Function calling to API to get stock price"
      ],
      "metadata": {
        "id": "HQBJ0dMNLBM7"
      }
    },
    {
      "cell_type": "code",
      "source": [
        "import requests\n",
        "import json\n",
        "\n",
        "def get_stock_price(ticker_symbol: str) -> str:\n",
        "    \"\"\"\n",
        "    Retrieves the regular market price for a given stock ticker symbol from the Yahoo Finance API.\n",
        "\n",
        "    Args:\n",
        "        ticker_symbol (str): The stock ticker symbol (.\n",
        "\n",
        "    Returns:\n",
        "        float: The regular market price, formatted as a JSON string with indentation.\n",
        "               Returns None if the price cannot be retrieved or if an error occurs.\n",
        "    \"\"\"\n",
        "    url = f\"https://yahoo-finance127.p.rapidapi.com/price/{ticker_symbol}\"\n",
        "\n",
        "    headers = {\n",
        "        \"x-rapidapi-key\": \"972e53d400mshec833b00babac70p1d7d63jsnb87511296f5f\",\n",
        "        \"x-rapidapi-host\": \"yahoo-finance127.p.rapidapi.com\"\n",
        "    }\n",
        "\n",
        "    response = requests.get(url, headers=headers)\n",
        "    response.raise_for_status()  # Raise HTTPError for bad responses (4xx or 5xx)\n",
        "    data = response.json()\n",
        "    regular_market_price = data[\"regularMarketPrice\"]\n",
        "    return json.dumps(regular_market_price, indent=4) # returns JSON string with indentation\n",
        "\n",
        "\n",
        "response = client.models.generate_content(\n",
        "    model=MODEL_ID,\n",
        "    contents=\"What is Adobe stock price?\",\n",
        "    config=GenerateContentConfig(\n",
        "        tools=[get_stock_price],\n",
        "        temperature=0,\n",
        "    ),\n",
        ")\n",
        "\n",
        "display(Markdown(response.text))"
      ],
      "metadata": {
        "colab": {
          "base_uri": "https://localhost:8080/",
          "height": 98
        },
        "id": "Xlsa4N404CGi",
        "outputId": "e8408f2b-a58e-4f4e-e574-fbd826f064e4"
      },
      "execution_count": 168,
      "outputs": [
        {
          "output_type": "stream",
          "name": "stderr",
          "text": [
            "/usr/local/lib/python3.11/dist-packages/pydantic/main.py:426: UserWarning: Pydantic serializer warnings:\n",
            "  Expected `enum` but got `str` with value `'STRING'` - serialized value may not be as expected\n",
            "  return self.__pydantic_serializer__.to_python(\n"
          ]
        },
        {
          "output_type": "display_data",
          "data": {
            "text/plain": [
              "<IPython.core.display.Markdown object>"
            ],
            "text/markdown": "The current stock price for Adobe (ADBE) is 444.32.\n"
          },
          "metadata": {}
        }
      ]
    },
    {
      "cell_type": "markdown",
      "source": [
        "## Function call with Google Search tool"
      ],
      "metadata": {
        "id": "Wo4uqobA6l0M"
      }
    },
    {
      "cell_type": "code",
      "source": [
        "import requests\n",
        "import json\n",
        "\n",
        "google_search_tool = Tool(google_search=GoogleSearch())\n",
        "\n",
        "response = client.models.generate_content(\n",
        "    model=MODEL_ID,\n",
        "    contents=\"\"\"What is Adobe stock price?\n",
        "        \"\"\",\n",
        "    config=GenerateContentConfig(\n",
        "        tools = [\n",
        "            google_search_tool, # Pass the google_search_tool instance directly\n",
        "            ]\n",
        "    )\n",
        ")\n",
        "\n",
        "display(Markdown(response.text))\n",
        "\n",
        "print(response.candidates[0].grounding_metadata)\n",
        "\n",
        "HTML(response.candidates[0].grounding_metadata.search_entry_point.rendered_content)"
      ],
      "metadata": {
        "colab": {
          "base_uri": "https://localhost:8080/",
          "height": 132
        },
        "id": "CbNh6a5_6lCO",
        "outputId": "ee360c1c-a3b6-40c4-87d4-41c48391d68b"
      },
      "execution_count": 169,
      "outputs": [
        {
          "output_type": "display_data",
          "data": {
            "text/plain": [
              "<IPython.core.display.Markdown object>"
            ],
            "text/markdown": "As of today, February 22, 2025, the stock price of Adobe (ADBE) is $444.32. It has decreased by -1.48% in the past 24 hours.\n"
          },
          "metadata": {}
        },
        {
          "output_type": "stream",
          "name": "stdout",
          "text": [
            "grounding_chunks=[GroundingChunk(retrieved_context=None, web=GroundingChunkWeb(title='tradingview.com', uri='https://vertexaisearch.cloud.google.com/grounding-api-redirect/AUBnsYtudggo1nL0TmV2Ld8Qafw7PP4WxodFTCkX8SA09X8G4qDpC-Bt_wLW-GTsrLw67Q0Ja0gbSNkWIpPA-9TlH-WrLyODVjDERcrp3k8HznksIgDCzHuGCwFu9i-PuHT8wI4RQd0TUFtEF7Id'))] grounding_supports=[GroundingSupport(confidence_scores=[0.98800397], grounding_chunk_indices=[0], segment=Segment(end_index=124, part_index=None, start_index=76, text='It has decreased by -1.48% in the past 24 hours.'))] retrieval_metadata=RetrievalMetadata(google_search_dynamic_retrieval_score=None) retrieval_queries=None search_entry_point=SearchEntryPoint(rendered_content='<style>\\n.container {\\n  align-items: center;\\n  border-radius: 8px;\\n  display: flex;\\n  font-family: Google Sans, Roboto, sans-serif;\\n  font-size: 14px;\\n  line-height: 20px;\\n  padding: 8px 12px;\\n}\\n.chip {\\n  display: inline-block;\\n  border: solid 1px;\\n  border-radius: 16px;\\n  min-width: 14px;\\n  padding: 5px 16px;\\n  text-align: center;\\n  user-select: none;\\n  margin: 0 8px;\\n  -webkit-tap-highlight-color: transparent;\\n}\\n.carousel {\\n  overflow: auto;\\n  scrollbar-width: none;\\n  white-space: nowrap;\\n  margin-right: -12px;\\n}\\n.headline {\\n  display: flex;\\n  margin-right: 4px;\\n}\\n.gradient-container {\\n  position: relative;\\n}\\n.gradient {\\n  position: absolute;\\n  transform: translate(3px, -9px);\\n  height: 36px;\\n  width: 9px;\\n}\\n@media (prefers-color-scheme: light) {\\n  .container {\\n    background-color: #fafafa;\\n    box-shadow: 0 0 0 1px #0000000f;\\n  }\\n  .headline-label {\\n    color: #1f1f1f;\\n  }\\n  .chip {\\n    background-color: #ffffff;\\n    border-color: #d2d2d2;\\n    color: #5e5e5e;\\n    text-decoration: none;\\n  }\\n  .chip:hover {\\n    background-color: #f2f2f2;\\n  }\\n  .chip:focus {\\n    background-color: #f2f2f2;\\n  }\\n  .chip:active {\\n    background-color: #d8d8d8;\\n    border-color: #b6b6b6;\\n  }\\n  .logo-dark {\\n    display: none;\\n  }\\n  .gradient {\\n    background: linear-gradient(90deg, #fafafa 15%, #fafafa00 100%);\\n  }\\n}\\n@media (prefers-color-scheme: dark) {\\n  .container {\\n    background-color: #1f1f1f;\\n    box-shadow: 0 0 0 1px #ffffff26;\\n  }\\n  .headline-label {\\n    color: #fff;\\n  }\\n  .chip {\\n    background-color: #2c2c2c;\\n    border-color: #3c4043;\\n    color: #fff;\\n    text-decoration: none;\\n  }\\n  .chip:hover {\\n    background-color: #353536;\\n  }\\n  .chip:focus {\\n    background-color: #353536;\\n  }\\n  .chip:active {\\n    background-color: #464849;\\n    border-color: #53575b;\\n  }\\n  .logo-light {\\n    display: none;\\n  }\\n  .gradient {\\n    background: linear-gradient(90deg, #1f1f1f 15%, #1f1f1f00 100%);\\n  }\\n}\\n</style>\\n<div class=\"container\">\\n  <div class=\"headline\">\\n    <svg class=\"logo-light\" width=\"18\" height=\"18\" viewBox=\"9 9 35 35\" fill=\"none\" xmlns=\"http://www.w3.org/2000/svg\">\\n      <path fill-rule=\"evenodd\" clip-rule=\"evenodd\" d=\"M42.8622 27.0064C42.8622 25.7839 42.7525 24.6084 42.5487 23.4799H26.3109V30.1568H35.5897C35.1821 32.3041 33.9596 34.1222 32.1258 35.3448V39.6864H37.7213C40.9814 36.677 42.8622 32.2571 42.8622 27.0064V27.0064Z\" fill=\"#4285F4\"/>\\n      <path fill-rule=\"evenodd\" clip-rule=\"evenodd\" d=\"M26.3109 43.8555C30.9659 43.8555 34.8687 42.3195 37.7213 39.6863L32.1258 35.3447C30.5898 36.3792 28.6306 37.0061 26.3109 37.0061C21.8282 37.0061 18.0195 33.9811 16.6559 29.906H10.9194V34.3573C13.7563 39.9841 19.5712 43.8555 26.3109 43.8555V43.8555Z\" fill=\"#34A853\"/>\\n      <path fill-rule=\"evenodd\" clip-rule=\"evenodd\" d=\"M16.6559 29.8904C16.3111 28.8559 16.1074 27.7588 16.1074 26.6146C16.1074 25.4704 16.3111 24.3733 16.6559 23.3388V18.8875H10.9194C9.74388 21.2072 9.06992 23.8247 9.06992 26.6146C9.06992 29.4045 9.74388 32.022 10.9194 34.3417L15.3864 30.8621L16.6559 29.8904V29.8904Z\" fill=\"#FBBC05\"/>\\n      <path fill-rule=\"evenodd\" clip-rule=\"evenodd\" d=\"M26.3109 16.2386C28.85 16.2386 31.107 17.1164 32.9095 18.8091L37.8466 13.8719C34.853 11.082 30.9659 9.3736 26.3109 9.3736C19.5712 9.3736 13.7563 13.245 10.9194 18.8875L16.6559 23.3388C18.0195 19.2636 21.8282 16.2386 26.3109 16.2386V16.2386Z\" fill=\"#EA4335\"/>\\n    </svg>\\n    <svg class=\"logo-dark\" width=\"18\" height=\"18\" viewBox=\"0 0 48 48\" xmlns=\"http://www.w3.org/2000/svg\">\\n      <circle cx=\"24\" cy=\"23\" fill=\"#FFF\" r=\"22\"/>\\n      <path d=\"M33.76 34.26c2.75-2.56 4.49-6.37 4.49-11.26 0-.89-.08-1.84-.29-3H24.01v5.99h8.03c-.4 2.02-1.5 3.56-3.07 4.56v.75l3.91 2.97h.88z\" fill=\"#4285F4\"/>\\n      <path d=\"M15.58 25.77A8.845 8.845 0 0 0 24 31.86c1.92 0 3.62-.46 4.97-1.31l4.79 3.71C31.14 36.7 27.65 38 24 38c-5.93 0-11.01-3.4-13.45-8.36l.17-1.01 4.06-2.85h.8z\" fill=\"#34A853\"/>\\n      <path d=\"M15.59 20.21a8.864 8.864 0 0 0 0 5.58l-5.03 3.86c-.98-2-1.53-4.25-1.53-6.64 0-2.39.55-4.64 1.53-6.64l1-.22 3.81 2.98.22 1.08z\" fill=\"#FBBC05\"/>\\n      <path d=\"M24 14.14c2.11 0 4.02.75 5.52 1.98l4.36-4.36C31.22 9.43 27.81 8 24 8c-5.93 0-11.01 3.4-13.45 8.36l5.03 3.85A8.86 8.86 0 0 1 24 14.14z\" fill=\"#EA4335\"/>\\n    </svg>\\n    <div class=\"gradient-container\"><div class=\"gradient\"></div></div>\\n  </div>\\n  <div class=\"carousel\">\\n    <a class=\"chip\" href=\"https://vertexaisearch.cloud.google.com/grounding-api-redirect/AUBnsYsWlyVLTDR6CaZ23ClzyVM7Wb0Cc0Kj7L8S1i19X3xViIkNhkxd2IzeUiwazqF6cdyOCJvkPWvvgAyMq6MYA3rKz_03uHAkR01rBP4EaltXiVIwaT-9cfYd3U3W2fYrZ9QhT-OmMu80EhthC-lI2DBeqvndAllti3op6qHyzZ5MLD0SUYnUCIweV2C7_i4EIrWUpQU=\">Adobe stock price</a>\\n  </div>\\n</div>\\n', sdk_blob=None) web_search_queries=['Adobe stock price']\n"
          ]
        },
        {
          "output_type": "execute_result",
          "data": {
            "text/plain": [
              "<IPython.core.display.HTML object>"
            ],
            "text/html": [
              "<style>\n",
              ".container {\n",
              "  align-items: center;\n",
              "  border-radius: 8px;\n",
              "  display: flex;\n",
              "  font-family: Google Sans, Roboto, sans-serif;\n",
              "  font-size: 14px;\n",
              "  line-height: 20px;\n",
              "  padding: 8px 12px;\n",
              "}\n",
              ".chip {\n",
              "  display: inline-block;\n",
              "  border: solid 1px;\n",
              "  border-radius: 16px;\n",
              "  min-width: 14px;\n",
              "  padding: 5px 16px;\n",
              "  text-align: center;\n",
              "  user-select: none;\n",
              "  margin: 0 8px;\n",
              "  -webkit-tap-highlight-color: transparent;\n",
              "}\n",
              ".carousel {\n",
              "  overflow: auto;\n",
              "  scrollbar-width: none;\n",
              "  white-space: nowrap;\n",
              "  margin-right: -12px;\n",
              "}\n",
              ".headline {\n",
              "  display: flex;\n",
              "  margin-right: 4px;\n",
              "}\n",
              ".gradient-container {\n",
              "  position: relative;\n",
              "}\n",
              ".gradient {\n",
              "  position: absolute;\n",
              "  transform: translate(3px, -9px);\n",
              "  height: 36px;\n",
              "  width: 9px;\n",
              "}\n",
              "@media (prefers-color-scheme: light) {\n",
              "  .container {\n",
              "    background-color: #fafafa;\n",
              "    box-shadow: 0 0 0 1px #0000000f;\n",
              "  }\n",
              "  .headline-label {\n",
              "    color: #1f1f1f;\n",
              "  }\n",
              "  .chip {\n",
              "    background-color: #ffffff;\n",
              "    border-color: #d2d2d2;\n",
              "    color: #5e5e5e;\n",
              "    text-decoration: none;\n",
              "  }\n",
              "  .chip:hover {\n",
              "    background-color: #f2f2f2;\n",
              "  }\n",
              "  .chip:focus {\n",
              "    background-color: #f2f2f2;\n",
              "  }\n",
              "  .chip:active {\n",
              "    background-color: #d8d8d8;\n",
              "    border-color: #b6b6b6;\n",
              "  }\n",
              "  .logo-dark {\n",
              "    display: none;\n",
              "  }\n",
              "  .gradient {\n",
              "    background: linear-gradient(90deg, #fafafa 15%, #fafafa00 100%);\n",
              "  }\n",
              "}\n",
              "@media (prefers-color-scheme: dark) {\n",
              "  .container {\n",
              "    background-color: #1f1f1f;\n",
              "    box-shadow: 0 0 0 1px #ffffff26;\n",
              "  }\n",
              "  .headline-label {\n",
              "    color: #fff;\n",
              "  }\n",
              "  .chip {\n",
              "    background-color: #2c2c2c;\n",
              "    border-color: #3c4043;\n",
              "    color: #fff;\n",
              "    text-decoration: none;\n",
              "  }\n",
              "  .chip:hover {\n",
              "    background-color: #353536;\n",
              "  }\n",
              "  .chip:focus {\n",
              "    background-color: #353536;\n",
              "  }\n",
              "  .chip:active {\n",
              "    background-color: #464849;\n",
              "    border-color: #53575b;\n",
              "  }\n",
              "  .logo-light {\n",
              "    display: none;\n",
              "  }\n",
              "  .gradient {\n",
              "    background: linear-gradient(90deg, #1f1f1f 15%, #1f1f1f00 100%);\n",
              "  }\n",
              "}\n",
              "</style>\n",
              "<div class=\"container\">\n",
              "  <div class=\"headline\">\n",
              "    <svg class=\"logo-light\" width=\"18\" height=\"18\" viewBox=\"9 9 35 35\" fill=\"none\" xmlns=\"http://www.w3.org/2000/svg\">\n",
              "      <path fill-rule=\"evenodd\" clip-rule=\"evenodd\" d=\"M42.8622 27.0064C42.8622 25.7839 42.7525 24.6084 42.5487 23.4799H26.3109V30.1568H35.5897C35.1821 32.3041 33.9596 34.1222 32.1258 35.3448V39.6864H37.7213C40.9814 36.677 42.8622 32.2571 42.8622 27.0064V27.0064Z\" fill=\"#4285F4\"/>\n",
              "      <path fill-rule=\"evenodd\" clip-rule=\"evenodd\" d=\"M26.3109 43.8555C30.9659 43.8555 34.8687 42.3195 37.7213 39.6863L32.1258 35.3447C30.5898 36.3792 28.6306 37.0061 26.3109 37.0061C21.8282 37.0061 18.0195 33.9811 16.6559 29.906H10.9194V34.3573C13.7563 39.9841 19.5712 43.8555 26.3109 43.8555V43.8555Z\" fill=\"#34A853\"/>\n",
              "      <path fill-rule=\"evenodd\" clip-rule=\"evenodd\" d=\"M16.6559 29.8904C16.3111 28.8559 16.1074 27.7588 16.1074 26.6146C16.1074 25.4704 16.3111 24.3733 16.6559 23.3388V18.8875H10.9194C9.74388 21.2072 9.06992 23.8247 9.06992 26.6146C9.06992 29.4045 9.74388 32.022 10.9194 34.3417L15.3864 30.8621L16.6559 29.8904V29.8904Z\" fill=\"#FBBC05\"/>\n",
              "      <path fill-rule=\"evenodd\" clip-rule=\"evenodd\" d=\"M26.3109 16.2386C28.85 16.2386 31.107 17.1164 32.9095 18.8091L37.8466 13.8719C34.853 11.082 30.9659 9.3736 26.3109 9.3736C19.5712 9.3736 13.7563 13.245 10.9194 18.8875L16.6559 23.3388C18.0195 19.2636 21.8282 16.2386 26.3109 16.2386V16.2386Z\" fill=\"#EA4335\"/>\n",
              "    </svg>\n",
              "    <svg class=\"logo-dark\" width=\"18\" height=\"18\" viewBox=\"0 0 48 48\" xmlns=\"http://www.w3.org/2000/svg\">\n",
              "      <circle cx=\"24\" cy=\"23\" fill=\"#FFF\" r=\"22\"/>\n",
              "      <path d=\"M33.76 34.26c2.75-2.56 4.49-6.37 4.49-11.26 0-.89-.08-1.84-.29-3H24.01v5.99h8.03c-.4 2.02-1.5 3.56-3.07 4.56v.75l3.91 2.97h.88z\" fill=\"#4285F4\"/>\n",
              "      <path d=\"M15.58 25.77A8.845 8.845 0 0 0 24 31.86c1.92 0 3.62-.46 4.97-1.31l4.79 3.71C31.14 36.7 27.65 38 24 38c-5.93 0-11.01-3.4-13.45-8.36l.17-1.01 4.06-2.85h.8z\" fill=\"#34A853\"/>\n",
              "      <path d=\"M15.59 20.21a8.864 8.864 0 0 0 0 5.58l-5.03 3.86c-.98-2-1.53-4.25-1.53-6.64 0-2.39.55-4.64 1.53-6.64l1-.22 3.81 2.98.22 1.08z\" fill=\"#FBBC05\"/>\n",
              "      <path d=\"M24 14.14c2.11 0 4.02.75 5.52 1.98l4.36-4.36C31.22 9.43 27.81 8 24 8c-5.93 0-11.01 3.4-13.45 8.36l5.03 3.85A8.86 8.86 0 0 1 24 14.14z\" fill=\"#EA4335\"/>\n",
              "    </svg>\n",
              "    <div class=\"gradient-container\"><div class=\"gradient\"></div></div>\n",
              "  </div>\n",
              "  <div class=\"carousel\">\n",
              "    <a class=\"chip\" href=\"https://vertexaisearch.cloud.google.com/grounding-api-redirect/AUBnsYsWlyVLTDR6CaZ23ClzyVM7Wb0Cc0Kj7L8S1i19X3xViIkNhkxd2IzeUiwazqF6cdyOCJvkPWvvgAyMq6MYA3rKz_03uHAkR01rBP4EaltXiVIwaT-9cfYd3U3W2fYrZ9QhT-OmMu80EhthC-lI2DBeqvndAllti3op6qHyzZ5MLD0SUYnUCIweV2C7_i4EIrWUpQU=\">Adobe stock price</a>\n",
              "  </div>\n",
              "</div>\n"
            ]
          },
          "metadata": {},
          "execution_count": 169
        }
      ]
    },
    {
      "cell_type": "markdown",
      "source": [
        "# Chat with Function Calling and Tools: API and Google Search"
      ],
      "metadata": {
        "id": "xC0OPaaxL4Na"
      }
    },
    {
      "cell_type": "markdown",
      "source": [
        "### Define an API function"
      ],
      "metadata": {
        "id": "9AD_T9aCNcuK"
      }
    },
    {
      "cell_type": "markdown",
      "source": [
        "When you want to use function calling, you define the functions as tools in the GenerateContentConfig, along with other generation-related settings (such as temperature or stop tokens)."
      ],
      "metadata": {
        "id": "a9BtnRuaOBXe"
      }
    },
    {
      "cell_type": "code",
      "source": [
        "import requests\n",
        "import json\n",
        "\n",
        "def get_stock_price(ticker_symbol: str) -> str:\n",
        "    \"\"\"\n",
        "    Retrieves the regular market price for a given stock ticker symbol from the Yahoo Finance API.\n",
        "\n",
        "    Args:\n",
        "        ticker_symbol (str): The stock ticker symbol (.\n",
        "\n",
        "    Returns:\n",
        "        float: The regular market price, formatted as a JSON string with indentation.\n",
        "               Returns None if the price cannot be retrieved or if an error occurs.\n",
        "    \"\"\"\n",
        "    url = f\"https://yahoo-finance127.p.rapidapi.com/price/{ticker_symbol}\"\n",
        "\n",
        "    headers = {\n",
        "        \"x-rapidapi-key\": \"972e53d400mshec833b00babac70p1d7d63jsnb87511296f5f\",\n",
        "        \"x-rapidapi-host\": \"yahoo-finance127.p.rapidapi.com\"\n",
        "    }\n",
        "\n",
        "    response = requests.get(url, headers=headers)\n",
        "    response.raise_for_status()  # Raise HTTPError for bad responses (4xx or 5xx)\n",
        "    data = response.json()\n",
        "    regular_market_price = data[\"regularMarketPrice\"]\n",
        "    return json.dumps(regular_market_price, indent=4) # returns JSON string with indentation\n",
        "\n",
        "# Declare function during model initialization\n",
        "\n"
      ],
      "metadata": {
        "id": "EFnfwh8pKg23"
      },
      "execution_count": 170,
      "outputs": []
    },
    {
      "cell_type": "code",
      "source": [
        "config = {\n",
        "    'tools': [get_stock_price],\n",
        "}\n",
        "\n",
        "chat = client.chats.create(model=MODEL_ID, config=config)\n",
        "response = chat.send_message('what is Nvidia stock price?')\n",
        "\n",
        "display(Markdown(response.text))\n",
        "\n",
        "for message in chat._curated_history:\n",
        "    print(f'role - ', message.role, end=\": \")\n",
        "    print(message.parts[0].text)"
      ],
      "metadata": {
        "colab": {
          "base_uri": "https://localhost:8080/",
          "height": 133
        },
        "id": "ja01Q5KeM2GE",
        "outputId": "a27d2583-7f84-4002-9d99-61733b41b4e9"
      },
      "execution_count": 171,
      "outputs": [
        {
          "output_type": "display_data",
          "data": {
            "text/plain": [
              "<IPython.core.display.Markdown object>"
            ],
            "text/markdown": "The current price of Nvidia (NVDA) is 134.43.\n"
          },
          "metadata": {}
        },
        {
          "output_type": "stream",
          "name": "stdout",
          "text": [
            "role -  user: what is Nvidia stock price?\n",
            "role -  model: None\n",
            "role -  user: None\n",
            "role -  model: The current price of Nvidia (NVDA) is 134.43.\n",
            "\n"
          ]
        }
      ]
    },
    {
      "cell_type": "code",
      "source": [
        "google_search_tool = Tool(google_search=GoogleSearch())\n",
        "\n",
        "config = {\n",
        "    'tools': [google_search_tool],\n",
        "}\n",
        "\n",
        "chat = client.chats.create(model=MODEL_ID, config=config)\n",
        "response = chat.send_message('what is Adobe stock price?')\n",
        "\n",
        "display(Markdown(response.text))\n",
        "\n",
        "print(response.candidates[0].grounding_metadata)\n",
        "\n",
        "HTML(response.candidates[0].grounding_metadata.search_entry_point.rendered_content)"
      ],
      "metadata": {
        "colab": {
          "base_uri": "https://localhost:8080/",
          "height": 132
        },
        "id": "WfB5shciORBn",
        "outputId": "bbc978db-a624-47a7-cb10-f3a4c5df080e"
      },
      "execution_count": 172,
      "outputs": [
        {
          "output_type": "display_data",
          "data": {
            "text/plain": [
              "<IPython.core.display.Markdown object>"
            ],
            "text/markdown": "The Adobe (ADBE) stock price is $444.32 as of February 21, 2025. It has decreased by -1.48% in the past 24 hours.\n"
          },
          "metadata": {}
        },
        {
          "output_type": "stream",
          "name": "stdout",
          "text": [
            "grounding_chunks=[GroundingChunk(retrieved_context=None, web=GroundingChunkWeb(title='tradingview.com', uri='https://vertexaisearch.cloud.google.com/grounding-api-redirect/AUBnsYvv9NixkTYUCGb4TCvfUWQa1e57oPImwpp7BysTpGXJeQLsTpsyrRq4jMFQC_bwvV7-4YyPP8wzU3sFJ_wiupob0CD3VEh4D4MxxFiJyZ22l1IlU5fXegyO1srDvcMxDLSKSKqf5yKESCTjDA=='))] grounding_supports=[GroundingSupport(confidence_scores=[0.98800397], grounding_chunk_indices=[0], segment=Segment(end_index=113, part_index=None, start_index=65, text='It has decreased by -1.48% in the past 24 hours.'))] retrieval_metadata=RetrievalMetadata(google_search_dynamic_retrieval_score=None) retrieval_queries=None search_entry_point=SearchEntryPoint(rendered_content='<style>\\n.container {\\n  align-items: center;\\n  border-radius: 8px;\\n  display: flex;\\n  font-family: Google Sans, Roboto, sans-serif;\\n  font-size: 14px;\\n  line-height: 20px;\\n  padding: 8px 12px;\\n}\\n.chip {\\n  display: inline-block;\\n  border: solid 1px;\\n  border-radius: 16px;\\n  min-width: 14px;\\n  padding: 5px 16px;\\n  text-align: center;\\n  user-select: none;\\n  margin: 0 8px;\\n  -webkit-tap-highlight-color: transparent;\\n}\\n.carousel {\\n  overflow: auto;\\n  scrollbar-width: none;\\n  white-space: nowrap;\\n  margin-right: -12px;\\n}\\n.headline {\\n  display: flex;\\n  margin-right: 4px;\\n}\\n.gradient-container {\\n  position: relative;\\n}\\n.gradient {\\n  position: absolute;\\n  transform: translate(3px, -9px);\\n  height: 36px;\\n  width: 9px;\\n}\\n@media (prefers-color-scheme: light) {\\n  .container {\\n    background-color: #fafafa;\\n    box-shadow: 0 0 0 1px #0000000f;\\n  }\\n  .headline-label {\\n    color: #1f1f1f;\\n  }\\n  .chip {\\n    background-color: #ffffff;\\n    border-color: #d2d2d2;\\n    color: #5e5e5e;\\n    text-decoration: none;\\n  }\\n  .chip:hover {\\n    background-color: #f2f2f2;\\n  }\\n  .chip:focus {\\n    background-color: #f2f2f2;\\n  }\\n  .chip:active {\\n    background-color: #d8d8d8;\\n    border-color: #b6b6b6;\\n  }\\n  .logo-dark {\\n    display: none;\\n  }\\n  .gradient {\\n    background: linear-gradient(90deg, #fafafa 15%, #fafafa00 100%);\\n  }\\n}\\n@media (prefers-color-scheme: dark) {\\n  .container {\\n    background-color: #1f1f1f;\\n    box-shadow: 0 0 0 1px #ffffff26;\\n  }\\n  .headline-label {\\n    color: #fff;\\n  }\\n  .chip {\\n    background-color: #2c2c2c;\\n    border-color: #3c4043;\\n    color: #fff;\\n    text-decoration: none;\\n  }\\n  .chip:hover {\\n    background-color: #353536;\\n  }\\n  .chip:focus {\\n    background-color: #353536;\\n  }\\n  .chip:active {\\n    background-color: #464849;\\n    border-color: #53575b;\\n  }\\n  .logo-light {\\n    display: none;\\n  }\\n  .gradient {\\n    background: linear-gradient(90deg, #1f1f1f 15%, #1f1f1f00 100%);\\n  }\\n}\\n</style>\\n<div class=\"container\">\\n  <div class=\"headline\">\\n    <svg class=\"logo-light\" width=\"18\" height=\"18\" viewBox=\"9 9 35 35\" fill=\"none\" xmlns=\"http://www.w3.org/2000/svg\">\\n      <path fill-rule=\"evenodd\" clip-rule=\"evenodd\" d=\"M42.8622 27.0064C42.8622 25.7839 42.7525 24.6084 42.5487 23.4799H26.3109V30.1568H35.5897C35.1821 32.3041 33.9596 34.1222 32.1258 35.3448V39.6864H37.7213C40.9814 36.677 42.8622 32.2571 42.8622 27.0064V27.0064Z\" fill=\"#4285F4\"/>\\n      <path fill-rule=\"evenodd\" clip-rule=\"evenodd\" d=\"M26.3109 43.8555C30.9659 43.8555 34.8687 42.3195 37.7213 39.6863L32.1258 35.3447C30.5898 36.3792 28.6306 37.0061 26.3109 37.0061C21.8282 37.0061 18.0195 33.9811 16.6559 29.906H10.9194V34.3573C13.7563 39.9841 19.5712 43.8555 26.3109 43.8555V43.8555Z\" fill=\"#34A853\"/>\\n      <path fill-rule=\"evenodd\" clip-rule=\"evenodd\" d=\"M16.6559 29.8904C16.3111 28.8559 16.1074 27.7588 16.1074 26.6146C16.1074 25.4704 16.3111 24.3733 16.6559 23.3388V18.8875H10.9194C9.74388 21.2072 9.06992 23.8247 9.06992 26.6146C9.06992 29.4045 9.74388 32.022 10.9194 34.3417L15.3864 30.8621L16.6559 29.8904V29.8904Z\" fill=\"#FBBC05\"/>\\n      <path fill-rule=\"evenodd\" clip-rule=\"evenodd\" d=\"M26.3109 16.2386C28.85 16.2386 31.107 17.1164 32.9095 18.8091L37.8466 13.8719C34.853 11.082 30.9659 9.3736 26.3109 9.3736C19.5712 9.3736 13.7563 13.245 10.9194 18.8875L16.6559 23.3388C18.0195 19.2636 21.8282 16.2386 26.3109 16.2386V16.2386Z\" fill=\"#EA4335\"/>\\n    </svg>\\n    <svg class=\"logo-dark\" width=\"18\" height=\"18\" viewBox=\"0 0 48 48\" xmlns=\"http://www.w3.org/2000/svg\">\\n      <circle cx=\"24\" cy=\"23\" fill=\"#FFF\" r=\"22\"/>\\n      <path d=\"M33.76 34.26c2.75-2.56 4.49-6.37 4.49-11.26 0-.89-.08-1.84-.29-3H24.01v5.99h8.03c-.4 2.02-1.5 3.56-3.07 4.56v.75l3.91 2.97h.88z\" fill=\"#4285F4\"/>\\n      <path d=\"M15.58 25.77A8.845 8.845 0 0 0 24 31.86c1.92 0 3.62-.46 4.97-1.31l4.79 3.71C31.14 36.7 27.65 38 24 38c-5.93 0-11.01-3.4-13.45-8.36l.17-1.01 4.06-2.85h.8z\" fill=\"#34A853\"/>\\n      <path d=\"M15.59 20.21a8.864 8.864 0 0 0 0 5.58l-5.03 3.86c-.98-2-1.53-4.25-1.53-6.64 0-2.39.55-4.64 1.53-6.64l1-.22 3.81 2.98.22 1.08z\" fill=\"#FBBC05\"/>\\n      <path d=\"M24 14.14c2.11 0 4.02.75 5.52 1.98l4.36-4.36C31.22 9.43 27.81 8 24 8c-5.93 0-11.01 3.4-13.45 8.36l5.03 3.85A8.86 8.86 0 0 1 24 14.14z\" fill=\"#EA4335\"/>\\n    </svg>\\n    <div class=\"gradient-container\"><div class=\"gradient\"></div></div>\\n  </div>\\n  <div class=\"carousel\">\\n    <a class=\"chip\" href=\"https://vertexaisearch.cloud.google.com/grounding-api-redirect/AUBnsYtW5QhkmD3yfmdle8KfT4_o2gXO2sGMeSUmu_BVRAQWSb8nlsAzYpc7aAA3OZugQd1xlFXqQ8skv4bMc20uBQUTnoTqRmbwJvuCj4eBgwVzEPcFwomOlOEQhHwIvFfLBvMhFjzr_8nubfI9_yn3B4r24NDeyHb33pFGXDJ-w2cgKZFYnUDgcV3Xp6OOW4aHCoiO2Oum\">Adobe stock price</a>\\n  </div>\\n</div>\\n', sdk_blob=None) web_search_queries=['Adobe stock price']\n"
          ]
        },
        {
          "output_type": "execute_result",
          "data": {
            "text/plain": [
              "<IPython.core.display.HTML object>"
            ],
            "text/html": [
              "<style>\n",
              ".container {\n",
              "  align-items: center;\n",
              "  border-radius: 8px;\n",
              "  display: flex;\n",
              "  font-family: Google Sans, Roboto, sans-serif;\n",
              "  font-size: 14px;\n",
              "  line-height: 20px;\n",
              "  padding: 8px 12px;\n",
              "}\n",
              ".chip {\n",
              "  display: inline-block;\n",
              "  border: solid 1px;\n",
              "  border-radius: 16px;\n",
              "  min-width: 14px;\n",
              "  padding: 5px 16px;\n",
              "  text-align: center;\n",
              "  user-select: none;\n",
              "  margin: 0 8px;\n",
              "  -webkit-tap-highlight-color: transparent;\n",
              "}\n",
              ".carousel {\n",
              "  overflow: auto;\n",
              "  scrollbar-width: none;\n",
              "  white-space: nowrap;\n",
              "  margin-right: -12px;\n",
              "}\n",
              ".headline {\n",
              "  display: flex;\n",
              "  margin-right: 4px;\n",
              "}\n",
              ".gradient-container {\n",
              "  position: relative;\n",
              "}\n",
              ".gradient {\n",
              "  position: absolute;\n",
              "  transform: translate(3px, -9px);\n",
              "  height: 36px;\n",
              "  width: 9px;\n",
              "}\n",
              "@media (prefers-color-scheme: light) {\n",
              "  .container {\n",
              "    background-color: #fafafa;\n",
              "    box-shadow: 0 0 0 1px #0000000f;\n",
              "  }\n",
              "  .headline-label {\n",
              "    color: #1f1f1f;\n",
              "  }\n",
              "  .chip {\n",
              "    background-color: #ffffff;\n",
              "    border-color: #d2d2d2;\n",
              "    color: #5e5e5e;\n",
              "    text-decoration: none;\n",
              "  }\n",
              "  .chip:hover {\n",
              "    background-color: #f2f2f2;\n",
              "  }\n",
              "  .chip:focus {\n",
              "    background-color: #f2f2f2;\n",
              "  }\n",
              "  .chip:active {\n",
              "    background-color: #d8d8d8;\n",
              "    border-color: #b6b6b6;\n",
              "  }\n",
              "  .logo-dark {\n",
              "    display: none;\n",
              "  }\n",
              "  .gradient {\n",
              "    background: linear-gradient(90deg, #fafafa 15%, #fafafa00 100%);\n",
              "  }\n",
              "}\n",
              "@media (prefers-color-scheme: dark) {\n",
              "  .container {\n",
              "    background-color: #1f1f1f;\n",
              "    box-shadow: 0 0 0 1px #ffffff26;\n",
              "  }\n",
              "  .headline-label {\n",
              "    color: #fff;\n",
              "  }\n",
              "  .chip {\n",
              "    background-color: #2c2c2c;\n",
              "    border-color: #3c4043;\n",
              "    color: #fff;\n",
              "    text-decoration: none;\n",
              "  }\n",
              "  .chip:hover {\n",
              "    background-color: #353536;\n",
              "  }\n",
              "  .chip:focus {\n",
              "    background-color: #353536;\n",
              "  }\n",
              "  .chip:active {\n",
              "    background-color: #464849;\n",
              "    border-color: #53575b;\n",
              "  }\n",
              "  .logo-light {\n",
              "    display: none;\n",
              "  }\n",
              "  .gradient {\n",
              "    background: linear-gradient(90deg, #1f1f1f 15%, #1f1f1f00 100%);\n",
              "  }\n",
              "}\n",
              "</style>\n",
              "<div class=\"container\">\n",
              "  <div class=\"headline\">\n",
              "    <svg class=\"logo-light\" width=\"18\" height=\"18\" viewBox=\"9 9 35 35\" fill=\"none\" xmlns=\"http://www.w3.org/2000/svg\">\n",
              "      <path fill-rule=\"evenodd\" clip-rule=\"evenodd\" d=\"M42.8622 27.0064C42.8622 25.7839 42.7525 24.6084 42.5487 23.4799H26.3109V30.1568H35.5897C35.1821 32.3041 33.9596 34.1222 32.1258 35.3448V39.6864H37.7213C40.9814 36.677 42.8622 32.2571 42.8622 27.0064V27.0064Z\" fill=\"#4285F4\"/>\n",
              "      <path fill-rule=\"evenodd\" clip-rule=\"evenodd\" d=\"M26.3109 43.8555C30.9659 43.8555 34.8687 42.3195 37.7213 39.6863L32.1258 35.3447C30.5898 36.3792 28.6306 37.0061 26.3109 37.0061C21.8282 37.0061 18.0195 33.9811 16.6559 29.906H10.9194V34.3573C13.7563 39.9841 19.5712 43.8555 26.3109 43.8555V43.8555Z\" fill=\"#34A853\"/>\n",
              "      <path fill-rule=\"evenodd\" clip-rule=\"evenodd\" d=\"M16.6559 29.8904C16.3111 28.8559 16.1074 27.7588 16.1074 26.6146C16.1074 25.4704 16.3111 24.3733 16.6559 23.3388V18.8875H10.9194C9.74388 21.2072 9.06992 23.8247 9.06992 26.6146C9.06992 29.4045 9.74388 32.022 10.9194 34.3417L15.3864 30.8621L16.6559 29.8904V29.8904Z\" fill=\"#FBBC05\"/>\n",
              "      <path fill-rule=\"evenodd\" clip-rule=\"evenodd\" d=\"M26.3109 16.2386C28.85 16.2386 31.107 17.1164 32.9095 18.8091L37.8466 13.8719C34.853 11.082 30.9659 9.3736 26.3109 9.3736C19.5712 9.3736 13.7563 13.245 10.9194 18.8875L16.6559 23.3388C18.0195 19.2636 21.8282 16.2386 26.3109 16.2386V16.2386Z\" fill=\"#EA4335\"/>\n",
              "    </svg>\n",
              "    <svg class=\"logo-dark\" width=\"18\" height=\"18\" viewBox=\"0 0 48 48\" xmlns=\"http://www.w3.org/2000/svg\">\n",
              "      <circle cx=\"24\" cy=\"23\" fill=\"#FFF\" r=\"22\"/>\n",
              "      <path d=\"M33.76 34.26c2.75-2.56 4.49-6.37 4.49-11.26 0-.89-.08-1.84-.29-3H24.01v5.99h8.03c-.4 2.02-1.5 3.56-3.07 4.56v.75l3.91 2.97h.88z\" fill=\"#4285F4\"/>\n",
              "      <path d=\"M15.58 25.77A8.845 8.845 0 0 0 24 31.86c1.92 0 3.62-.46 4.97-1.31l4.79 3.71C31.14 36.7 27.65 38 24 38c-5.93 0-11.01-3.4-13.45-8.36l.17-1.01 4.06-2.85h.8z\" fill=\"#34A853\"/>\n",
              "      <path d=\"M15.59 20.21a8.864 8.864 0 0 0 0 5.58l-5.03 3.86c-.98-2-1.53-4.25-1.53-6.64 0-2.39.55-4.64 1.53-6.64l1-.22 3.81 2.98.22 1.08z\" fill=\"#FBBC05\"/>\n",
              "      <path d=\"M24 14.14c2.11 0 4.02.75 5.52 1.98l4.36-4.36C31.22 9.43 27.81 8 24 8c-5.93 0-11.01 3.4-13.45 8.36l5.03 3.85A8.86 8.86 0 0 1 24 14.14z\" fill=\"#EA4335\"/>\n",
              "    </svg>\n",
              "    <div class=\"gradient-container\"><div class=\"gradient\"></div></div>\n",
              "  </div>\n",
              "  <div class=\"carousel\">\n",
              "    <a class=\"chip\" href=\"https://vertexaisearch.cloud.google.com/grounding-api-redirect/AUBnsYtW5QhkmD3yfmdle8KfT4_o2gXO2sGMeSUmu_BVRAQWSb8nlsAzYpc7aAA3OZugQd1xlFXqQ8skv4bMc20uBQUTnoTqRmbwJvuCj4eBgwVzEPcFwomOlOEQhHwIvFfLBvMhFjzr_8nubfI9_yn3B4r24NDeyHb33pFGXDJ-w2cgKZFYnUDgcV3Xp6OOW4aHCoiO2Oum\">Adobe stock price</a>\n",
              "  </div>\n",
              "</div>\n"
            ]
          },
          "metadata": {},
          "execution_count": 172
        }
      ]
    },
    {
      "cell_type": "code",
      "source": [
        "import os\n",
        "from edgar import Company\n",
        "\n",
        "os.environ[\"EDGAR_IDENTITY\"]=\"aleks@ololand.ai\"\n",
        "\n",
        "def get_financials(ticker_symbol: str) -> str:\n",
        "\n",
        "  \"\"\"\n",
        "    Retrieves financial statements for a company.\n",
        "\n",
        "    Args:\n",
        "        ticker_symbol (str): The stock ticker symbol.\n",
        "\n",
        "    Returns:\n",
        "        str: The financial statements\n",
        "    \"\"\"\n",
        "\n",
        "  tickus = ticker_symbol\n",
        "  company = Company(tickus)\n",
        "  financials = company.financials\n",
        "\n",
        "  income_statement = financials.get_income_statement().data.to_markdown()\n",
        "  balance_sheet = financials.get_balance_sheet().data.to_markdown()\n",
        "  cash_flow = financials.get_cash_flow_statement().data.to_markdown()\n",
        "  comprehensive_income = (financials.get_statement_of_comprehensive_income().data.to_markdown())\n",
        "\n",
        "  \"\"\"\n",
        "  print(income_statement)\n",
        "  print(balance_sheet)\n",
        "  print(cash_flow)\n",
        "  print(comprehensive_income)\n",
        "  \"\"\"\n",
        "  return json.dumps(income_statement, indent=4) # returns JSON string with indentation\n",
        "\n",
        "# Declare function during model initialization"
      ],
      "metadata": {
        "id": "u_yVyebRREqi"
      },
      "execution_count": 174,
      "outputs": []
    },
    {
      "cell_type": "code",
      "source": [
        "config = {\n",
        "    'tools': [get_financials],\n",
        "}\n",
        "\n",
        "chat = client.chats.create(model=MODEL_ID, config=config)\n",
        "response = chat.send_message('Show Adobe income statement. Show dollar amounts shown in millions')\n",
        "\n",
        "display(Markdown(response.text))\n",
        "\n",
        "for message in chat._curated_history:\n",
        "    print(f'role - ', message.role, end=\": \")\n",
        "    print(message.parts[0].text)\n",
        "\n",
        "print(response.text)"
      ],
      "metadata": {
        "colab": {
          "base_uri": "https://localhost:8080/",
          "height": 1000
        },
        "id": "Eg3-YLxOSr1f",
        "outputId": "d65023a2-f465-43d5-c4fc-4d6fa193e922"
      },
      "execution_count": 175,
      "outputs": [
        {
          "output_type": "stream",
          "name": "stderr",
          "text": [
            "/usr/local/lib/python3.11/dist-packages/pydantic/main.py:426: UserWarning: Pydantic serializer warnings:\n",
            "  Expected `enum` but got `str` with value `'STRING'` - serialized value may not be as expected\n",
            "  return self.__pydantic_serializer__.to_python(\n",
            "/usr/local/lib/python3.11/dist-packages/pydantic/main.py:426: UserWarning: Pydantic serializer warnings:\n",
            "  Expected `enum` but got `str` with value `'STRING'` - serialized value may not be as expected\n",
            "  return self.__pydantic_serializer__.to_python(\n"
          ]
        },
        {
          "output_type": "display_data",
          "data": {
            "text/plain": [
              "<IPython.core.display.Markdown object>"
            ],
            "text/markdown": "Adobe Income Statement (Millions of USD)\n\n| Line Item                                      | 2024      | 2023      | 2022      |\n|------------------------------------------------|-----------|-----------|-----------|\n| Revenue                                        | 21,505    | 19,409    | 17,606    |\n| Cost of Revenue                                | -2,358    | -2,354    | -2,165    |\n| Gross Profit                                   | 19,147    | 17,055    | 15,441    |\n| Research and Development                       | -3,944    | -3,473    | -2,987    |\n| Sales and Marketing                            | -5,764    | -5,351    | -4,968    |\n| General and Administrative                     | -1,529    | -1,413    | -1,219    |\n| Acquisition termination fee                    | -1,000    | 0         | 0         |\n| Amortization of intangibles                    | -169      | -168      | -169      |\n| Total Operating Expenses                       | -12,406   | -10,405   | -9,343    |\n| Operating Income                               | 6,741     | 6,650     | 6,098     |\n| Interest Expense                               | -169      | -113      | -112      |\n| Investment Gains (Losses), Net                 | 48        | 16        | -19       |\n| Other Income (Expense), Net                    | 311       | 246       | 41        |\n| Total Non-Operating Income (Expense), Net      | 190       | 149       | -90       |\n| Income Before Income Taxes                     | 6,931     | 6,799     | 6,008     |\n| Provision for Income Taxes                     | -1,371    | -1,371    | -1,252    |\n| Net Income                                     | 5,560     | 5,428     | 4,756     |\n| Basic Net Income per Share (in dollars)        | 12.43     | 11.87     | 10.13     |\n| Shares used to compute basic net income (shares) | 447.1     | 457.1     | 469.5     |\n| Diluted Net Income per Share (in dollars)      | 12.36     | 11.82     | 10.10     |\n| Shares used to compute diluted net income (shares) | 449.7     | 459.1     | 470.9     |\n\n"
          },
          "metadata": {}
        },
        {
          "output_type": "stream",
          "name": "stdout",
          "text": [
            "role -  user: Show Adobe income statement. Show dollar amounts shown in millions\n",
            "role -  model: None\n",
            "role -  user: None\n",
            "role -  model: Adobe Income Statement (Millions of USD)\n",
            "\n",
            "| Line Item                                      | 2024      | 2023      | 2022      |\n",
            "|------------------------------------------------|-----------|-----------|-----------|\n",
            "| Revenue                                        | 21,505    | 19,409    | 17,606    |\n",
            "| Cost of Revenue                                | -2,358    | -2,354    | -2,165    |\n",
            "| Gross Profit                                   | 19,147    | 17,055    | 15,441    |\n",
            "| Research and Development                       | -3,944    | -3,473    | -2,987    |\n",
            "| Sales and Marketing                            | -5,764    | -5,351    | -4,968    |\n",
            "| General and Administrative                     | -1,529    | -1,413    | -1,219    |\n",
            "| Acquisition termination fee                    | -1,000    | 0         | 0         |\n",
            "| Amortization of intangibles                    | -169      | -168      | -169      |\n",
            "| Total Operating Expenses                       | -12,406   | -10,405   | -9,343    |\n",
            "| Operating Income                               | 6,741     | 6,650     | 6,098     |\n",
            "| Interest Expense                               | -169      | -113      | -112      |\n",
            "| Investment Gains (Losses), Net                 | 48        | 16        | -19       |\n",
            "| Other Income (Expense), Net                    | 311       | 246       | 41        |\n",
            "| Total Non-Operating Income (Expense), Net      | 190       | 149       | -90       |\n",
            "| Income Before Income Taxes                     | 6,931     | 6,799     | 6,008     |\n",
            "| Provision for Income Taxes                     | -1,371    | -1,371    | -1,252    |\n",
            "| Net Income                                     | 5,560     | 5,428     | 4,756     |\n",
            "| Basic Net Income per Share (in dollars)        | 12.43     | 11.87     | 10.13     |\n",
            "| Shares used to compute basic net income (shares) | 447.1     | 457.1     | 469.5     |\n",
            "| Diluted Net Income per Share (in dollars)      | 12.36     | 11.82     | 10.10     |\n",
            "| Shares used to compute diluted net income (shares) | 449.7     | 459.1     | 470.9     |\n",
            "\n",
            "\n",
            "Adobe Income Statement (Millions of USD)\n",
            "\n",
            "| Line Item                                      | 2024      | 2023      | 2022      |\n",
            "|------------------------------------------------|-----------|-----------|-----------|\n",
            "| Revenue                                        | 21,505    | 19,409    | 17,606    |\n",
            "| Cost of Revenue                                | -2,358    | -2,354    | -2,165    |\n",
            "| Gross Profit                                   | 19,147    | 17,055    | 15,441    |\n",
            "| Research and Development                       | -3,944    | -3,473    | -2,987    |\n",
            "| Sales and Marketing                            | -5,764    | -5,351    | -4,968    |\n",
            "| General and Administrative                     | -1,529    | -1,413    | -1,219    |\n",
            "| Acquisition termination fee                    | -1,000    | 0         | 0         |\n",
            "| Amortization of intangibles                    | -169      | -168      | -169      |\n",
            "| Total Operating Expenses                       | -12,406   | -10,405   | -9,343    |\n",
            "| Operating Income                               | 6,741     | 6,650     | 6,098     |\n",
            "| Interest Expense                               | -169      | -113      | -112      |\n",
            "| Investment Gains (Losses), Net                 | 48        | 16        | -19       |\n",
            "| Other Income (Expense), Net                    | 311       | 246       | 41        |\n",
            "| Total Non-Operating Income (Expense), Net      | 190       | 149       | -90       |\n",
            "| Income Before Income Taxes                     | 6,931     | 6,799     | 6,008     |\n",
            "| Provision for Income Taxes                     | -1,371    | -1,371    | -1,252    |\n",
            "| Net Income                                     | 5,560     | 5,428     | 4,756     |\n",
            "| Basic Net Income per Share (in dollars)        | 12.43     | 11.87     | 10.13     |\n",
            "| Shares used to compute basic net income (shares) | 447.1     | 457.1     | 469.5     |\n",
            "| Diluted Net Income per Share (in dollars)      | 12.36     | 11.82     | 10.10     |\n",
            "| Shares used to compute diluted net income (shares) | 449.7     | 459.1     | 470.9     |\n",
            "\n",
            "\n"
          ]
        }
      ]
    },
    {
      "cell_type": "markdown",
      "source": [
        "### Chat with Memory"
      ],
      "metadata": {
        "id": "lU4MREQYO43r"
      }
    },
    {
      "cell_type": "code",
      "source": [
        "chat = client.chats.create(model=MODEL_ID, config=config)\n",
        "response = chat.send_message(\"My name is Aleks\")\n",
        "print(response.text)\n",
        "response = chat.send_message(\"What is my name?\")\n",
        "print(response.text)\n",
        "for message in chat._curated_history:\n",
        "    print(f'role - ', message.role, end=\": \")\n",
        "    print(message.parts[0].text)"
      ],
      "metadata": {
        "colab": {
          "base_uri": "https://localhost:8080/"
        },
        "id": "GxDcIlfEO7WM",
        "outputId": "c962323c-bdce-42d8-fe26-7bd22869052c"
      },
      "execution_count": 178,
      "outputs": [
        {
          "output_type": "stream",
          "name": "stdout",
          "text": [
            "Okay, Aleks. How can I help you today?\n",
            "\n",
            "Your name is Aleks.\n",
            "\n",
            "role -  user: My name is Aleks\n",
            "role -  model: Okay, Aleks. How can I help you today?\n",
            "\n",
            "role -  user: What is my name?\n",
            "role -  model: Your name is Aleks.\n",
            "\n"
          ]
        }
      ]
    },
    {
      "cell_type": "markdown",
      "source": [
        "### Multiple Tools"
      ],
      "metadata": {
        "id": "XvCI3w3l_SOS"
      }
    },
    {
      "cell_type": "code",
      "source": [
        "config = {\n",
        "    'tools': [get_financials],\n",
        "    'tools': [google_search_tool],\n",
        "    'tools': [get_stock_price],\n",
        "}"
      ],
      "metadata": {
        "id": "0l69DqZRi_o8"
      },
      "execution_count": 179,
      "outputs": []
    },
    {
      "cell_type": "code",
      "source": [
        "chat = client.chats.create(model=MODEL_ID, config=config)\n",
        "\n",
        "response = chat.send_message('What is Adobe stock price?')\n",
        "print(response.text)\n",
        "\n",
        "response = chat.send_message(\"What is Adobe Income Statement for FY2024?\")\n",
        "print(response.text)\n",
        "\n",
        "response = chat.send_message(\"What are the latest business news about Adobe?\")\n",
        "print(response.text)\n",
        "\n",
        "response = chat.send_message(\"Based on the information you collected, create a report showing Adobe stock price, Adobe Income Statement and the latest business news.\")\n",
        "print(response.text)\n",
        "\n",
        "for message in chat._curated_history:\n",
        "    print(f'role - ', message.role, end=\": \")\n",
        "    print(message.parts[0].text)"
      ],
      "metadata": {
        "colab": {
          "base_uri": "https://localhost:8080/"
        },
        "id": "jM22M7hSPI6X",
        "outputId": "74b7feed-9ee9-4d3a-9f0b-5f2b3e3fc714"
      },
      "execution_count": 181,
      "outputs": [
        {
          "output_type": "stream",
          "name": "stdout",
          "text": [
            "The current stock price for Adobe (ADBE) is 444.32.\n",
            "\n",
            "I am sorry, I cannot fulfill this request. The available tool only provides the current stock price. It does not provide access to financial statements like the Income Statement.\n",
            "\n",
            "I am sorry, I cannot fulfill this request. The available tool only provides the current stock price. It does not provide access to business news.\n",
            "\n",
            "I am sorry, I cannot fulfill this request. The available tool only provides the current stock price. It does not provide access to financial statements like the Income Statement or business news. Therefore, I can only provide the Adobe stock price in the report.\n",
            "```\n",
            "## Adobe Stock Report\n",
            "\n",
            "**Stock Price:** 444.32\n",
            "**Income Statement:** Not Available\n",
            "**Latest Business News:** Not Available\n",
            "```\n",
            "role -  user: What is Adobe stock price?\n",
            "role -  model: None\n",
            "role -  user: None\n",
            "role -  model: The current stock price for Adobe (ADBE) is 444.32.\n",
            "\n",
            "role -  user: What is Adobe Income Statement for FY2024?\n",
            "role -  model: I am sorry, I cannot fulfill this request. The available tool only provides the current stock price. It does not provide access to financial statements like the Income Statement.\n",
            "\n",
            "role -  user: What are the latest business news about Adobe?\n",
            "role -  model: I am sorry, I cannot fulfill this request. The available tool only provides the current stock price. It does not provide access to business news.\n",
            "\n",
            "role -  user: Based on the information you collected, create a report showing Adobe stock price, Adobe Income Statement and the latest business news.\n",
            "role -  model: I am sorry, I cannot fulfill this request. The available tool only provides the current stock price. It does not provide access to financial statements like the Income Statement or business news. Therefore, I can only provide the Adobe stock price in the report.\n",
            "```\n",
            "## Adobe Stock Report\n",
            "\n",
            "**Stock Price:** 444.32\n",
            "**Income Statement:** Not Available\n",
            "**Latest Business News:** Not Available\n",
            "```\n"
          ]
        }
      ]
    },
    {
      "cell_type": "markdown",
      "source": [
        "### Multi Tool / Multi Function Calling"
      ],
      "metadata": {
        "id": "QjlxbreIm-3d"
      }
    },
    {
      "cell_type": "code",
      "source": [
        "google_search_tool = Tool(google_search=GoogleSearch())"
      ],
      "metadata": {
        "id": "Ege9XUBJs0Ni"
      },
      "execution_count": 182,
      "outputs": []
    },
    {
      "cell_type": "code",
      "source": [
        "def get_stock_price(ticker_symbol: str) -> str:\n",
        "    \"\"\"\n",
        "    Retrieves the regular market price for a given stock ticker symbol from the Yahoo Finance API.\n",
        "\n",
        "    Args:\n",
        "        ticker_symbol (str): The stock ticker symbol (.\n",
        "\n",
        "    Returns:\n",
        "        float: The regular market price, formatted as a JSON string with indentation.\n",
        "               Returns None if the price cannot be retrieved or if an error occurs.\n",
        "    \"\"\"\n",
        "    url = f\"https://yahoo-finance127.p.rapidapi.com/price/{ticker_symbol}\"\n",
        "\n",
        "    headers = {\n",
        "        \"x-rapidapi-key\": \"972e53d400mshec833b00babac70p1d7d63jsnb87511296f5f\",\n",
        "        \"x-rapidapi-host\": \"yahoo-finance127.p.rapidapi.com\"\n",
        "    }\n",
        "\n",
        "    response = requests.get(url, headers=headers)\n",
        "    response.raise_for_status()  # Raise HTTPError for bad responses (4xx or 5xx)\n",
        "    data = response.json()\n",
        "    regular_market_price = data[\"regularMarketPrice\"]\n",
        "    return json.dumps(regular_market_price, indent=4) # returns JSON string with indentation"
      ],
      "metadata": {
        "id": "zur9BYiPtJOX"
      },
      "execution_count": 193,
      "outputs": []
    },
    {
      "cell_type": "code",
      "source": [
        "def get_financials(ticker_symbol: str) -> str:\n",
        "\n",
        "  \"\"\"\n",
        "    Retrieves financial statements for a company.\n",
        "\n",
        "    Args:\n",
        "        ticker_symbol (str): The stock ticker symbol.\n",
        "\n",
        "    Returns:\n",
        "        str: The financial statements\n",
        "    \"\"\"\n",
        "\n",
        "  tickus = ticker_symbol\n",
        "  company = Company(tickus)\n",
        "  financials = company.financials\n",
        "\n",
        "  income_statement = financials.get_income_statement().data.to_markdown()\n",
        "  balance_sheet = financials.get_balance_sheet().data.to_markdown()\n",
        "  cash_flow = financials.get_cash_flow_statement().data.to_markdown()\n",
        "  comprehensive_income = (financials.get_statement_of_comprehensive_income().data.to_markdown())\n",
        "\n",
        "  return json.dumps(income_statement, indent=4) # returns JSON string with indentation"
      ],
      "metadata": {
        "id": "c6p2-Xo5s_Y0"
      },
      "execution_count": 186,
      "outputs": []
    },
    {
      "cell_type": "markdown",
      "source": [
        "# Intro Function Calling"
      ],
      "metadata": {
        "id": "bEwRyB_RAVnS"
      }
    },
    {
      "cell_type": "markdown",
      "source": [
        "### Declare Functions"
      ],
      "metadata": {
        "id": "BJjpmuhr4LoZ"
      }
    },
    {
      "cell_type": "code",
      "source": [
        "get_new_stock_price = FunctionDeclaration(\n",
        "    name=\"get_new_stock_price\",\n",
        "    description=\"Retrieves the regular market price for a given stock ticker symbol from the Yahoo Finance API.\",\n",
        "    parameters={\n",
        "        \"type\": \"object\",\n",
        "        \"properties\": {\n",
        "            \"ticker_symbol\": {\n",
        "                \"type\": \"string\",\n",
        "                \"description\": \"The stock ticker symbol.\"\n",
        "            }\n",
        "        },\n",
        "        \"required\": [\"ticker_symbol\"]\n",
        "    }\n",
        ")\n",
        "\n",
        "get_new_financials = FunctionDeclaration(\n",
        "    name=\"get_new_financials\",\n",
        "    description=\"Retrieves financial statements for a company.\",\n",
        "    parameters={\n",
        "        \"type\": \"object\",\n",
        "        \"properties\": {\n",
        "            \"ticker_symbol\": {\n",
        "                \"type\": \"string\",\n",
        "                \"description\": \"The stock ticker symbol.\"\n",
        "            }\n",
        "        },\n",
        "        \"required\": [\"ticker_symbol\"]\n",
        "    }\n",
        ")"
      ],
      "metadata": {
        "id": "bVVurH8F4GC_"
      },
      "execution_count": 199,
      "outputs": []
    },
    {
      "cell_type": "code",
      "source": [
        "firm_tool = Tool(\n",
        "    function_declarations=[\n",
        "        get_new_stock_price,\n",
        "        get_new_financials,\n",
        "    ],\n",
        ")"
      ],
      "metadata": {
        "id": "AdnYW-wX5PPS"
      },
      "execution_count": 200,
      "outputs": []
    },
    {
      "cell_type": "code",
      "source": [
        "chat = client.chats.create(\n",
        "    model=MODEL_ID,\n",
        "    config=GenerateContentConfig(\n",
        "        temperature=0,\n",
        "        tools=[firm_tool],\n",
        "    ),\n",
        ")"
      ],
      "metadata": {
        "id": "hMzLoIsq5g3p"
      },
      "execution_count": 201,
      "outputs": []
    },
    {
      "cell_type": "code",
      "source": [
        "prompt = \"\"\"\n",
        "What is Adobe stock price?\n",
        "\"\"\"\n",
        "\n",
        "response = chat.send_message(prompt)\n",
        "response.function_calls[0]"
      ],
      "metadata": {
        "colab": {
          "base_uri": "https://localhost:8080/"
        },
        "id": "IF3XNqgk5u0D",
        "outputId": "c729919c-53e6-434b-c2c1-fee4dd19ff5b"
      },
      "execution_count": 202,
      "outputs": [
        {
          "output_type": "execute_result",
          "data": {
            "text/plain": [
              "FunctionCall(id=None, args={'ticker_symbol': 'ADBE'}, name='get_new_stock_price')"
            ]
          },
          "metadata": {},
          "execution_count": 202
        }
      ]
    },
    {
      "cell_type": "markdown",
      "source": [
        "IF stament to check what API call to make it based on the previous response"
      ],
      "metadata": {
        "id": "fnqAvEhiNazW"
      }
    },
    {
      "cell_type": "code",
      "source": [
        "# Here you can use your preferred method to make an API request and get a response.\n",
        "# In this example, we'll use synthetic data to simulate a payload from an external API response.\n",
        "\n",
        "api_response = {\"ticker_symbol\": \"ADBE\", \"price\": \"$300\"}"
      ],
      "metadata": {
        "id": "d6BQyCgi6f3o"
      },
      "execution_count": 203,
      "outputs": []
    },
    {
      "cell_type": "markdown",
      "source": [
        "After making API call pass the content to LLM"
      ],
      "metadata": {
        "id": "7UDbKD6bNozQ"
      }
    },
    {
      "cell_type": "code",
      "source": [
        "response = chat.send_message(\n",
        "    Part.from_function_response(\n",
        "        name=\"get_new_stock_price\",\n",
        "        response={\n",
        "            \"content\": api_response,\n",
        "        },\n",
        "    ),\n",
        ")\n",
        "display(Markdown(response.text))"
      ],
      "metadata": {
        "colab": {
          "base_uri": "https://localhost:8080/",
          "height": 46
        },
        "id": "wkYdN1YK7wA2",
        "outputId": "f47afb28-8790-4e41-dedd-f1c81d90a56a"
      },
      "execution_count": 204,
      "outputs": [
        {
          "output_type": "display_data",
          "data": {
            "text/plain": [
              "<IPython.core.display.Markdown object>"
            ],
            "text/markdown": "The current stock price for Adobe (ADBE) is $300.\n"
          },
          "metadata": {}
        }
      ]
    },
    {
      "cell_type": "code",
      "source": [
        "prompt = \"\"\"\n",
        "What is Nvidia stock price and what is its income statement?\n",
        "\"\"\"\n",
        "\n",
        "response = chat.send_message(prompt)\n",
        "response.function_calls"
      ],
      "metadata": {
        "colab": {
          "base_uri": "https://localhost:8080/"
        },
        "id": "0XV_RIHU8KHX",
        "outputId": "bda89205-074c-4bd2-c022-7c57a82c9224"
      },
      "execution_count": 145,
      "outputs": [
        {
          "output_type": "execute_result",
          "data": {
            "text/plain": [
              "[FunctionCall(id=None, args={'ticker_symbol': 'NVDA'}, name='get_new_stock_price'),\n",
              " FunctionCall(id=None, args={'ticker_symbol': 'NVDA'}, name='get_new_financials')]"
            ]
          },
          "metadata": {},
          "execution_count": 145
        }
      ]
    },
    {
      "cell_type": "code",
      "source": [
        "# Here you can use your preferred method to make an API request and get a response.\n",
        "# In this example, we'll use synthetic data to simulate a payload from an external API response.\n",
        "\n",
        "api_response_stock = {\"ticker_symbol\": \"NVDA\", \"price\": \"$500\"}\n",
        "api_response_financials = {\"ticker_symbol\": \"ADBE\", \"Income Statement\": \"Table with all the numbers\"}"
      ],
      "metadata": {
        "id": "5LRls7E59J40"
      },
      "execution_count": 146,
      "outputs": []
    },
    {
      "cell_type": "code",
      "source": [
        "response = chat.send_message(\n",
        "    [\n",
        "        Part.from_function_response(\n",
        "            name=\"get_new_stock_price\",\n",
        "            response={\n",
        "                \"content\": api_response_stock,\n",
        "            },\n",
        "        ),\n",
        "        Part.from_function_response(\n",
        "            name=\"get_new_financials\",\n",
        "            response={\n",
        "                \"content\": api_response_financials,\n",
        "            },\n",
        "        ),\n",
        "    ]\n",
        ")\n",
        "display(Markdown(response.text))"
      ],
      "metadata": {
        "colab": {
          "base_uri": "https://localhost:8080/",
          "height": 356
        },
        "id": "ubU6d4rr9i6b",
        "outputId": "8fecbdde-a401-49bb-d22b-347d0dfccf5e"
      },
      "execution_count": 198,
      "outputs": [
        {
          "output_type": "error",
          "ename": "ClientError",
          "evalue": "400 INVALID_ARGUMENT. {'error': {'code': 400, 'message': 'At most one tool is supported.', 'status': 'INVALID_ARGUMENT'}}",
          "traceback": [
            "\u001b[0;31m---------------------------------------------------------------------------\u001b[0m",
            "\u001b[0;31mClientError\u001b[0m                               Traceback (most recent call last)",
            "\u001b[0;32m<ipython-input-198-200a434e0920>\u001b[0m in \u001b[0;36m<cell line: 0>\u001b[0;34m()\u001b[0m\n\u001b[0;32m----> 1\u001b[0;31m response = chat.send_message(\n\u001b[0m\u001b[1;32m      2\u001b[0m     [\n\u001b[1;32m      3\u001b[0m         Part.from_function_response(\n\u001b[1;32m      4\u001b[0m             \u001b[0mname\u001b[0m\u001b[0;34m=\u001b[0m\u001b[0;34m\"get_new_stock_price\"\u001b[0m\u001b[0;34m,\u001b[0m\u001b[0;34m\u001b[0m\u001b[0;34m\u001b[0m\u001b[0m\n\u001b[1;32m      5\u001b[0m             response={\n",
            "\u001b[0;32m/usr/local/lib/python3.11/dist-packages/google/genai/chats.py\u001b[0m in \u001b[0;36msend_message\u001b[0;34m(self, message, config)\u001b[0m\n\u001b[1;32m     81\u001b[0m \u001b[0;34m\u001b[0m\u001b[0m\n\u001b[1;32m     82\u001b[0m     \u001b[0minput_content\u001b[0m \u001b[0;34m=\u001b[0m \u001b[0mt\u001b[0m\u001b[0;34m.\u001b[0m\u001b[0mt_content\u001b[0m\u001b[0;34m(\u001b[0m\u001b[0mself\u001b[0m\u001b[0;34m.\u001b[0m\u001b[0m_modules\u001b[0m\u001b[0;34m.\u001b[0m\u001b[0m_api_client\u001b[0m\u001b[0;34m,\u001b[0m \u001b[0mmessage\u001b[0m\u001b[0;34m)\u001b[0m\u001b[0;34m\u001b[0m\u001b[0;34m\u001b[0m\u001b[0m\n\u001b[0;32m---> 83\u001b[0;31m     response = self._modules.generate_content(\n\u001b[0m\u001b[1;32m     84\u001b[0m         \u001b[0mmodel\u001b[0m\u001b[0;34m=\u001b[0m\u001b[0mself\u001b[0m\u001b[0;34m.\u001b[0m\u001b[0m_model\u001b[0m\u001b[0;34m,\u001b[0m\u001b[0;34m\u001b[0m\u001b[0;34m\u001b[0m\u001b[0m\n\u001b[1;32m     85\u001b[0m         \u001b[0mcontents\u001b[0m\u001b[0;34m=\u001b[0m\u001b[0mself\u001b[0m\u001b[0;34m.\u001b[0m\u001b[0m_curated_history\u001b[0m \u001b[0;34m+\u001b[0m \u001b[0;34m[\u001b[0m\u001b[0minput_content\u001b[0m\u001b[0;34m]\u001b[0m\u001b[0;34m,\u001b[0m\u001b[0;34m\u001b[0m\u001b[0;34m\u001b[0m\u001b[0m\n",
            "\u001b[0;32m/usr/local/lib/python3.11/dist-packages/google/genai/models.py\u001b[0m in \u001b[0;36mgenerate_content\u001b[0;34m(self, model, contents, config)\u001b[0m\n\u001b[1;32m   4670\u001b[0m     \u001b[0;32mwhile\u001b[0m \u001b[0mremaining_remote_calls_afc\u001b[0m \u001b[0;34m>\u001b[0m \u001b[0;36m0\u001b[0m\u001b[0;34m:\u001b[0m\u001b[0;34m\u001b[0m\u001b[0;34m\u001b[0m\u001b[0m\n\u001b[1;32m   4671\u001b[0m       \u001b[0mi\u001b[0m \u001b[0;34m+=\u001b[0m \u001b[0;36m1\u001b[0m\u001b[0;34m\u001b[0m\u001b[0;34m\u001b[0m\u001b[0m\n\u001b[0;32m-> 4672\u001b[0;31m       response = self._generate_content(\n\u001b[0m\u001b[1;32m   4673\u001b[0m           \u001b[0mmodel\u001b[0m\u001b[0;34m=\u001b[0m\u001b[0mmodel\u001b[0m\u001b[0;34m,\u001b[0m \u001b[0mcontents\u001b[0m\u001b[0;34m=\u001b[0m\u001b[0mcontents\u001b[0m\u001b[0;34m,\u001b[0m \u001b[0mconfig\u001b[0m\u001b[0;34m=\u001b[0m\u001b[0mconfig\u001b[0m\u001b[0;34m\u001b[0m\u001b[0;34m\u001b[0m\u001b[0m\n\u001b[1;32m   4674\u001b[0m       )\n",
            "\u001b[0;32m/usr/local/lib/python3.11/dist-packages/google/genai/models.py\u001b[0m in \u001b[0;36m_generate_content\u001b[0;34m(self, model, contents, config)\u001b[0m\n\u001b[1;32m   3829\u001b[0m     \u001b[0mrequest_dict\u001b[0m \u001b[0;34m=\u001b[0m \u001b[0m_common\u001b[0m\u001b[0;34m.\u001b[0m\u001b[0mencode_unserializable_types\u001b[0m\u001b[0;34m(\u001b[0m\u001b[0mrequest_dict\u001b[0m\u001b[0;34m)\u001b[0m\u001b[0;34m\u001b[0m\u001b[0;34m\u001b[0m\u001b[0m\n\u001b[1;32m   3830\u001b[0m \u001b[0;34m\u001b[0m\u001b[0m\n\u001b[0;32m-> 3831\u001b[0;31m     response_dict = self._api_client.request(\n\u001b[0m\u001b[1;32m   3832\u001b[0m         \u001b[0;34m'post'\u001b[0m\u001b[0;34m,\u001b[0m \u001b[0mpath\u001b[0m\u001b[0;34m,\u001b[0m \u001b[0mrequest_dict\u001b[0m\u001b[0;34m,\u001b[0m \u001b[0mhttp_options\u001b[0m\u001b[0;34m\u001b[0m\u001b[0;34m\u001b[0m\u001b[0m\n\u001b[1;32m   3833\u001b[0m     )\n",
            "\u001b[0;32m/usr/local/lib/python3.11/dist-packages/google/genai/_api_client.py\u001b[0m in \u001b[0;36mrequest\u001b[0;34m(self, http_method, path, request_dict, http_options)\u001b[0m\n\u001b[1;32m    453\u001b[0m         \u001b[0mhttp_method\u001b[0m\u001b[0;34m,\u001b[0m \u001b[0mpath\u001b[0m\u001b[0;34m,\u001b[0m \u001b[0mrequest_dict\u001b[0m\u001b[0;34m,\u001b[0m \u001b[0mhttp_options\u001b[0m\u001b[0;34m\u001b[0m\u001b[0;34m\u001b[0m\u001b[0m\n\u001b[1;32m    454\u001b[0m     )\n\u001b[0;32m--> 455\u001b[0;31m     \u001b[0mresponse\u001b[0m \u001b[0;34m=\u001b[0m \u001b[0mself\u001b[0m\u001b[0;34m.\u001b[0m\u001b[0m_request\u001b[0m\u001b[0;34m(\u001b[0m\u001b[0mhttp_request\u001b[0m\u001b[0;34m,\u001b[0m \u001b[0mstream\u001b[0m\u001b[0;34m=\u001b[0m\u001b[0;32mFalse\u001b[0m\u001b[0;34m)\u001b[0m\u001b[0;34m\u001b[0m\u001b[0;34m\u001b[0m\u001b[0m\n\u001b[0m\u001b[1;32m    456\u001b[0m     \u001b[0mjson_response\u001b[0m \u001b[0;34m=\u001b[0m \u001b[0mresponse\u001b[0m\u001b[0;34m.\u001b[0m\u001b[0mjson\u001b[0m\u001b[0;34m\u001b[0m\u001b[0;34m\u001b[0m\u001b[0m\n\u001b[1;32m    457\u001b[0m     \u001b[0;32mif\u001b[0m \u001b[0;32mnot\u001b[0m \u001b[0mjson_response\u001b[0m\u001b[0;34m:\u001b[0m\u001b[0;34m\u001b[0m\u001b[0;34m\u001b[0m\u001b[0m\n",
            "\u001b[0;32m/usr/local/lib/python3.11/dist-packages/google/genai/_api_client.py\u001b[0m in \u001b[0;36m_request\u001b[0;34m(self, http_request, stream)\u001b[0m\n\u001b[1;32m    383\u001b[0m           \u001b[0mtimeout\u001b[0m\u001b[0;34m=\u001b[0m\u001b[0mhttp_request\u001b[0m\u001b[0;34m.\u001b[0m\u001b[0mtimeout\u001b[0m\u001b[0;34m,\u001b[0m\u001b[0;34m\u001b[0m\u001b[0;34m\u001b[0m\u001b[0m\n\u001b[1;32m    384\u001b[0m       )\n\u001b[0;32m--> 385\u001b[0;31m       \u001b[0merrors\u001b[0m\u001b[0;34m.\u001b[0m\u001b[0mAPIError\u001b[0m\u001b[0;34m.\u001b[0m\u001b[0mraise_for_response\u001b[0m\u001b[0;34m(\u001b[0m\u001b[0mresponse\u001b[0m\u001b[0;34m)\u001b[0m\u001b[0;34m\u001b[0m\u001b[0;34m\u001b[0m\u001b[0m\n\u001b[0m\u001b[1;32m    386\u001b[0m       return HttpResponse(\n\u001b[1;32m    387\u001b[0m           \u001b[0mresponse\u001b[0m\u001b[0;34m.\u001b[0m\u001b[0mheaders\u001b[0m\u001b[0;34m,\u001b[0m \u001b[0mresponse\u001b[0m \u001b[0;32mif\u001b[0m \u001b[0mstream\u001b[0m \u001b[0;32melse\u001b[0m \u001b[0;34m[\u001b[0m\u001b[0mresponse\u001b[0m\u001b[0;34m.\u001b[0m\u001b[0mtext\u001b[0m\u001b[0;34m]\u001b[0m\u001b[0;34m\u001b[0m\u001b[0;34m\u001b[0m\u001b[0m\n",
            "\u001b[0;32m/usr/local/lib/python3.11/dist-packages/google/genai/errors.py\u001b[0m in \u001b[0;36mraise_for_response\u001b[0;34m(cls, response)\u001b[0m\n\u001b[1;32m     98\u001b[0m     \u001b[0mstatus_code\u001b[0m \u001b[0;34m=\u001b[0m \u001b[0mresponse\u001b[0m\u001b[0;34m.\u001b[0m\u001b[0mstatus_code\u001b[0m\u001b[0;34m\u001b[0m\u001b[0;34m\u001b[0m\u001b[0m\n\u001b[1;32m     99\u001b[0m     \u001b[0;32mif\u001b[0m \u001b[0;36m400\u001b[0m \u001b[0;34m<=\u001b[0m \u001b[0mstatus_code\u001b[0m \u001b[0;34m<\u001b[0m \u001b[0;36m500\u001b[0m\u001b[0;34m:\u001b[0m\u001b[0;34m\u001b[0m\u001b[0;34m\u001b[0m\u001b[0m\n\u001b[0;32m--> 100\u001b[0;31m       \u001b[0;32mraise\u001b[0m \u001b[0mClientError\u001b[0m\u001b[0;34m(\u001b[0m\u001b[0mstatus_code\u001b[0m\u001b[0;34m,\u001b[0m \u001b[0mresponse\u001b[0m\u001b[0;34m)\u001b[0m\u001b[0;34m\u001b[0m\u001b[0;34m\u001b[0m\u001b[0m\n\u001b[0m\u001b[1;32m    101\u001b[0m     \u001b[0;32melif\u001b[0m \u001b[0;36m500\u001b[0m \u001b[0;34m<=\u001b[0m \u001b[0mstatus_code\u001b[0m \u001b[0;34m<\u001b[0m \u001b[0;36m600\u001b[0m\u001b[0;34m:\u001b[0m\u001b[0;34m\u001b[0m\u001b[0;34m\u001b[0m\u001b[0m\n\u001b[1;32m    102\u001b[0m       \u001b[0;32mraise\u001b[0m \u001b[0mServerError\u001b[0m\u001b[0;34m(\u001b[0m\u001b[0mstatus_code\u001b[0m\u001b[0;34m,\u001b[0m \u001b[0mresponse\u001b[0m\u001b[0;34m)\u001b[0m\u001b[0;34m\u001b[0m\u001b[0;34m\u001b[0m\u001b[0m\n",
            "\u001b[0;31mClientError\u001b[0m: 400 INVALID_ARGUMENT. {'error': {'code': 400, 'message': 'At most one tool is supported.', 'status': 'INVALID_ARGUMENT'}}"
          ]
        }
      ]
    },
    {
      "cell_type": "markdown",
      "source": [],
      "metadata": {
        "id": "HpGJl0_jM_R0"
      }
    }
  ],
  "metadata": {
    "colab": {
      "collapsed_sections": [
        "hIJVEr0RQY8S",
        "rZV2TY5Pa3Dd",
        "hYKAzG1sH-K1",
        "mSUWWlrrlR-D",
        "h4syyLEClGcn"
      ],
      "provenance": [],
      "include_colab_link": true
    },
    "kernelspec": {
      "display_name": "Python 3",
      "name": "python3"
    }
  },
  "nbformat": 4,
  "nbformat_minor": 0
}